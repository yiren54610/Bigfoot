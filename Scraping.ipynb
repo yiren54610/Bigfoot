{
 "cells": [
  {
   "cell_type": "code",
   "execution_count": 432,
   "id": "8d643af1-3922-4e91-8d35-25df5d1e6871",
   "metadata": {},
   "outputs": [],
   "source": [
    "from bs4 import BeautifulSoup"
   ]
  },
  {
   "cell_type": "code",
   "execution_count": 433,
   "id": "ab78eff4-691c-4bb3-bbda-df19df07662b",
   "metadata": {},
   "outputs": [],
   "source": [
    "import pandas as pd"
   ]
  },
  {
   "cell_type": "code",
   "execution_count": 434,
   "id": "bd5ddeba-269b-4e75-b396-678cb6dc8a48",
   "metadata": {},
   "outputs": [],
   "source": [
    "import re"
   ]
  },
  {
   "cell_type": "code",
   "execution_count": 435,
   "id": "b4e44543-ca8b-4c3f-9b40-6a0ec510875b",
   "metadata": {},
   "outputs": [],
   "source": [
    "import requests"
   ]
  },
  {
   "cell_type": "code",
   "execution_count": 436,
   "id": "4130e8d2-4081-4361-9fce-b4604fb2b932",
   "metadata": {},
   "outputs": [],
   "source": [
    "url = \"https://www.bfro.net/gdb/\"\n",
    "raw_html = requests.get(url).content"
   ]
  },
  {
   "cell_type": "code",
   "execution_count": 437,
   "id": "4dd8ecb7-2278-4803-97ff-2e1e700d245a",
   "metadata": {},
   "outputs": [],
   "source": [
    "page = BeautifulSoup(raw_html, 'html.parser')"
   ]
  },
  {
   "cell_type": "code",
   "execution_count": 438,
   "id": "069de0c2-00d8-4151-a26e-1df3c58b2b71",
   "metadata": {},
   "outputs": [],
   "source": [
    "us_table = page.find_all('table')"
   ]
  },
  {
   "cell_type": "code",
   "execution_count": 439,
   "id": "2d53293d-ebff-4069-914a-65ba1cc46156",
   "metadata": {},
   "outputs": [],
   "source": [
    "table_content = us_table[0].find_all('table')[2:]"
   ]
  },
  {
   "cell_type": "code",
   "execution_count": 441,
   "id": "e3661d11-3faa-4e3d-acdb-785c6004aaa6",
   "metadata": {},
   "outputs": [],
   "source": [
    "data = []\n",
    "base = 'https://www.bfro.net'\n",
    "for tables in table_content[1:]:\n",
    "    rows = tables.find_all('tr')[1:]\n",
    "    for row in rows:\n",
    "        cols = row.find_all('td')\n",
    "        state = cols[0].text.strip()\n",
    "        a_tag = cols[0].find('a')\n",
    "        link = base + a_tag['href'] if a_tag else None\n",
    "        num_listings = cols[1].text.strip()\n",
    "        most_recent_report = cols[2].text.strip()\n",
    "        last_posted = cols[3].text.strip()\n",
    "        data.append([state, num_listings, most_recent_report, last_posted,link])"
   ]
  },
  {
   "cell_type": "code",
   "execution_count": 442,
   "id": "b881bb16-0209-499d-9194-a0bcdd157fda",
   "metadata": {},
   "outputs": [],
   "source": [
    "df = pd.DataFrame(data, columns=[\"State/Province\", \"# of Listings\", \"Most Recent Report\", \"Last Posted\",\"Link\"])"
   ]
  },
  {
   "cell_type": "markdown",
   "id": "6800fe64-0ca3-443b-9f1d-a097372a9cca",
   "metadata": {},
   "source": [
    "# GoogleGeoAPI to find the coordinate"
   ]
  },
  {
   "cell_type": "code",
   "execution_count": 443,
   "id": "749ca7c0-44c3-4a5e-973a-35b52318ecf0",
   "metadata": {},
   "outputs": [],
   "source": [
    "import time"
   ]
  },
  {
   "cell_type": "code",
   "execution_count": 444,
   "id": "0df0c4c8-e8ca-425b-9dcc-edffefc647e1",
   "metadata": {},
   "outputs": [
    {
     "data": {
      "text/plain": [
       "True"
      ]
     },
     "execution_count": 444,
     "metadata": {},
     "output_type": "execute_result"
    }
   ],
   "source": [
    "from dotenv import load_dotenv\n",
    "load_dotenv()"
   ]
  },
  {
   "cell_type": "code",
   "execution_count": 445,
   "id": "9039da08-1697-4d4e-be99-c46480bd1fe2",
   "metadata": {},
   "outputs": [],
   "source": [
    "import os\n",
    "api_key = os.environ.get('GMAP_API')"
   ]
  },
  {
   "cell_type": "code",
   "execution_count": 446,
   "id": "a812460c-ca01-4c56-acdf-2d55697fafc5",
   "metadata": {},
   "outputs": [],
   "source": [
    "placeNames = df['State/Province']"
   ]
  },
  {
   "cell_type": "code",
   "execution_count": 447,
   "id": "fc9cc916-7aa0-4ae5-bf54-579c33653039",
   "metadata": {},
   "outputs": [],
   "source": [
    "url = 'https://maps.googleapis.com/maps/api/geocode/json'\n",
    "keys = {'address': 'Alaska', 'key': api_key}\n",
    "r = requests.get(url,params=keys)\n",
    "result_dic = r.json()"
   ]
  },
  {
   "cell_type": "code",
   "execution_count": 448,
   "id": "a60718c4-4dfb-4c65-b65f-664691c2bc23",
   "metadata": {},
   "outputs": [
    {
     "name": "stdout",
     "output_type": "stream",
     "text": [
      "No results found. Check your query or API key.\n",
      "No results found. Check your query or API key.\n",
      "No results found. Check your query or API key.\n",
      "No results found. Check your query or API key.\n",
      "No results found. Check your query or API key.\n",
      "No results found. Check your query or API key.\n"
     ]
    }
   ],
   "source": [
    "geometry_df = []\n",
    "#looping through the placeNames list\n",
    "for place in placeNames:\n",
    "    url = 'https://maps.googleapis.com/maps/api/geocode/json'\n",
    "    keys = {'address': place, 'key': api_key}\n",
    "    r = requests.get(url,params=keys)\n",
    "    result_dic = r.json()\n",
    "    if 'results' in result_dic and len(result_dic['results']) > 0:\n",
    "        lat = result_dic['results'][0]['geometry']['location']['lat']\n",
    "        long = result_dic['results'][0]['geometry']['location']['lng']\n",
    "        coords = []\n",
    "        coords.append(long)\n",
    "        coords.append(lat)\n",
    "        mygeometry = {'place': place, 'geometry.type': 'Point','geometry.coordinates':coords,'lat':lat,'long':long}\n",
    "        geometry_df.append(mygeometry)\n",
    "    else:\n",
    "        print(\"No results found. Check your query or API key.\")\n",
    "    continue\n",
    "    time.sleep(0.5)"
   ]
  },
  {
   "cell_type": "code",
   "execution_count": 449,
   "id": "f8023d69-81de-45b5-bdbb-fd76483535bb",
   "metadata": {},
   "outputs": [],
   "source": [
    "geometry = pd.DataFrame(geometry_df)"
   ]
  },
  {
   "cell_type": "code",
   "execution_count": 450,
   "id": "566119e7-6e25-4551-800b-2cefb7ad874a",
   "metadata": {},
   "outputs": [
    {
     "data": {
      "text/html": [
       "<div>\n",
       "<style scoped>\n",
       "    .dataframe tbody tr th:only-of-type {\n",
       "        vertical-align: middle;\n",
       "    }\n",
       "\n",
       "    .dataframe tbody tr th {\n",
       "        vertical-align: top;\n",
       "    }\n",
       "\n",
       "    .dataframe thead th {\n",
       "        text-align: right;\n",
       "    }\n",
       "</style>\n",
       "<table border=\"1\" class=\"dataframe\">\n",
       "  <thead>\n",
       "    <tr style=\"text-align: right;\">\n",
       "      <th></th>\n",
       "      <th>place</th>\n",
       "      <th>geometry.type</th>\n",
       "      <th>geometry.coordinates</th>\n",
       "      <th>lat</th>\n",
       "      <th>long</th>\n",
       "    </tr>\n",
       "  </thead>\n",
       "  <tbody>\n",
       "    <tr>\n",
       "      <th>0</th>\n",
       "      <td>Alaska</td>\n",
       "      <td>Point</td>\n",
       "      <td>[-154.4930619, 63.588753]</td>\n",
       "      <td>63.588753</td>\n",
       "      <td>-154.493062</td>\n",
       "    </tr>\n",
       "    <tr>\n",
       "      <th>1</th>\n",
       "      <td>Alabama</td>\n",
       "      <td>Point</td>\n",
       "      <td>[-86.902298, 32.3182314]</td>\n",
       "      <td>32.318231</td>\n",
       "      <td>-86.902298</td>\n",
       "    </tr>\n",
       "    <tr>\n",
       "      <th>2</th>\n",
       "      <td>Arkansas</td>\n",
       "      <td>Point</td>\n",
       "      <td>[-91.8318334, 35.20105]</td>\n",
       "      <td>35.201050</td>\n",
       "      <td>-91.831833</td>\n",
       "    </tr>\n",
       "    <tr>\n",
       "      <th>3</th>\n",
       "      <td>Arizona</td>\n",
       "      <td>Point</td>\n",
       "      <td>[-111.0937311, 34.0489281]</td>\n",
       "      <td>34.048928</td>\n",
       "      <td>-111.093731</td>\n",
       "    </tr>\n",
       "    <tr>\n",
       "      <th>4</th>\n",
       "      <td>California</td>\n",
       "      <td>Point</td>\n",
       "      <td>[-119.4179324, 36.778261]</td>\n",
       "      <td>36.778261</td>\n",
       "      <td>-119.417932</td>\n",
       "    </tr>\n",
       "  </tbody>\n",
       "</table>\n",
       "</div>"
      ],
      "text/plain": [
       "        place geometry.type        geometry.coordinates        lat        long\n",
       "0      Alaska         Point   [-154.4930619, 63.588753]  63.588753 -154.493062\n",
       "1     Alabama         Point    [-86.902298, 32.3182314]  32.318231  -86.902298\n",
       "2    Arkansas         Point     [-91.8318334, 35.20105]  35.201050  -91.831833\n",
       "3     Arizona         Point  [-111.0937311, 34.0489281]  34.048928 -111.093731\n",
       "4  California         Point   [-119.4179324, 36.778261]  36.778261 -119.417932"
      ]
     },
     "execution_count": 450,
     "metadata": {},
     "output_type": "execute_result"
    }
   ],
   "source": [
    "geometry.head()"
   ]
  },
  {
   "cell_type": "code",
   "execution_count": 451,
   "id": "1a91a851-73f6-425e-a280-89d8529ebe4c",
   "metadata": {},
   "outputs": [],
   "source": [
    "geometry.to_csv('Bigfoot_geo.csv',index=False)"
   ]
  },
  {
   "cell_type": "code",
   "execution_count": 452,
   "id": "77c59d45-b6c4-4fbf-97a7-1e22c3a53bb5",
   "metadata": {},
   "outputs": [],
   "source": [
    "merged = df.merge(geometry, left_on='State/Province', right_on='place')"
   ]
  },
  {
   "cell_type": "code",
   "execution_count": 459,
   "id": "2591ed33-a66c-432c-8ca5-c4088ff777b0",
   "metadata": {},
   "outputs": [],
   "source": [
    "# Convert lists to tuples in the problematic column(s)\n",
    "merged['geometry.coordinates'] = merged['geometry.coordinates'].apply(tuple)\n",
    "\n",
    "merged = merged.drop_duplicates()"
   ]
  },
  {
   "cell_type": "code",
   "execution_count": 460,
   "id": "ba18b2ef-ad42-4009-9dff-b993fc4d6d92",
   "metadata": {},
   "outputs": [],
   "source": [
    "merged.to_csv('geo_coord.csv')"
   ]
  },
  {
   "cell_type": "code",
   "execution_count": 461,
   "id": "48a7931b-f17e-4176-b9f2-2204513170ae",
   "metadata": {},
   "outputs": [],
   "source": [
    "d_sighting = merged[['State/Province','# of Listings','lat','long']]"
   ]
  },
  {
   "cell_type": "code",
   "execution_count": 462,
   "id": "a658797f-9fb0-4b59-9466-2e25413786d7",
   "metadata": {},
   "outputs": [],
   "source": [
    "d_sighting.to_clipboard()"
   ]
  },
  {
   "cell_type": "markdown",
   "id": "126b8fbe-b627-43e9-900c-beafbed98ed5",
   "metadata": {},
   "source": [
    "# Scrape County level data for US"
   ]
  },
  {
   "cell_type": "code",
   "execution_count": 92,
   "id": "5ecef8e5-23c9-425d-be87-adf05c1b849d",
   "metadata": {},
   "outputs": [],
   "source": [
    "us_states = merged[:49]"
   ]
  },
  {
   "cell_type": "code",
   "execution_count": 106,
   "id": "fc93a893-7565-44ab-b7fb-d515fddf187d",
   "metadata": {},
   "outputs": [],
   "source": [
    "data = []\n",
    "base = 'https://www.bfro.net/GDB/'\n",
    "for url in us_states['Link']:\n",
    "    raw_html = requests.get(url).content\n",
    "    html = BeautifulSoup(raw_html,'html.parser')\n",
    "    counties = html.find_all('table')[3].find_all('table')[1].find_all('tr')[0]\n",
    "    for c in counties:\n",
    "        rows = counties.find_all('tr')[1:]\n",
    "        for row in rows:\n",
    "            cols = row.find_all('td')\n",
    "            if len(cols) <4:\n",
    "                continue\n",
    "            county_tag = cols[0].find('a')\n",
    "            if county_tag:\n",
    "                county = county_tag.text\n",
    "                link = base+county_tag.get('href')\n",
    "            else:\n",
    "                county = cols[0].text.strip()\n",
    "                link = None\n",
    "    \n",
    "            num_listings = cols[1].text.strip()\n",
    "            most_recent_report = cols[2].text.strip()\n",
    "            last_posted = cols[3].text.strip()\n",
    "            data.append([county, num_listings, most_recent_report, last_posted,link])"
   ]
  },
  {
   "cell_type": "code",
   "execution_count": 107,
   "id": "66dbdc51-218e-4ce6-a3df-c23dad312053",
   "metadata": {},
   "outputs": [
    {
     "data": {
      "text/html": [
       "<div>\n",
       "<style scoped>\n",
       "    .dataframe tbody tr th:only-of-type {\n",
       "        vertical-align: middle;\n",
       "    }\n",
       "\n",
       "    .dataframe tbody tr th {\n",
       "        vertical-align: top;\n",
       "    }\n",
       "\n",
       "    .dataframe thead th {\n",
       "        text-align: right;\n",
       "    }\n",
       "</style>\n",
       "<table border=\"1\" class=\"dataframe\">\n",
       "  <thead>\n",
       "    <tr style=\"text-align: right;\">\n",
       "      <th></th>\n",
       "      <th>Counties</th>\n",
       "      <th># of Listings</th>\n",
       "      <th>Most Recent Report</th>\n",
       "      <th>Last Posted</th>\n",
       "      <th>Link</th>\n",
       "    </tr>\n",
       "  </thead>\n",
       "  <tbody>\n",
       "    <tr>\n",
       "      <th>0</th>\n",
       "      <td>Aleutian Islands East</td>\n",
       "      <td></td>\n",
       "      <td></td>\n",
       "      <td></td>\n",
       "      <td>None</td>\n",
       "    </tr>\n",
       "    <tr>\n",
       "      <th>1</th>\n",
       "      <td>Aleutian Islands West</td>\n",
       "      <td></td>\n",
       "      <td></td>\n",
       "      <td></td>\n",
       "      <td>None</td>\n",
       "    </tr>\n",
       "    <tr>\n",
       "      <th>2</th>\n",
       "      <td>Anchorage</td>\n",
       "      <td>2</td>\n",
       "      <td>2-2004</td>\n",
       "      <td>11-2005</td>\n",
       "      <td>https://www.bfro.net/GDB/show_county_reports.a...</td>\n",
       "    </tr>\n",
       "    <tr>\n",
       "      <th>3</th>\n",
       "      <td>Angoon</td>\n",
       "      <td></td>\n",
       "      <td></td>\n",
       "      <td></td>\n",
       "      <td>None</td>\n",
       "    </tr>\n",
       "    <tr>\n",
       "      <th>4</th>\n",
       "      <td>Barrow</td>\n",
       "      <td></td>\n",
       "      <td></td>\n",
       "      <td></td>\n",
       "      <td>None</td>\n",
       "    </tr>\n",
       "  </tbody>\n",
       "</table>\n",
       "</div>"
      ],
      "text/plain": [
       "                Counties # of Listings Most Recent Report Last Posted  \\\n",
       "0  Aleutian Islands East                                                \n",
       "1  Aleutian Islands West                                                \n",
       "2              Anchorage             2             2-2004     11-2005   \n",
       "3                 Angoon                                                \n",
       "4                 Barrow                                                \n",
       "\n",
       "                                                Link  \n",
       "0                                               None  \n",
       "1                                               None  \n",
       "2  https://www.bfro.net/GDB/show_county_reports.a...  \n",
       "3                                               None  \n",
       "4                                               None  "
      ]
     },
     "execution_count": 107,
     "metadata": {},
     "output_type": "execute_result"
    }
   ],
   "source": [
    "us_counties = pd.DataFrame(data,columns=[\"Counties\", \"# of Listings\", \"Most Recent Report\", \"Last Posted\",\"Link\"])\n",
    "us_counties.head()"
   ]
  },
  {
   "cell_type": "code",
   "execution_count": 137,
   "id": "dea97a0d-dfb6-4aeb-a00e-0cf3e46ccef9",
   "metadata": {},
   "outputs": [],
   "source": [
    "us_counties.to_csv('us_counties.csv',index= False)"
   ]
  },
  {
   "cell_type": "markdown",
   "id": "1b489a13-20f5-47c8-bf2a-e1e93be99f66",
   "metadata": {},
   "source": [
    "# Scrape Class A/B "
   ]
  },
  {
   "cell_type": "code",
   "execution_count": 140,
   "id": "fc6176bd-3aa0-4ec7-b3c4-e1bb2f5ee738",
   "metadata": {},
   "outputs": [],
   "source": [
    "url = 'https://www.bfro.net/GDB/show_county_reports.asp?state=ak&county=Prince+of+Wales'\n",
    "raw_html = requests.get(url).content\n",
    "html = BeautifulSoup(raw_html,'html.parser')"
   ]
  },
  {
   "cell_type": "code",
   "execution_count": 141,
   "id": "2f13588a-00d1-48c5-a2e1-236668ba708d",
   "metadata": {},
   "outputs": [],
   "source": [
    "county = html.find('h2').text"
   ]
  },
  {
   "cell_type": "code",
   "execution_count": 143,
   "id": "5e9edb74-203b-40e3-81b6-559373d7793d",
   "metadata": {},
   "outputs": [
    {
     "name": "stdout",
     "output_type": "stream",
     "text": [
      "Prince of Wales Borough, Alaska\n"
     ]
    }
   ],
   "source": [
    "print(county)"
   ]
  },
  {
   "cell_type": "code",
   "execution_count": 112,
   "id": "79ee115d-da84-4660-99ce-8a3a6f01d7fd",
   "metadata": {},
   "outputs": [
    {
     "data": {
      "text/plain": [
       "[<li class=\"spaced\"><span class=\"reportcaption\"><b><a href=\"show_report.asp?id=7963\">February 2004</a></b></span> <span class=\"highlighted\">(Class A)</span><span class=\"reportcaption\"> - Sasquatch walks past window of house at night</span>\n",
       " <li class=\"spaced\"><span class=\"reportcaption\"><b><a href=\"show_report.asp?id=8797\">May 2001</a></b></span> <span class=\"highlighted\">(Class B)</span><span class=\"reportcaption\"> - Two boys find footprints on Harris River bank</span>\n",
       " <li class=\"spaced\"><span class=\"reportcaption\"><b><a href=\"show_report.asp?id=2917\">Spring 1995</a></b></span> <span class=\"highlighted\">(Class A)</span><span class=\"reportcaption\"> - Family observes large biped from car</span>\n",
       " </li></li></li>,\n",
       " <li class=\"spaced\"><span class=\"reportcaption\"><b><a href=\"show_report.asp?id=8797\">May 2001</a></b></span> <span class=\"highlighted\">(Class B)</span><span class=\"reportcaption\"> - Two boys find footprints on Harris River bank</span>\n",
       " <li class=\"spaced\"><span class=\"reportcaption\"><b><a href=\"show_report.asp?id=2917\">Spring 1995</a></b></span> <span class=\"highlighted\">(Class A)</span><span class=\"reportcaption\"> - Family observes large biped from car</span>\n",
       " </li></li>,\n",
       " <li class=\"spaced\"><span class=\"reportcaption\"><b><a href=\"show_report.asp?id=2917\">Spring 1995</a></b></span> <span class=\"highlighted\">(Class A)</span><span class=\"reportcaption\"> - Family observes large biped from car</span>\n",
       " </li>]"
      ]
     },
     "execution_count": 112,
     "metadata": {},
     "output_type": "execute_result"
    }
   ],
   "source": [
    "incidents = html.find('ul').find_all('li')\n",
    "incidents"
   ]
  },
  {
   "cell_type": "code",
   "execution_count": 476,
   "id": "60b22ad2-b603-4799-8ca8-14a04d95bca9",
   "metadata": {},
   "outputs": [],
   "source": [
    "counties = us_counties.dropna()['Link']"
   ]
  },
  {
   "cell_type": "code",
   "execution_count": 477,
   "id": "bf609502-08c5-49eb-b5df-98b59c712800",
   "metadata": {},
   "outputs": [
    {
     "name": "stdout",
     "output_type": "stream",
     "text": [
      "<li class=\"spaced\"><span class=\"reportcaption\"><b><a href=\"show_article.asp?id=576\" ttarget=\"_blank\">Hairy Wild Man Sought In Swamp</a></b></span><span class=\"reportcaption\"> (15-Apr-1938; The Oshkosh Northwestern)</span></li> not found.\n",
      "<li class=\"spaced\"><span class=\"reportcaption\"><b><a href=\"show_article.asp?id=576\" ttarget=\"_blank\">Hairy Wild Man Sought In Swamp</a></b></span><span class=\"reportcaption\"> (15-Apr-1938; The Oshkosh Northwestern)</span></li> not found.\n",
      "<li class=\"spaced\"><span class=\"reportcaption\"><b><a href=\"show_article.asp?id=709\" ttarget=\"_blank\">The Legend of the Skunk Ape</a></b></span><span class=\"reportcaption\"> (24-May-2014; WCJB - ABC News)</span></li> not found.\n",
      "<li class=\"spaced\"><span class=\"reportcaption\"><b><a href=\"show_article.asp?id=709\" ttarget=\"_blank\">The Legend of the Skunk Ape</a></b></span><span class=\"reportcaption\"> (24-May-2014; WCJB - ABC News)</span></li> not found.\n",
      "<li class=\"spaced\"><span class=\"reportcaption\"><b><a href=\"show_article.asp?id=711\" ttarget=\"_blank\">In Search of the Skunk Ape</a></b></span><span class=\"reportcaption\"> (2-May-2010; The Valdosta Daily Times)</span></li> not found.\n",
      "<li class=\"spaced\"><span class=\"reportcaption\"><b><a href=\"show_article.asp?id=363\" ttarget=\"_blank\">Tales of Bigfoot legend include sightings in Georgia - even Clarke County</a></b></span><span class=\"reportcaption\"> (13-Dec-2003; Athens Banner-Herald)</span></li> not found.\n",
      "<li class=\"spaced\"><span class=\"reportcaption\"><b><a href=\"show_article.asp?id=626\" ttarget=\"_blank\"> Bigfoot sighting' lures TV network</a></b></span><span class=\"reportcaption\"> (26-Jan-2011; The Dahlonega Nugget)</span></li> not found.\n",
      "<li class=\"spaced\"><span class=\"reportcaption\"><b><a href=\"show_article.asp?id=711\" ttarget=\"_blank\">In Search of the Skunk Ape</a></b></span><span class=\"reportcaption\"> (2-May-2010; The Valdosta Daily Times)</span></li> not found.\n",
      "<li class=\"spaced\"><span class=\"reportcaption\"><b><a href=\"show_article.asp?id=363\" ttarget=\"_blank\">Tales of Bigfoot legend include sightings in Georgia - even Clarke County</a></b></span><span class=\"reportcaption\"> (13-Dec-2003; Athens Banner-Herald)</span></li> not found.\n",
      "<li class=\"spaced\"><span class=\"reportcaption\"><b><a href=\"show_article.asp?id=626\" ttarget=\"_blank\"> Bigfoot sighting' lures TV network</a></b></span><span class=\"reportcaption\"> (26-Jan-2011; The Dahlonega Nugget)</span></li> not found.\n",
      "<li class=\"spaced\"><span class=\"reportcaption\"><b><a href=\"show_article.asp?id=381\" ttarget=\"_blank\">Did 'mean-looking' animal leave Bigfoot-like prints?</a></b></span><span class=\"reportcaption\"> (6-Feb-1980; Des Moines Register)</span></li> not found.\n",
      "<li class=\"spaced\"><span class=\"reportcaption\"><b><a href=\"show_article.asp?id=746\" ttarget=\"_blank\">Tall Hairy Creature Startles Fisherman</a></b></span><span class=\"reportcaption\"> (2-Jun-2018; Okaloosa News)</span></li> not found.\n",
      "<li class=\"spaced\"><span class=\"reportcaption\"><b><a href=\"show_article.asp?id=381\" ttarget=\"_blank\">Did 'mean-looking' animal leave Bigfoot-like prints?</a></b></span><span class=\"reportcaption\"> (6-Feb-1980; Des Moines Register)</span></li> not found.\n",
      "<li class=\"spaced\"><span class=\"reportcaption\"><b><a href=\"show_article.asp?id=746\" ttarget=\"_blank\">Tall Hairy Creature Startles Fisherman</a></b></span><span class=\"reportcaption\"> (2-Jun-2018; Okaloosa News)</span></li> not found.\n",
      "<li class=\"spaced\"><span class=\"reportcaption\"><b><a href=\"show_article.asp?id=570\" ttarget=\"_blank\">An Idaho Story</a></b></span><span class=\"reportcaption\"> (29-Jan-1902; Dubuque Telegraph-Herald)</span></li> not found.\n",
      "<li class=\"spaced\"><span class=\"reportcaption\"><b><a href=\"show_article.asp?id=15\" ttarget=\"_blank\">Two Vicarious Cow Boys See and Chase the Solitary Savage of Snake River</a></b></span><span class=\"reportcaption\"> (1-Nov-1882; (Ft. Benton) River Press,Nov 1 1882)</span></li> not found.\n",
      "<li class=\"spaced\"><span class=\"reportcaption\"><b><a href=\"show_article.asp?id=570\" ttarget=\"_blank\">An Idaho Story</a></b></span><span class=\"reportcaption\"> (29-Jan-1902; Dubuque Telegraph-Herald)</span></li> not found.\n",
      "<li class=\"spaced\"><span class=\"reportcaption\"><b><a href=\"show_article.asp?id=15\" ttarget=\"_blank\">Two Vicarious Cow Boys See and Chase the Solitary Savage of Snake River</a></b></span><span class=\"reportcaption\"> (1-Nov-1882; (Ft. Benton) River Press,Nov 1 1882)</span></li> not found.\n",
      "<li class=\"spaced\"><span class=\"reportcaption\"><b><a href=\"show_article.asp?id=424\" ttarget=\"_blank\">Wildman Lives Alone In Cave</a></b></span><span class=\"reportcaption\"> (2-Feb-1922; New Oxford Item (Pennsylvania))</span></li> not found.\n",
      "<li class=\"spaced\"><span class=\"reportcaption\"><b><a href=\"show_article.asp?id=425\" ttarget=\"_blank\">Creatures Not New</a></b></span><span class=\"reportcaption\"> (2-Aug-1972; Decatur Review)</span></li> not found.\n",
      "<li class=\"spaced\"><span class=\"reportcaption\"><b><a href=\"show_article.asp?id=593\" ttarget=\"_blank\">Illinois Village Now Engaged In Big Gorilla Hunt</a></b></span><span class=\"reportcaption\"> (26-Jul-1929; Middlesboro (KY) Daily News)</span></li> not found.\n",
      "<li class=\"spaced\"><span class=\"reportcaption\"><b><a href=\"show_article.asp?id=430\" ttarget=\"_blank\">Monster Sighted Near Kickapoo </a></b></span><span class=\"reportcaption\"> (9-Aug-1970; Champaign-Urbana  -  News Gazette )</span></li> not found.\n",
      "<li class=\"spaced\"><span class=\"reportcaption\"><b><a href=\"show_article.asp?id=424\" ttarget=\"_blank\">Wildman Lives Alone In Cave</a></b></span><span class=\"reportcaption\"> (2-Feb-1922; New Oxford Item (Pennsylvania))</span></li> not found.\n",
      "<li class=\"spaced\"><span class=\"reportcaption\"><b><a href=\"show_article.asp?id=425\" ttarget=\"_blank\">Creatures Not New</a></b></span><span class=\"reportcaption\"> (2-Aug-1972; Decatur Review)</span></li> not found.\n",
      "<li class=\"spaced\"><span class=\"reportcaption\"><b><a href=\"show_article.asp?id=593\" ttarget=\"_blank\">Illinois Village Now Engaged In Big Gorilla Hunt</a></b></span><span class=\"reportcaption\"> (26-Jul-1929; Middlesboro (KY) Daily News)</span></li> not found.\n",
      "<li class=\"spaced\"><span class=\"reportcaption\"><b><a href=\"show_article.asp?id=430\" ttarget=\"_blank\">Monster Sighted Near Kickapoo </a></b></span><span class=\"reportcaption\"> (9-Aug-1970; Champaign-Urbana  -  News Gazette )</span></li> not found.\n",
      "<li class=\"spaced\"><span class=\"reportcaption\"><b><a href=\"show_article.asp?id=202\" ttarget=\"_blank\">White River Encounters: Area Residents See \"Something Big and Hairy\"</a></b></span><span class=\"reportcaption\"> (6-Oct-1981; The Valley Advance)</span></li> not found.\n",
      "<li class=\"spaced\"><span class=\"reportcaption\"><b><a href=\"show_article.asp?id=203\" ttarget=\"_blank\">Unusual Encounter with Large Hairy Animal </a></b></span><span class=\"reportcaption\"> (1-May-1980; Creature Cronicles)</span></li> not found.\n",
      "<li class=\"spaced\"><span class=\"reportcaption\"><b><a href=\"show_article.asp?id=202\" ttarget=\"_blank\">White River Encounters: Area Residents See \"Something Big and Hairy\"</a></b></span><span class=\"reportcaption\"> (6-Oct-1981; The Valley Advance)</span></li> not found.\n",
      "<li class=\"spaced\"><span class=\"reportcaption\"><b><a href=\"show_article.asp?id=203\" ttarget=\"_blank\">Unusual Encounter with Large Hairy Animal </a></b></span><span class=\"reportcaption\"> (1-May-1980; Creature Cronicles)</span></li> not found.\n",
      "<li class=\"spaced\"><span class=\"reportcaption\"><b><a href=\"show_article.asp?id=80\" ttarget=\"_blank\">Hairy 'Wild Family' Seen, Captured</a></b></span><span class=\"reportcaption\"> (5-Sep-1886; The New York Times)</span></li> not found.\n",
      "<li class=\"spaced\"><span class=\"reportcaption\"><b><a href=\"show_article.asp?id=80\" ttarget=\"_blank\">Hairy 'Wild Family' Seen, Captured</a></b></span><span class=\"reportcaption\"> (5-Sep-1886; The New York Times)</span></li> not found.\n",
      "<li class=\"spaced\"><span class=\"reportcaption\"><b><a href=\"show_article.asp?id=583\" ttarget=\"_blank\">Bigfoot sightings keep the legend alive in Michigan</a></b></span><span class=\"reportcaption\"> (13-Mar-2009; Bay City Opinion)</span></li> not found.\n",
      "<li class=\"spaced\"><span class=\"reportcaption\"><b><a href=\"show_article.asp?id=587\" ttarget=\"_blank\">Bigfoot: Legend or ...</a></b></span><span class=\"reportcaption\"> (30-Oct-2009; Petoskeynews.com)</span></li> not found.\n",
      "<li class=\"spaced\"><span class=\"reportcaption\"><b><a href=\"show_article.asp?id=583\" ttarget=\"_blank\">Bigfoot sightings keep the legend alive in Michigan</a></b></span><span class=\"reportcaption\"> (13-Mar-2009; Bay City Opinion)</span></li> not found.\n",
      "<li class=\"spaced\"><span class=\"reportcaption\"><b><a href=\"show_article.asp?id=587\" ttarget=\"_blank\">Bigfoot: Legend or ...</a></b></span><span class=\"reportcaption\"> (30-Oct-2009; Petoskeynews.com)</span></li> not found.\n",
      "<li class=\"spaced\"><span class=\"reportcaption\"><b><a href=\"show_article.asp?id=82\" ttarget=\"_blank\">'Hairy Creature' Is Being Sought </a></b></span><span class=\"reportcaption\"> (20-Jan-1977; Arkansas Gazette)</span></li> not found.\n",
      "<li class=\"spaced\"><span class=\"reportcaption\"><b><a href=\"show_article.asp?id=727\" ttarget=\"_blank\">\"Big, Hairy Monster\" has Little River Town Excited</a></b></span><span class=\"reportcaption\"> (28-Jul-1972; Tallahassee Democrat)</span></li> not found.\n",
      "<li class=\"spaced\"><span class=\"reportcaption\"><b><a href=\"show_article.asp?id=82\" ttarget=\"_blank\">'Hairy Creature' Is Being Sought </a></b></span><span class=\"reportcaption\"> (20-Jan-1977; Arkansas Gazette)</span></li> not found.\n",
      "<li class=\"spaced\"><span class=\"reportcaption\"><b><a href=\"show_article.asp?id=727\" ttarget=\"_blank\">\"Big, Hairy Monster\" has Little River Town Excited</a></b></span><span class=\"reportcaption\"> (28-Jul-1972; Tallahassee Democrat)</span></li> not found.\n",
      "<li class=\"spaced\"><span class=\"reportcaption\"><b><a href=\"show_article.asp?id=734\" ttarget=\"_blank\">\"Bigfoot\" Type Creature Seen Near Nuke Site</a></b></span><span class=\"reportcaption\"> (22-Jan-1980; Fort Myers News Press)</span></li> not found.\n",
      "<li class=\"spaced\"><span class=\"reportcaption\"><b><a href=\"show_article.asp?id=734\" ttarget=\"_blank\">\"Bigfoot\" Type Creature Seen Near Nuke Site</a></b></span><span class=\"reportcaption\"> (22-Jan-1980; Fort Myers News Press)</span></li> not found.\n",
      "<li class=\"spaced\"><span class=\"reportcaption\"><b><a href=\"show_article.asp?id=81\" ttarget=\"_blank\">Another Wonder</a></b></span><span class=\"reportcaption\"> (6-Sep-1818; Exeter Watchman )</span></li> not found.\n",
      "<li class=\"spaced\"><span class=\"reportcaption\"><b><a href=\"show_article.asp?id=406\" ttarget=\"_blank\">Trashquatch - The Hunt for Staten Island's Bigfoot</a></b></span><span class=\"reportcaption\"> (29-Apr-2003; New York Press)</span></li> not found.\n",
      "<li class=\"spaced\"><span class=\"reportcaption\"><b><a href=\"show_article.asp?id=81\" ttarget=\"_blank\">Another Wonder</a></b></span><span class=\"reportcaption\"> (6-Sep-1818; Exeter Watchman )</span></li> not found.\n",
      "<li class=\"spaced\"><span class=\"reportcaption\"><b><a href=\"show_article.asp?id=406\" ttarget=\"_blank\">Trashquatch - The Hunt for Staten Island's Bigfoot</a></b></span><span class=\"reportcaption\"> (29-Apr-2003; New York Press)</span></li> not found.\n",
      "<li class=\"spaced\"><span class=\"reportcaption\"><b><a href=\"show_article.asp?id=320\" ttarget=\"_blank\">'Bigfoot' Sightings Scare Socks Off Pair </a></b></span><span class=\"reportcaption\"> (24-Jun-1980; Ohio Daily News (Dayton))</span></li> not found.\n",
      "<li class=\"spaced\"><span class=\"reportcaption\"><b><a href=\"show_article.asp?id=320\" ttarget=\"_blank\">'Bigfoot' Sightings Scare Socks Off Pair </a></b></span><span class=\"reportcaption\"> (24-Jun-1980; Ohio Daily News (Dayton))</span></li> not found.\n",
      "<li class=\"spaced\"><span class=\"reportcaption\"><b><a href=\"show_article.asp?id=74\" ttarget=\"_blank\">'Big Foot' Attack Draws Searchers</a></b></span><span class=\"reportcaption\"> (11-Aug-1977; San Antonio News)</span></li> not found.\n",
      "<li class=\"spaced\"><span class=\"reportcaption\"><b><a href=\"show_article.asp?id=76\" ttarget=\"_blank\">Oklahoma Townspeople Wonder if Creature is a 'Bigfoot'</a></b></span><span class=\"reportcaption\"> (15-Apr-1982; The Houston (Texas) Post)</span></li> not found.\n",
      "<li class=\"spaced\"><span class=\"reportcaption\"><b><a href=\"show_article.asp?id=74\" ttarget=\"_blank\">'Big Foot' Attack Draws Searchers</a></b></span><span class=\"reportcaption\"> (11-Aug-1977; San Antonio News)</span></li> not found.\n",
      "<li class=\"spaced\"><span class=\"reportcaption\"><b><a href=\"show_article.asp?id=76\" ttarget=\"_blank\">Oklahoma Townspeople Wonder if Creature is a 'Bigfoot'</a></b></span><span class=\"reportcaption\"> (15-Apr-1982; The Houston (Texas) Post)</span></li> not found.\n",
      "<li class=\"spaced\"><span class=\"reportcaption\"><b><a href=\"show_article.asp?id=25\" ttarget=\"_blank\">South Carolina's Swamp Slob</a></b></span><span class=\"reportcaption\"> (18-Jul-1988; Creature Chronicles)</span></li> not found.\n",
      "<li class=\"spaced\"><span class=\"reportcaption\"><b><a href=\"show_article.asp?id=25\" ttarget=\"_blank\">South Carolina's Swamp Slob</a></b></span><span class=\"reportcaption\"> (18-Jul-1988; Creature Chronicles)</span></li> not found.\n",
      "<li class=\"spaced\"><span class=\"reportcaption\"><b><a href=\"show_article.asp?id=29\" ttarget=\"_blank\">Sasquatch Getting Much Publicity</a></b></span><span class=\"reportcaption\"> (6-Oct-1977; McLaughlin Messenger)</span></li> not found.\n",
      "<li class=\"spaced\"><span class=\"reportcaption\"><b><a href=\"show_article.asp?id=29\" ttarget=\"_blank\">Sasquatch Getting Much Publicity</a></b></span><span class=\"reportcaption\"> (6-Oct-1977; McLaughlin Messenger)</span></li> not found.\n",
      "<li class=\"spaced\"><span class=\"reportcaption\"><b><a href=\"show_article.asp?id=666\" ttarget=\"_blank\">Bigfoot sighting along Neches River?</a></b></span><span class=\"reportcaption\"> (19-Feb-2013; The Port Arthur News)</span></li> not found.\n",
      "<li class=\"spaced\"><span class=\"reportcaption\"><b><a href=\"show_article.asp?id=150\" ttarget=\"_blank\">Wanted: buyer for 228 monkeys at $1,000 a head</a></b></span><span class=\"reportcaption\"> (11-Jan-1979; Seattle Times)</span></li> not found.\n",
      "<li class=\"spaced\"><span class=\"reportcaption\"><b><a href=\"show_article.asp?id=666\" ttarget=\"_blank\">Bigfoot sighting along Neches River?</a></b></span><span class=\"reportcaption\"> (19-Feb-2013; The Port Arthur News)</span></li> not found.\n",
      "<li class=\"spaced\"><span class=\"reportcaption\"><b><a href=\"show_article.asp?id=150\" ttarget=\"_blank\">Wanted: buyer for 228 monkeys at $1,000 a head</a></b></span><span class=\"reportcaption\"> (11-Jan-1979; Seattle Times)</span></li> not found.\n",
      "<li class=\"spaced\"><span class=\"reportcaption\"><b><a href=\"show_article.asp?id=180\" ttarget=\"_blank\">Ersatz Sasquatch Has Feet of Clay, Police Say </a></b></span><span class=\"reportcaption\"> (15-Jul-1997; Washington Post)</span></li> not found.\n",
      "<li class=\"spaced\"><span class=\"reportcaption\"><b><a href=\"show_article.asp?id=703\" ttarget=\"_blank\">Unidentified Animal Spotted this Week</a></b></span><span class=\"reportcaption\"> (9-Sep-2013; The Southwest Times)</span></li> not found.\n",
      "<li class=\"spaced\"><span class=\"reportcaption\"><b><a href=\"show_article.asp?id=180\" ttarget=\"_blank\">Ersatz Sasquatch Has Feet of Clay, Police Say </a></b></span><span class=\"reportcaption\"> (15-Jul-1997; Washington Post)</span></li> not found.\n",
      "<li class=\"spaced\"><span class=\"reportcaption\"><b><a href=\"show_article.asp?id=703\" ttarget=\"_blank\">Unidentified Animal Spotted this Week</a></b></span><span class=\"reportcaption\"> (9-Sep-2013; The Southwest Times)</span></li> not found.\n",
      "<li class=\"spaced\"><span class=\"reportcaption\"><b><a href=\"show_article.asp?id=249\" ttarget=\"_blank\">DNR May Chase Bigfoot</a></b></span><span class=\"reportcaption\"> (11-Nov-1976; Sparta-Monroe (Wisconsin) County Democrat)</span></li> not found.\n",
      "<li class=\"spaced\"><span class=\"reportcaption\"><b><a href=\"show_article.asp?id=660\" ttarget=\"_blank\">FORGET SASQUATCH: GINSENG POACHERS POSE GREATER THREAT</a></b></span><span class=\"reportcaption\"> (12-Sep-2012; The County Line)</span></li> not found.\n",
      "<li class=\"spaced\"><span class=\"reportcaption\"><b><a href=\"show_article.asp?id=249\" ttarget=\"_blank\">DNR May Chase Bigfoot</a></b></span><span class=\"reportcaption\"> (11-Nov-1976; Sparta-Monroe (Wisconsin) County Democrat)</span></li> not found.\n",
      "<li class=\"spaced\"><span class=\"reportcaption\"><b><a href=\"show_article.asp?id=660\" ttarget=\"_blank\">FORGET SASQUATCH: GINSENG POACHERS POSE GREATER THREAT</a></b></span><span class=\"reportcaption\"> (12-Sep-2012; The County Line)</span></li> not found.\n",
      "<li class=\"spaced\"><span class=\"reportcaption\"><b><a href=\"show_article.asp?id=733\" ttarget=\"_blank\">Return of Wildman Revives Old Terrors</a></b></span><span class=\"reportcaption\"> (4-Mar-1919; Tampa Bay Times)</span></li> not found.\n",
      "<li class=\"spaced\"><span class=\"reportcaption\"><b><a href=\"show_article.asp?id=733\" ttarget=\"_blank\">Return of Wildman Revives Old Terrors</a></b></span><span class=\"reportcaption\"> (4-Mar-1919; Tampa Bay Times)</span></li> not found.\n"
     ]
    }
   ],
   "source": [
    "d = []\n",
    "for l in counties:\n",
    "    try:\n",
    "        raw_html = requests.get(l).content\n",
    "        html = BeautifulSoup(raw_html,'html.parser')\n",
    "        county = html.find('h2').text\n",
    "        incidents = html.find('ul').find_all('li')\n",
    "        for i in incidents:\n",
    "            try:\n",
    "                cols = i.find_all('span')\n",
    "                date = cols[0].text\n",
    "                level = cols[1].text\n",
    "                description = cols[2].text\n",
    "                d.append([county, date, level, description])\n",
    "            except:\n",
    "                print(f\"{i} not found.\")\n",
    "    except:\n",
    "            print(f\"{l} not found.\")"
   ]
  },
  {
   "cell_type": "code",
   "execution_count": 479,
   "id": "47318709-6700-4494-9df1-59638980810f",
   "metadata": {},
   "outputs": [],
   "source": [
    "US_classes = pd.DataFrame(d,columns= ['Place','Date','Class','Description'])"
   ]
  },
  {
   "cell_type": "code",
   "execution_count": 481,
   "id": "496c7b47-3271-4190-9f78-9e35fb8866f2",
   "metadata": {},
   "outputs": [],
   "source": [
    "US_classes = US_classes.drop_duplicates()"
   ]
  },
  {
   "cell_type": "code",
   "execution_count": 482,
   "id": "eebf346a-3b68-47f8-8310-f36db065e9d3",
   "metadata": {},
   "outputs": [],
   "source": [
    "US_classes.to_csv('US_classes.csv',index=False)"
   ]
  },
  {
   "cell_type": "code",
   "execution_count": 483,
   "id": "3c64baab-dbe9-437e-8f4f-4ae1779ed43d",
   "metadata": {},
   "outputs": [
    {
     "data": {
      "text/html": [
       "<div>\n",
       "<style scoped>\n",
       "    .dataframe tbody tr th:only-of-type {\n",
       "        vertical-align: middle;\n",
       "    }\n",
       "\n",
       "    .dataframe tbody tr th {\n",
       "        vertical-align: top;\n",
       "    }\n",
       "\n",
       "    .dataframe thead th {\n",
       "        text-align: right;\n",
       "    }\n",
       "</style>\n",
       "<table border=\"1\" class=\"dataframe\">\n",
       "  <thead>\n",
       "    <tr style=\"text-align: right;\">\n",
       "      <th></th>\n",
       "      <th>Place</th>\n",
       "      <th>Date</th>\n",
       "      <th>Class</th>\n",
       "      <th>Description</th>\n",
       "    </tr>\n",
       "  </thead>\n",
       "  <tbody>\n",
       "    <tr>\n",
       "      <th>count</th>\n",
       "      <td>5178</td>\n",
       "      <td>5178</td>\n",
       "      <td>5178</td>\n",
       "      <td>5178</td>\n",
       "    </tr>\n",
       "    <tr>\n",
       "      <th>unique</th>\n",
       "      <td>1560</td>\n",
       "      <td>1317</td>\n",
       "      <td>23</td>\n",
       "      <td>5176</td>\n",
       "    </tr>\n",
       "    <tr>\n",
       "      <th>top</th>\n",
       "      <td>Pierce County, Washington</td>\n",
       "      <td>July 2006</td>\n",
       "      <td>(Class B)</td>\n",
       "      <td>- Loud vocalizations sounds heard</td>\n",
       "    </tr>\n",
       "    <tr>\n",
       "      <th>freq</th>\n",
       "      <td>79</td>\n",
       "      <td>33</td>\n",
       "      <td>2594</td>\n",
       "      <td>2</td>\n",
       "    </tr>\n",
       "  </tbody>\n",
       "</table>\n",
       "</div>"
      ],
      "text/plain": [
       "                            Place       Date      Class  \\\n",
       "count                        5178       5178       5178   \n",
       "unique                       1560       1317         23   \n",
       "top     Pierce County, Washington  July 2006  (Class B)   \n",
       "freq                           79         33       2594   \n",
       "\n",
       "                               Description  \n",
       "count                                 5178  \n",
       "unique                                5176  \n",
       "top      - Loud vocalizations sounds heard  \n",
       "freq                                     2  "
      ]
     },
     "execution_count": 483,
     "metadata": {},
     "output_type": "execute_result"
    }
   ],
   "source": [
    "US_classes.describe()"
   ]
  },
  {
   "cell_type": "markdown",
   "id": "32824a36-7e06-4008-8403-0d4ffe7727e2",
   "metadata": {},
   "source": [
    "# Scrape the rest"
   ]
  },
  {
   "cell_type": "code",
   "execution_count": 484,
   "id": "b9150bcf-5c12-435e-b886-9a4f70b832cd",
   "metadata": {},
   "outputs": [],
   "source": [
    "rest = merged[49:]"
   ]
  },
  {
   "cell_type": "code",
   "execution_count": 486,
   "id": "af56d913-c752-46d4-98da-f1011d35d32c",
   "metadata": {},
   "outputs": [],
   "source": [
    "rest = rest.drop_duplicates()"
   ]
  },
  {
   "cell_type": "code",
   "execution_count": 487,
   "id": "1955f35c-6647-4d03-96f1-cccdb4c101ca",
   "metadata": {},
   "outputs": [
    {
     "name": "stdout",
     "output_type": "stream",
     "text": [
      "<li class=\"spaced\"><span class=\"reportcaption\"><b><a href=\"show_article.asp?id=407\" ttarget=\"_blank\">Yowie</a></b></span><span class=\"reportcaption\"> (13-Jun-2002; ABC News)</span></li> not found.\n",
      "<li class=\"spaced\"><span class=\"reportcaption\"><b><a href=\"show_article.asp?id=221\" ttarget=\"_blank\">9-foot, Redheaded Vegetarian Stalks China</a></b></span><span class=\"reportcaption\"> (26-Mar-1981; Detroit Free press)</span></li> not found.\n",
      "<li class=\"spaced\"><span class=\"reportcaption\"><b><a href=\"show_article.asp?id=254\" ttarget=\"_blank\">Team 'find traces of Sumatran Yeti'</a></b></span><span class=\"reportcaption\"> (27-Oct-2001; The Times (London, UK))</span></li> not found.\n",
      "<li class=\"spaced\"><span class=\"reportcaption\"><b><a href=\"show_article.asp?id=212\" ttarget=\"_blank\">Malaysian trekkers report fresh footprints of 'Bigfoot'</a></b></span><span class=\"reportcaption\"> (13-Jan-1995; Deseret News)</span></li> not found.\n",
      "<li class=\"spaced\"><span class=\"reportcaption\"><b><a href=\"show_article.asp?id=208\" ttarget=\"_blank\">The Abominable Snowman</a></b></span><span class=\"reportcaption\"> (1-Jan-1950; True Magazine)</span></li> not found.\n",
      "<li class=\"spaced\"><span class=\"reportcaption\"><b><a href=\"show_article.asp?id=209\" ttarget=\"_blank\">Soviet Encounters 'Yeti'</a></b></span><span class=\"reportcaption\"> (17-Mar-1988; New Haven Register (Connecticut))</span></li> not found.\n"
     ]
    }
   ],
   "source": [
    "d = []\n",
    "for l in Links:\n",
    "    try:\n",
    "        raw_html = requests.get(l).content\n",
    "        html = BeautifulSoup(raw_html,'html.parser')\n",
    "        county = html.find('h2').text\n",
    "        incidents = html.find('ul').find_all('li')\n",
    "        for i in incidents:\n",
    "            try:\n",
    "                cols = i.find_all('span')\n",
    "                date = cols[0].text\n",
    "                level = cols[1].text\n",
    "                description = cols[2].text\n",
    "                d.append([county, date, level, description])\n",
    "            except:\n",
    "                print(f\"{i} not found.\")\n",
    "    except:\n",
    "            print(f\"{l} not found.\")"
   ]
  },
  {
   "cell_type": "code",
   "execution_count": 488,
   "id": "9cdc36d5-95e8-4933-96be-d57f6633597c",
   "metadata": {},
   "outputs": [],
   "source": [
    "rest_counties = pd.DataFrame(d,columns=['Place','Date','Class','Description'])"
   ]
  },
  {
   "cell_type": "code",
   "execution_count": 491,
   "id": "b7131687-bb36-4cfd-9c24-e2fdc059f5ad",
   "metadata": {},
   "outputs": [],
   "source": [
    "rest_counties = rest_counties.drop_duplicates()"
   ]
  },
  {
   "cell_type": "code",
   "execution_count": 492,
   "id": "0ef68b25-c738-468a-8945-77ab6895ed0d",
   "metadata": {},
   "outputs": [
    {
     "data": {
      "text/html": [
       "<div>\n",
       "<style scoped>\n",
       "    .dataframe tbody tr th:only-of-type {\n",
       "        vertical-align: middle;\n",
       "    }\n",
       "\n",
       "    .dataframe tbody tr th {\n",
       "        vertical-align: top;\n",
       "    }\n",
       "\n",
       "    .dataframe thead th {\n",
       "        text-align: right;\n",
       "    }\n",
       "</style>\n",
       "<table border=\"1\" class=\"dataframe\">\n",
       "  <thead>\n",
       "    <tr style=\"text-align: right;\">\n",
       "      <th></th>\n",
       "      <th>Place</th>\n",
       "      <th>Date</th>\n",
       "      <th>Class</th>\n",
       "      <th>Description</th>\n",
       "    </tr>\n",
       "  </thead>\n",
       "  <tbody>\n",
       "    <tr>\n",
       "      <th>0</th>\n",
       "      <td>Alberta (Canada)</td>\n",
       "      <td>July 2018</td>\n",
       "      <td>(Class B)</td>\n",
       "      <td>- Hiker finds possible tracks in Indian Ridge...</td>\n",
       "    </tr>\n",
       "    <tr>\n",
       "      <th>1</th>\n",
       "      <td>Alberta (Canada)</td>\n",
       "      <td>June 2018</td>\n",
       "      <td>(Class B)</td>\n",
       "      <td>- Retired mail carrier reports sundown knocks...</td>\n",
       "    </tr>\n",
       "    <tr>\n",
       "      <th>2</th>\n",
       "      <td>Alberta (Canada)</td>\n",
       "      <td>September 2016</td>\n",
       "      <td>(Class B)</td>\n",
       "      <td>- Two hunters experience prolonged tree shaki...</td>\n",
       "    </tr>\n",
       "    <tr>\n",
       "      <th>3</th>\n",
       "      <td>Alberta (Canada)</td>\n",
       "      <td>June 2011</td>\n",
       "      <td>(Class A)</td>\n",
       "      <td>- Early morning sighting through binoculars w...</td>\n",
       "    </tr>\n",
       "    <tr>\n",
       "      <th>4</th>\n",
       "      <td>Alberta (Canada)</td>\n",
       "      <td>May 2011</td>\n",
       "      <td>(Class B)</td>\n",
       "      <td>- Possible dusk sighting at Kananaskis campgr...</td>\n",
       "    </tr>\n",
       "  </tbody>\n",
       "</table>\n",
       "</div>"
      ],
      "text/plain": [
       "              Place            Date      Class  \\\n",
       "0  Alberta (Canada)       July 2018  (Class B)   \n",
       "1  Alberta (Canada)       June 2018  (Class B)   \n",
       "2  Alberta (Canada)  September 2016  (Class B)   \n",
       "3  Alberta (Canada)       June 2011  (Class A)   \n",
       "4  Alberta (Canada)        May 2011  (Class B)   \n",
       "\n",
       "                                         Description  \n",
       "0   - Hiker finds possible tracks in Indian Ridge...  \n",
       "1   - Retired mail carrier reports sundown knocks...  \n",
       "2   - Two hunters experience prolonged tree shaki...  \n",
       "3   - Early morning sighting through binoculars w...  \n",
       "4   - Possible dusk sighting at Kananaskis campgr...  "
      ]
     },
     "execution_count": 492,
     "metadata": {},
     "output_type": "execute_result"
    }
   ],
   "source": [
    "rest_counties.head()"
   ]
  },
  {
   "cell_type": "code",
   "execution_count": 493,
   "id": "60eb3517-dade-4204-8778-79893f4e6cc4",
   "metadata": {},
   "outputs": [],
   "source": [
    "all_classes = pd.concat([US_classes, rest_counties], ignore_index=True)"
   ]
  },
  {
   "cell_type": "code",
   "execution_count": 494,
   "id": "78c48f68-1cb7-4c7c-bcf3-4e505d1db3d4",
   "metadata": {},
   "outputs": [
    {
     "data": {
      "text/html": [
       "<div>\n",
       "<style scoped>\n",
       "    .dataframe tbody tr th:only-of-type {\n",
       "        vertical-align: middle;\n",
       "    }\n",
       "\n",
       "    .dataframe tbody tr th {\n",
       "        vertical-align: top;\n",
       "    }\n",
       "\n",
       "    .dataframe thead th {\n",
       "        text-align: right;\n",
       "    }\n",
       "</style>\n",
       "<table border=\"1\" class=\"dataframe\">\n",
       "  <thead>\n",
       "    <tr style=\"text-align: right;\">\n",
       "      <th></th>\n",
       "      <th>Place</th>\n",
       "      <th>Date</th>\n",
       "      <th>Class</th>\n",
       "      <th>Description</th>\n",
       "    </tr>\n",
       "  </thead>\n",
       "  <tbody>\n",
       "    <tr>\n",
       "      <th>count</th>\n",
       "      <td>5507</td>\n",
       "      <td>5507</td>\n",
       "      <td>5507</td>\n",
       "      <td>5507</td>\n",
       "    </tr>\n",
       "    <tr>\n",
       "      <th>unique</th>\n",
       "      <td>1574</td>\n",
       "      <td>1421</td>\n",
       "      <td>82</td>\n",
       "      <td>5504</td>\n",
       "    </tr>\n",
       "    <tr>\n",
       "      <th>top</th>\n",
       "      <td>British Columbia (Canada)</td>\n",
       "      <td>July 2006</td>\n",
       "      <td>(Class B)</td>\n",
       "      <td>- Loud vocalizations sounds heard</td>\n",
       "    </tr>\n",
       "    <tr>\n",
       "      <th>freq</th>\n",
       "      <td>122</td>\n",
       "      <td>35</td>\n",
       "      <td>2729</td>\n",
       "      <td>2</td>\n",
       "    </tr>\n",
       "  </tbody>\n",
       "</table>\n",
       "</div>"
      ],
      "text/plain": [
       "                            Place       Date      Class  \\\n",
       "count                        5507       5507       5507   \n",
       "unique                       1574       1421         82   \n",
       "top     British Columbia (Canada)  July 2006  (Class B)   \n",
       "freq                          122         35       2729   \n",
       "\n",
       "                               Description  \n",
       "count                                 5507  \n",
       "unique                                5504  \n",
       "top      - Loud vocalizations sounds heard  \n",
       "freq                                     2  "
      ]
     },
     "execution_count": 494,
     "metadata": {},
     "output_type": "execute_result"
    }
   ],
   "source": [
    "all_classes.describe()"
   ]
  },
  {
   "cell_type": "code",
   "execution_count": 495,
   "id": "d20900b5-ae3e-474f-b6fe-587cf831849a",
   "metadata": {},
   "outputs": [],
   "source": [
    "all_classes.to_csv('all_classes.csv',index=False)"
   ]
  },
  {
   "cell_type": "code",
   "execution_count": 496,
   "id": "f01cf2ab-1972-4095-9f24-b92576146ebf",
   "metadata": {},
   "outputs": [
    {
     "data": {
      "text/html": [
       "<div>\n",
       "<style scoped>\n",
       "    .dataframe tbody tr th:only-of-type {\n",
       "        vertical-align: middle;\n",
       "    }\n",
       "\n",
       "    .dataframe tbody tr th {\n",
       "        vertical-align: top;\n",
       "    }\n",
       "\n",
       "    .dataframe thead th {\n",
       "        text-align: right;\n",
       "    }\n",
       "</style>\n",
       "<table border=\"1\" class=\"dataframe\">\n",
       "  <thead>\n",
       "    <tr style=\"text-align: right;\">\n",
       "      <th></th>\n",
       "      <th>Place</th>\n",
       "      <th>Date</th>\n",
       "      <th>Class</th>\n",
       "      <th>Description</th>\n",
       "    </tr>\n",
       "  </thead>\n",
       "  <tbody>\n",
       "    <tr>\n",
       "      <th>0</th>\n",
       "      <td>Anchorage Borough, Alaska</td>\n",
       "      <td>February 2004</td>\n",
       "      <td>(Class A)</td>\n",
       "      <td>- Snowmobiler has encounter in deep snow near...</td>\n",
       "    </tr>\n",
       "    <tr>\n",
       "      <th>1</th>\n",
       "      <td>Anchorage Borough, Alaska</td>\n",
       "      <td>December 2003</td>\n",
       "      <td>(Class B)</td>\n",
       "      <td>- Four nocturnal hikers get pelted with snow ...</td>\n",
       "    </tr>\n",
       "    <tr>\n",
       "      <th>2</th>\n",
       "      <td>Bethel Borough, Alaska</td>\n",
       "      <td>September 1998</td>\n",
       "      <td>(Class B)</td>\n",
       "      <td>- Creature observed walking back and forth by...</td>\n",
       "    </tr>\n",
       "    <tr>\n",
       "      <th>3</th>\n",
       "      <td>Bristol Bay Borough, Alaska</td>\n",
       "      <td>July 2004</td>\n",
       "      <td>(Class B)</td>\n",
       "      <td>- Fishermen find footprints east of Egegik.</td>\n",
       "    </tr>\n",
       "    <tr>\n",
       "      <th>4</th>\n",
       "      <td>Cordova-McCarthy Borough, Alaska</td>\n",
       "      <td>June 2000</td>\n",
       "      <td>(Class A)</td>\n",
       "      <td>- Campers' encounter just after dark in the W...</td>\n",
       "    </tr>\n",
       "    <tr>\n",
       "      <th>...</th>\n",
       "      <td>...</td>\n",
       "      <td>...</td>\n",
       "      <td>...</td>\n",
       "      <td>...</td>\n",
       "    </tr>\n",
       "    <tr>\n",
       "      <th>5482</th>\n",
       "      <td>Malaysia (International)</td>\n",
       "      <td>[Investigators in Kota Tinggi]</td>\n",
       "      <td>(22-Feb-2006; New Straits Times)</td>\n",
       "      <td>[Sightings in Endau-Rompin National Park]</td>\n",
       "    </tr>\n",
       "    <tr>\n",
       "      <th>5483</th>\n",
       "      <td>Malaysia (International)</td>\n",
       "      <td>[Sightings in Endau-Rompin National Park]</td>\n",
       "      <td>(20-Feb-2006; Bernama (Malaysia National News...</td>\n",
       "      <td>[Malaysia effort will likely uncover other new...</td>\n",
       "    </tr>\n",
       "    <tr>\n",
       "      <th>5484</th>\n",
       "      <td>Malaysia (International)</td>\n",
       "      <td>[Malaysia effort will likely uncover other new...</td>\n",
       "      <td>(13-Feb-2006; Bernama (Malaysia National News...</td>\n",
       "      <td>[Malaysian] Panel to co-ordinate Bigfoot exp...</td>\n",
       "    </tr>\n",
       "    <tr>\n",
       "      <th>5485</th>\n",
       "      <td>Malaysia (International)</td>\n",
       "      <td>[Malaysian] Panel to co-ordinate Bigfoot exp...</td>\n",
       "      <td>(11-Feb-2006; New Straits Times - Malaysia)</td>\n",
       "      <td>[Malaysia forms official scientific team]</td>\n",
       "    </tr>\n",
       "    <tr>\n",
       "      <th>5486</th>\n",
       "      <td>Malaysia (International)</td>\n",
       "      <td>[Malaysia forms official scientific team]</td>\n",
       "      <td>(27-Jan-2006; CNN International)</td>\n",
       "      <td>[Official investigation in Malaysia -- two tea...</td>\n",
       "    </tr>\n",
       "  </tbody>\n",
       "</table>\n",
       "<p>5487 rows × 4 columns</p>\n",
       "</div>"
      ],
      "text/plain": [
       "                                 Place  \\\n",
       "0            Anchorage Borough, Alaska   \n",
       "1            Anchorage Borough, Alaska   \n",
       "2               Bethel Borough, Alaska   \n",
       "3          Bristol Bay Borough, Alaska   \n",
       "4     Cordova-McCarthy Borough, Alaska   \n",
       "...                                ...   \n",
       "5482          Malaysia (International)   \n",
       "5483          Malaysia (International)   \n",
       "5484          Malaysia (International)   \n",
       "5485          Malaysia (International)   \n",
       "5486          Malaysia (International)   \n",
       "\n",
       "                                                   Date  \\\n",
       "0                                         February 2004   \n",
       "1                                         December 2003   \n",
       "2                                        September 1998   \n",
       "3                                             July 2004   \n",
       "4                                             June 2000   \n",
       "...                                                 ...   \n",
       "5482                     [Investigators in Kota Tinggi]   \n",
       "5483          [Sightings in Endau-Rompin National Park]   \n",
       "5484  [Malaysia effort will likely uncover other new...   \n",
       "5485  [Malaysian] Panel to co-ordinate Bigfoot exp...   \n",
       "5486          [Malaysia forms official scientific team]   \n",
       "\n",
       "                                                  Class  \\\n",
       "0                                             (Class A)   \n",
       "1                                             (Class B)   \n",
       "2                                             (Class B)   \n",
       "3                                             (Class B)   \n",
       "4                                             (Class A)   \n",
       "...                                                 ...   \n",
       "5482                   (22-Feb-2006; New Straits Times)   \n",
       "5483   (20-Feb-2006; Bernama (Malaysia National News...   \n",
       "5484   (13-Feb-2006; Bernama (Malaysia National News...   \n",
       "5485        (11-Feb-2006; New Straits Times - Malaysia)   \n",
       "5486                   (27-Jan-2006; CNN International)   \n",
       "\n",
       "                                            Description  \n",
       "0      - Snowmobiler has encounter in deep snow near...  \n",
       "1      - Four nocturnal hikers get pelted with snow ...  \n",
       "2      - Creature observed walking back and forth by...  \n",
       "3           - Fishermen find footprints east of Egegik.  \n",
       "4      - Campers' encounter just after dark in the W...  \n",
       "...                                                 ...  \n",
       "5482          [Sightings in Endau-Rompin National Park]  \n",
       "5483  [Malaysia effort will likely uncover other new...  \n",
       "5484  [Malaysian] Panel to co-ordinate Bigfoot exp...  \n",
       "5485          [Malaysia forms official scientific team]  \n",
       "5486  [Official investigation in Malaysia -- two tea...  \n",
       "\n",
       "[5487 rows x 4 columns]"
      ]
     },
     "execution_count": 496,
     "metadata": {},
     "output_type": "execute_result"
    }
   ],
   "source": [
    "all_classes.head(-20)"
   ]
  },
  {
   "cell_type": "code",
   "execution_count": 504,
   "id": "042b8da4-2ed5-496b-8281-606edf4175b4",
   "metadata": {},
   "outputs": [
    {
     "data": {
      "text/html": [
       "<div>\n",
       "<style scoped>\n",
       "    .dataframe tbody tr th:only-of-type {\n",
       "        vertical-align: middle;\n",
       "    }\n",
       "\n",
       "    .dataframe tbody tr th {\n",
       "        vertical-align: top;\n",
       "    }\n",
       "\n",
       "    .dataframe thead th {\n",
       "        text-align: right;\n",
       "    }\n",
       "</style>\n",
       "<table border=\"1\" class=\"dataframe\">\n",
       "  <thead>\n",
       "    <tr style=\"text-align: right;\">\n",
       "      <th></th>\n",
       "      <th>Place</th>\n",
       "      <th>Date</th>\n",
       "      <th>Class</th>\n",
       "      <th>Description</th>\n",
       "    </tr>\n",
       "  </thead>\n",
       "  <tbody>\n",
       "    <tr>\n",
       "      <th>count</th>\n",
       "      <td>5507</td>\n",
       "      <td>5507</td>\n",
       "      <td>5507</td>\n",
       "      <td>5507</td>\n",
       "    </tr>\n",
       "    <tr>\n",
       "      <th>unique</th>\n",
       "      <td>1574</td>\n",
       "      <td>1421</td>\n",
       "      <td>82</td>\n",
       "      <td>5504</td>\n",
       "    </tr>\n",
       "    <tr>\n",
       "      <th>top</th>\n",
       "      <td>British Columbia (Canada)</td>\n",
       "      <td>July 2006</td>\n",
       "      <td>(Class B)</td>\n",
       "      <td>- Loud vocalizations sounds heard</td>\n",
       "    </tr>\n",
       "    <tr>\n",
       "      <th>freq</th>\n",
       "      <td>122</td>\n",
       "      <td>35</td>\n",
       "      <td>2729</td>\n",
       "      <td>2</td>\n",
       "    </tr>\n",
       "  </tbody>\n",
       "</table>\n",
       "</div>"
      ],
      "text/plain": [
       "                            Place       Date      Class  \\\n",
       "count                        5507       5507       5507   \n",
       "unique                       1574       1421         82   \n",
       "top     British Columbia (Canada)  July 2006  (Class B)   \n",
       "freq                          122         35       2729   \n",
       "\n",
       "                               Description  \n",
       "count                                 5507  \n",
       "unique                                5504  \n",
       "top      - Loud vocalizations sounds heard  \n",
       "freq                                     2  "
      ]
     },
     "execution_count": 504,
     "metadata": {},
     "output_type": "execute_result"
    }
   ],
   "source": [
    "all_classes.describe()"
   ]
  },
  {
   "cell_type": "markdown",
   "id": "21ff2876-4e99-4564-9610-2399c76af0c7",
   "metadata": {},
   "source": [
    "# clean data"
   ]
  },
  {
   "cell_type": "code",
   "execution_count": 596,
   "id": "a8bb378c-5f00-4cbf-a822-90c13b44a815",
   "metadata": {},
   "outputs": [],
   "source": [
    "dt = all_classes[all_classes['Class'].isin(['(Class A)','(Class B)'])]"
   ]
  },
  {
   "cell_type": "code",
   "execution_count": 597,
   "id": "a6a71ff4-ad23-43f8-bb08-c72e4441532f",
   "metadata": {},
   "outputs": [
    {
     "data": {
      "text/html": [
       "<div>\n",
       "<style scoped>\n",
       "    .dataframe tbody tr th:only-of-type {\n",
       "        vertical-align: middle;\n",
       "    }\n",
       "\n",
       "    .dataframe tbody tr th {\n",
       "        vertical-align: top;\n",
       "    }\n",
       "\n",
       "    .dataframe thead th {\n",
       "        text-align: right;\n",
       "    }\n",
       "</style>\n",
       "<table border=\"1\" class=\"dataframe\">\n",
       "  <thead>\n",
       "    <tr style=\"text-align: right;\">\n",
       "      <th></th>\n",
       "      <th>Place</th>\n",
       "      <th>Date</th>\n",
       "      <th>Class</th>\n",
       "      <th>Description</th>\n",
       "    </tr>\n",
       "  </thead>\n",
       "  <tbody>\n",
       "    <tr>\n",
       "      <th>count</th>\n",
       "      <td>5390</td>\n",
       "      <td>5390</td>\n",
       "      <td>5390</td>\n",
       "      <td>5390</td>\n",
       "    </tr>\n",
       "    <tr>\n",
       "      <th>unique</th>\n",
       "      <td>1554</td>\n",
       "      <td>1332</td>\n",
       "      <td>2</td>\n",
       "      <td>5387</td>\n",
       "    </tr>\n",
       "    <tr>\n",
       "      <th>top</th>\n",
       "      <td>British Columbia (Canada)</td>\n",
       "      <td>July 2006</td>\n",
       "      <td>(Class B)</td>\n",
       "      <td>- Sighting by campers</td>\n",
       "    </tr>\n",
       "    <tr>\n",
       "      <th>freq</th>\n",
       "      <td>118</td>\n",
       "      <td>35</td>\n",
       "      <td>2729</td>\n",
       "      <td>2</td>\n",
       "    </tr>\n",
       "  </tbody>\n",
       "</table>\n",
       "</div>"
      ],
      "text/plain": [
       "                            Place       Date      Class  \\\n",
       "count                        5390       5390       5390   \n",
       "unique                       1554       1332          2   \n",
       "top     British Columbia (Canada)  July 2006  (Class B)   \n",
       "freq                          118         35       2729   \n",
       "\n",
       "                   Description  \n",
       "count                     5390  \n",
       "unique                    5387  \n",
       "top      - Sighting by campers  \n",
       "freq                         2  "
      ]
     },
     "execution_count": 597,
     "metadata": {},
     "output_type": "execute_result"
    }
   ],
   "source": [
    "dt.describe()"
   ]
  },
  {
   "cell_type": "code",
   "execution_count": 598,
   "id": "dcdf661b-81a0-47b2-b5c6-cc78ff700015",
   "metadata": {},
   "outputs": [
    {
     "data": {
      "text/html": [
       "<div>\n",
       "<style scoped>\n",
       "    .dataframe tbody tr th:only-of-type {\n",
       "        vertical-align: middle;\n",
       "    }\n",
       "\n",
       "    .dataframe tbody tr th {\n",
       "        vertical-align: top;\n",
       "    }\n",
       "\n",
       "    .dataframe thead th {\n",
       "        text-align: right;\n",
       "    }\n",
       "</style>\n",
       "<table border=\"1\" class=\"dataframe\">\n",
       "  <thead>\n",
       "    <tr style=\"text-align: right;\">\n",
       "      <th></th>\n",
       "      <th>Place</th>\n",
       "      <th>Date</th>\n",
       "      <th>Class</th>\n",
       "      <th>Description</th>\n",
       "    </tr>\n",
       "  </thead>\n",
       "  <tbody>\n",
       "    <tr>\n",
       "      <th>0</th>\n",
       "      <td>Anchorage Borough, Alaska</td>\n",
       "      <td>February 2004</td>\n",
       "      <td>(Class A)</td>\n",
       "      <td>- Snowmobiler has encounter in deep snow near...</td>\n",
       "    </tr>\n",
       "    <tr>\n",
       "      <th>1</th>\n",
       "      <td>Anchorage Borough, Alaska</td>\n",
       "      <td>December 2003</td>\n",
       "      <td>(Class B)</td>\n",
       "      <td>- Four nocturnal hikers get pelted with snow ...</td>\n",
       "    </tr>\n",
       "    <tr>\n",
       "      <th>2</th>\n",
       "      <td>Bethel Borough, Alaska</td>\n",
       "      <td>September 1998</td>\n",
       "      <td>(Class B)</td>\n",
       "      <td>- Creature observed walking back and forth by...</td>\n",
       "    </tr>\n",
       "    <tr>\n",
       "      <th>3</th>\n",
       "      <td>Bristol Bay Borough, Alaska</td>\n",
       "      <td>July 2004</td>\n",
       "      <td>(Class B)</td>\n",
       "      <td>- Fishermen find footprints east of Egegik.</td>\n",
       "    </tr>\n",
       "    <tr>\n",
       "      <th>4</th>\n",
       "      <td>Cordova-McCarthy Borough, Alaska</td>\n",
       "      <td>June 2000</td>\n",
       "      <td>(Class A)</td>\n",
       "      <td>- Campers' encounter just after dark in the W...</td>\n",
       "    </tr>\n",
       "  </tbody>\n",
       "</table>\n",
       "</div>"
      ],
      "text/plain": [
       "                              Place            Date      Class  \\\n",
       "0         Anchorage Borough, Alaska   February 2004  (Class A)   \n",
       "1         Anchorage Borough, Alaska   December 2003  (Class B)   \n",
       "2            Bethel Borough, Alaska  September 1998  (Class B)   \n",
       "3       Bristol Bay Borough, Alaska       July 2004  (Class B)   \n",
       "4  Cordova-McCarthy Borough, Alaska       June 2000  (Class A)   \n",
       "\n",
       "                                         Description  \n",
       "0   - Snowmobiler has encounter in deep snow near...  \n",
       "1   - Four nocturnal hikers get pelted with snow ...  \n",
       "2   - Creature observed walking back and forth by...  \n",
       "3        - Fishermen find footprints east of Egegik.  \n",
       "4   - Campers' encounter just after dark in the W...  "
      ]
     },
     "execution_count": 598,
     "metadata": {},
     "output_type": "execute_result"
    }
   ],
   "source": [
    "dt.head()"
   ]
  },
  {
   "cell_type": "code",
   "execution_count": 599,
   "id": "c49c36c9-5329-4485-9887-747e07a34d21",
   "metadata": {},
   "outputs": [],
   "source": [
    "import re\n",
    "y = r\"(\\b\\d{4})\""
   ]
  },
  {
   "cell_type": "code",
   "execution_count": 600,
   "id": "eabe87e9-7b5b-477d-8897-79211a10622a",
   "metadata": {},
   "outputs": [
    {
     "name": "stderr",
     "output_type": "stream",
     "text": [
      "/var/folders/lm/ltt61ln55pdb08_0zxtv_ym40000gn/T/ipykernel_89264/2902531678.py:2: SettingWithCopyWarning: \n",
      "A value is trying to be set on a copy of a slice from a DataFrame.\n",
      "Try using .loc[row_indexer,col_indexer] = value instead\n",
      "\n",
      "See the caveats in the documentation: https://pandas.pydata.org/pandas-docs/stable/user_guide/indexing.html#returning-a-view-versus-a-copy\n",
      "  dt['Year'] = years\n"
     ]
    }
   ],
   "source": [
    "years = dt['Date'].str.extract(y)\n",
    "dt['Year'] = years"
   ]
  },
  {
   "cell_type": "code",
   "execution_count": 601,
   "id": "ca2b6396-32e4-4d84-94c6-5a05327fb170",
   "metadata": {},
   "outputs": [
    {
     "name": "stderr",
     "output_type": "stream",
     "text": [
      "/var/folders/lm/ltt61ln55pdb08_0zxtv_ym40000gn/T/ipykernel_89264/200957917.py:3: SettingWithCopyWarning: \n",
      "A value is trying to be set on a copy of a slice from a DataFrame.\n",
      "Try using .loc[row_indexer,col_indexer] = value instead\n",
      "\n",
      "See the caveats in the documentation: https://pandas.pydata.org/pandas-docs/stable/user_guide/indexing.html#returning-a-view-versus-a-copy\n",
      "  dt['Class'] = classes\n"
     ]
    }
   ],
   "source": [
    "c = r\"[(](Class \\w)[)]\"\n",
    "classes = dt['Class'].str.extract(c)\n",
    "dt['Class'] = classes"
   ]
  },
  {
   "cell_type": "code",
   "execution_count": 602,
   "id": "aacacd0b-8cbc-4306-b7da-8fbbc7abed26",
   "metadata": {},
   "outputs": [
    {
     "name": "stderr",
     "output_type": "stream",
     "text": [
      "/var/folders/lm/ltt61ln55pdb08_0zxtv_ym40000gn/T/ipykernel_89264/1801714659.py:2: SettingWithCopyWarning: \n",
      "A value is trying to be set on a copy of a slice from a DataFrame.\n",
      "Try using .loc[row_indexer,col_indexer] = value instead\n",
      "\n",
      "See the caveats in the documentation: https://pandas.pydata.org/pandas-docs/stable/user_guide/indexing.html#returning-a-view-versus-a-copy\n",
      "  dt['Place'] = Place\n"
     ]
    }
   ],
   "source": [
    "Place = dt['Place'].str.replace(r\"[()]\", \"\", regex=True)\n",
    "dt['Place'] = Place"
   ]
  },
  {
   "cell_type": "code",
   "execution_count": 603,
   "id": "da945ac5-0c20-450d-997d-eb967840afc7",
   "metadata": {},
   "outputs": [
    {
     "data": {
      "text/html": [
       "<div>\n",
       "<style scoped>\n",
       "    .dataframe tbody tr th:only-of-type {\n",
       "        vertical-align: middle;\n",
       "    }\n",
       "\n",
       "    .dataframe tbody tr th {\n",
       "        vertical-align: top;\n",
       "    }\n",
       "\n",
       "    .dataframe thead th {\n",
       "        text-align: right;\n",
       "    }\n",
       "</style>\n",
       "<table border=\"1\" class=\"dataframe\">\n",
       "  <thead>\n",
       "    <tr style=\"text-align: right;\">\n",
       "      <th></th>\n",
       "      <th>Place</th>\n",
       "      <th>Date</th>\n",
       "      <th>Class</th>\n",
       "      <th>Description</th>\n",
       "      <th>Year</th>\n",
       "    </tr>\n",
       "  </thead>\n",
       "  <tbody>\n",
       "    <tr>\n",
       "      <th>0</th>\n",
       "      <td>Anchorage Borough, Alaska</td>\n",
       "      <td>February 2004</td>\n",
       "      <td>Class A</td>\n",
       "      <td>- Snowmobiler has encounter in deep snow near...</td>\n",
       "      <td>2004</td>\n",
       "    </tr>\n",
       "    <tr>\n",
       "      <th>1</th>\n",
       "      <td>Anchorage Borough, Alaska</td>\n",
       "      <td>December 2003</td>\n",
       "      <td>Class B</td>\n",
       "      <td>- Four nocturnal hikers get pelted with snow ...</td>\n",
       "      <td>2003</td>\n",
       "    </tr>\n",
       "    <tr>\n",
       "      <th>2</th>\n",
       "      <td>Bethel Borough, Alaska</td>\n",
       "      <td>September 1998</td>\n",
       "      <td>Class B</td>\n",
       "      <td>- Creature observed walking back and forth by...</td>\n",
       "      <td>1998</td>\n",
       "    </tr>\n",
       "    <tr>\n",
       "      <th>3</th>\n",
       "      <td>Bristol Bay Borough, Alaska</td>\n",
       "      <td>July 2004</td>\n",
       "      <td>Class B</td>\n",
       "      <td>- Fishermen find footprints east of Egegik.</td>\n",
       "      <td>2004</td>\n",
       "    </tr>\n",
       "    <tr>\n",
       "      <th>4</th>\n",
       "      <td>Cordova-McCarthy Borough, Alaska</td>\n",
       "      <td>June 2000</td>\n",
       "      <td>Class A</td>\n",
       "      <td>- Campers' encounter just after dark in the W...</td>\n",
       "      <td>2000</td>\n",
       "    </tr>\n",
       "  </tbody>\n",
       "</table>\n",
       "</div>"
      ],
      "text/plain": [
       "                              Place            Date    Class  \\\n",
       "0         Anchorage Borough, Alaska   February 2004  Class A   \n",
       "1         Anchorage Borough, Alaska   December 2003  Class B   \n",
       "2            Bethel Borough, Alaska  September 1998  Class B   \n",
       "3       Bristol Bay Borough, Alaska       July 2004  Class B   \n",
       "4  Cordova-McCarthy Borough, Alaska       June 2000  Class A   \n",
       "\n",
       "                                         Description  Year  \n",
       "0   - Snowmobiler has encounter in deep snow near...  2004  \n",
       "1   - Four nocturnal hikers get pelted with snow ...  2003  \n",
       "2   - Creature observed walking back and forth by...  1998  \n",
       "3        - Fishermen find footprints east of Egegik.  2004  \n",
       "4   - Campers' encounter just after dark in the W...  2000  "
      ]
     },
     "execution_count": 603,
     "metadata": {},
     "output_type": "execute_result"
    }
   ],
   "source": [
    "dt.head()"
   ]
  },
  {
   "cell_type": "code",
   "execution_count": 604,
   "id": "ea9e0331-3d4c-4be4-9e4f-156b17dc3ef4",
   "metadata": {},
   "outputs": [
    {
     "data": {
      "text/html": [
       "<div>\n",
       "<style scoped>\n",
       "    .dataframe tbody tr th:only-of-type {\n",
       "        vertical-align: middle;\n",
       "    }\n",
       "\n",
       "    .dataframe tbody tr th {\n",
       "        vertical-align: top;\n",
       "    }\n",
       "\n",
       "    .dataframe thead th {\n",
       "        text-align: right;\n",
       "    }\n",
       "</style>\n",
       "<table border=\"1\" class=\"dataframe\">\n",
       "  <thead>\n",
       "    <tr style=\"text-align: right;\">\n",
       "      <th></th>\n",
       "      <th>Class</th>\n",
       "      <th>Year</th>\n",
       "    </tr>\n",
       "  </thead>\n",
       "  <tbody>\n",
       "    <tr>\n",
       "      <th>0</th>\n",
       "      <td>Class A</td>\n",
       "      <td>2004</td>\n",
       "    </tr>\n",
       "    <tr>\n",
       "      <th>1</th>\n",
       "      <td>Class B</td>\n",
       "      <td>2003</td>\n",
       "    </tr>\n",
       "    <tr>\n",
       "      <th>2</th>\n",
       "      <td>Class B</td>\n",
       "      <td>1998</td>\n",
       "    </tr>\n",
       "    <tr>\n",
       "      <th>3</th>\n",
       "      <td>Class B</td>\n",
       "      <td>2004</td>\n",
       "    </tr>\n",
       "    <tr>\n",
       "      <th>4</th>\n",
       "      <td>Class A</td>\n",
       "      <td>2000</td>\n",
       "    </tr>\n",
       "    <tr>\n",
       "      <th>...</th>\n",
       "      <td>...</td>\n",
       "      <td>...</td>\n",
       "    </tr>\n",
       "    <tr>\n",
       "      <th>5442</th>\n",
       "      <td>Class B</td>\n",
       "      <td>2001</td>\n",
       "    </tr>\n",
       "    <tr>\n",
       "      <th>5443</th>\n",
       "      <td>Class B</td>\n",
       "      <td>1995</td>\n",
       "    </tr>\n",
       "    <tr>\n",
       "      <th>5444</th>\n",
       "      <td>Class A</td>\n",
       "      <td>1992</td>\n",
       "    </tr>\n",
       "    <tr>\n",
       "      <th>5445</th>\n",
       "      <td>Class B</td>\n",
       "      <td>1995</td>\n",
       "    </tr>\n",
       "    <tr>\n",
       "      <th>5446</th>\n",
       "      <td>Class A</td>\n",
       "      <td>1978</td>\n",
       "    </tr>\n",
       "  </tbody>\n",
       "</table>\n",
       "<p>5390 rows × 2 columns</p>\n",
       "</div>"
      ],
      "text/plain": [
       "        Class  Year\n",
       "0     Class A  2004\n",
       "1     Class B  2003\n",
       "2     Class B  1998\n",
       "3     Class B  2004\n",
       "4     Class A  2000\n",
       "...       ...   ...\n",
       "5442  Class B  2001\n",
       "5443  Class B  1995\n",
       "5444  Class A  1992\n",
       "5445  Class B  1995\n",
       "5446  Class A  1978\n",
       "\n",
       "[5390 rows x 2 columns]"
      ]
     },
     "execution_count": 604,
     "metadata": {},
     "output_type": "execute_result"
    }
   ],
   "source": [
    "d = dt[['Class','Year']]\n",
    "d"
   ]
  },
  {
   "cell_type": "code",
   "execution_count": 514,
   "id": "e67a7ed4-f7b8-400f-9e5d-014b60f7a7f1",
   "metadata": {},
   "outputs": [
    {
     "data": {
      "text/plain": [
       "Year  Class  \n",
       "1870  Class A     1\n",
       "1890  Class B     1\n",
       "1910  Class B     1\n",
       "1920  Class B     1\n",
       "1921  Class A     1\n",
       "                 ..\n",
       "2022  Class A     8\n",
       "2023  Class B    16\n",
       "      Class A     9\n",
       "2024  Class A    17\n",
       "      Class B    14\n",
       "Name: count, Length: 171, dtype: int64"
      ]
     },
     "execution_count": 514,
     "metadata": {},
     "output_type": "execute_result"
    }
   ],
   "source": [
    "d.groupby('Year')['Class'].value_counts()"
   ]
  },
  {
   "cell_type": "code",
   "execution_count": 515,
   "id": "6fde022a-6124-4536-b116-47be412c07d6",
   "metadata": {},
   "outputs": [],
   "source": [
    "d.groupby('Year')['Class'].value_counts().unstack().to_clipboard()"
   ]
  },
  {
   "cell_type": "markdown",
   "id": "a98268be-7ac4-488e-82e8-227d482e6848",
   "metadata": {},
   "source": [
    "# Find coord for all_classes"
   ]
  },
  {
   "cell_type": "code",
   "execution_count": 347,
   "id": "23172d9e-e660-4528-9c75-d87106835935",
   "metadata": {},
   "outputs": [],
   "source": [
    "import time"
   ]
  },
  {
   "cell_type": "code",
   "execution_count": 536,
   "id": "1144619e-5ff2-4ec2-a3c0-f6233457c994",
   "metadata": {},
   "outputs": [],
   "source": [
    "points = dt['Place']"
   ]
  },
  {
   "cell_type": "code",
   "execution_count": 537,
   "id": "8d067da6-898e-44ed-a226-23262d136403",
   "metadata": {},
   "outputs": [],
   "source": [
    "load_dotenv()\n",
    "api_key = os.environ.get('GMAP_API')"
   ]
  },
  {
   "cell_type": "code",
   "execution_count": 619,
   "id": "3b996987-9eb8-4bf2-b948-c4a87bf4a157",
   "metadata": {},
   "outputs": [],
   "source": [
    "geometry_dt = []\n",
    "#looping through the placeNames list\n",
    "for place in points:\n",
    "    url = 'https://maps.googleapis.com/maps/api/geocode/json'\n",
    "    keys = {'address': place, 'key': api_key}\n",
    "    r = requests.get(url,params=keys)\n",
    "    result_dic = r.json()\n",
    "    if 'results' in result_dic and len(result_dic['results']) > 0:\n",
    "        lat = result_dic['results'][0]['geometry']['location']['lat']\n",
    "        long = result_dic['results'][0]['geometry']['location']['lng']\n",
    "        coords = str(lat) + ', ' + str(long)\n",
    "        mygeometry = {'Place': place, 'geometry.type': 'Point','geometry.coordinates':coords,'lat':lat,'long':long}\n",
    "        geometry_dt.append(mygeometry)\n",
    "    else:\n",
    "        print(\"No results found. Check your query or API key.\")\n",
    "    continue\n",
    "    time.sleep(0.5)"
   ]
  },
  {
   "cell_type": "code",
   "execution_count": 629,
   "id": "7071f35d-7432-459a-99b3-fbc7643858a6",
   "metadata": {},
   "outputs": [
    {
     "data": {
      "text/html": [
       "<div>\n",
       "<style scoped>\n",
       "    .dataframe tbody tr th:only-of-type {\n",
       "        vertical-align: middle;\n",
       "    }\n",
       "\n",
       "    .dataframe tbody tr th {\n",
       "        vertical-align: top;\n",
       "    }\n",
       "\n",
       "    .dataframe thead th {\n",
       "        text-align: right;\n",
       "    }\n",
       "</style>\n",
       "<table border=\"1\" class=\"dataframe\">\n",
       "  <thead>\n",
       "    <tr style=\"text-align: right;\">\n",
       "      <th></th>\n",
       "      <th>Place</th>\n",
       "      <th>geometry.type</th>\n",
       "      <th>geometry.coordinates</th>\n",
       "      <th>lat</th>\n",
       "      <th>long</th>\n",
       "    </tr>\n",
       "  </thead>\n",
       "  <tbody>\n",
       "    <tr>\n",
       "      <th>0</th>\n",
       "      <td>Anchorage Borough, Alaska</td>\n",
       "      <td>Point</td>\n",
       "      <td>61.2175758, -149.8996785</td>\n",
       "      <td>61.217576</td>\n",
       "      <td>-149.899678</td>\n",
       "    </tr>\n",
       "    <tr>\n",
       "      <th>1</th>\n",
       "      <td>Anchorage Borough, Alaska</td>\n",
       "      <td>Point</td>\n",
       "      <td>61.2175758, -149.8996785</td>\n",
       "      <td>61.217576</td>\n",
       "      <td>-149.899678</td>\n",
       "    </tr>\n",
       "    <tr>\n",
       "      <th>2</th>\n",
       "      <td>Bethel Borough, Alaska</td>\n",
       "      <td>Point</td>\n",
       "      <td>60.79425899999999, -161.7694402</td>\n",
       "      <td>60.794259</td>\n",
       "      <td>-161.769440</td>\n",
       "    </tr>\n",
       "    <tr>\n",
       "      <th>3</th>\n",
       "      <td>Bristol Bay Borough, Alaska</td>\n",
       "      <td>Point</td>\n",
       "      <td>58.7578504, -156.7792687</td>\n",
       "      <td>58.757850</td>\n",
       "      <td>-156.779269</td>\n",
       "    </tr>\n",
       "    <tr>\n",
       "      <th>4</th>\n",
       "      <td>Cordova-McCarthy Borough, Alaska</td>\n",
       "      <td>Point</td>\n",
       "      <td>60.5424087, -145.7525414</td>\n",
       "      <td>60.542409</td>\n",
       "      <td>-145.752541</td>\n",
       "    </tr>\n",
       "  </tbody>\n",
       "</table>\n",
       "</div>"
      ],
      "text/plain": [
       "                              Place geometry.type  \\\n",
       "0         Anchorage Borough, Alaska         Point   \n",
       "1         Anchorage Borough, Alaska         Point   \n",
       "2            Bethel Borough, Alaska         Point   \n",
       "3       Bristol Bay Borough, Alaska         Point   \n",
       "4  Cordova-McCarthy Borough, Alaska         Point   \n",
       "\n",
       "              geometry.coordinates        lat        long  \n",
       "0         61.2175758, -149.8996785  61.217576 -149.899678  \n",
       "1         61.2175758, -149.8996785  61.217576 -149.899678  \n",
       "2  60.79425899999999, -161.7694402  60.794259 -161.769440  \n",
       "3         58.7578504, -156.7792687  58.757850 -156.779269  \n",
       "4         60.5424087, -145.7525414  60.542409 -145.752541  "
      ]
     },
     "execution_count": 629,
     "metadata": {},
     "output_type": "execute_result"
    }
   ],
   "source": [
    "county_geo = pd.DataFrame(geometry_dt)\n",
    "county_geo.head()"
   ]
  },
  {
   "cell_type": "code",
   "execution_count": 630,
   "id": "f9aebe14-779d-47f5-a3cd-1cfc206c19cd",
   "metadata": {},
   "outputs": [
    {
     "data": {
      "text/html": [
       "<div>\n",
       "<style scoped>\n",
       "    .dataframe tbody tr th:only-of-type {\n",
       "        vertical-align: middle;\n",
       "    }\n",
       "\n",
       "    .dataframe tbody tr th {\n",
       "        vertical-align: top;\n",
       "    }\n",
       "\n",
       "    .dataframe thead th {\n",
       "        text-align: right;\n",
       "    }\n",
       "</style>\n",
       "<table border=\"1\" class=\"dataframe\">\n",
       "  <thead>\n",
       "    <tr style=\"text-align: right;\">\n",
       "      <th></th>\n",
       "      <th>lat</th>\n",
       "      <th>long</th>\n",
       "    </tr>\n",
       "  </thead>\n",
       "  <tbody>\n",
       "    <tr>\n",
       "      <th>count</th>\n",
       "      <td>5390.000000</td>\n",
       "      <td>5390.000000</td>\n",
       "    </tr>\n",
       "    <tr>\n",
       "      <th>mean</th>\n",
       "      <td>40.288779</td>\n",
       "      <td>-98.014973</td>\n",
       "    </tr>\n",
       "    <tr>\n",
       "      <th>std</th>\n",
       "      <td>6.188205</td>\n",
       "      <td>17.554469</td>\n",
       "    </tr>\n",
       "    <tr>\n",
       "      <th>min</th>\n",
       "      <td>25.297448</td>\n",
       "      <td>-161.769440</td>\n",
       "    </tr>\n",
       "    <tr>\n",
       "      <th>25%</th>\n",
       "      <td>36.080957</td>\n",
       "      <td>-118.497407</td>\n",
       "    </tr>\n",
       "    <tr>\n",
       "      <th>50%</th>\n",
       "      <td>40.073113</td>\n",
       "      <td>-92.362392</td>\n",
       "    </tr>\n",
       "    <tr>\n",
       "      <th>75%</th>\n",
       "      <td>44.920467</td>\n",
       "      <td>-82.993161</td>\n",
       "    </tr>\n",
       "    <tr>\n",
       "      <th>max</th>\n",
       "      <td>64.952610</td>\n",
       "      <td>-63.546682</td>\n",
       "    </tr>\n",
       "  </tbody>\n",
       "</table>\n",
       "</div>"
      ],
      "text/plain": [
       "               lat         long\n",
       "count  5390.000000  5390.000000\n",
       "mean     40.288779   -98.014973\n",
       "std       6.188205    17.554469\n",
       "min      25.297448  -161.769440\n",
       "25%      36.080957  -118.497407\n",
       "50%      40.073113   -92.362392\n",
       "75%      44.920467   -82.993161\n",
       "max      64.952610   -63.546682"
      ]
     },
     "execution_count": 630,
     "metadata": {},
     "output_type": "execute_result"
    }
   ],
   "source": [
    "county_geo.describe()"
   ]
  },
  {
   "cell_type": "markdown",
   "id": "8580baa7-b8a1-4494-b2c1-bbc583b411e2",
   "metadata": {},
   "source": [
    "## Find Elevation"
   ]
  },
  {
   "cell_type": "code",
   "execution_count": 402,
   "id": "bfa35240-1721-43a3-8286-5f5723c3b6fd",
   "metadata": {},
   "outputs": [
    {
     "name": "stdout",
     "output_type": "stream",
     "text": [
      "Requirement already satisfied: python-dotenv in /Users/yirenlu/.pyenv/versions/3.12.7/lib/python3.12/site-packages (1.0.1)\n",
      "\n",
      "\u001b[1m[\u001b[0m\u001b[34;49mnotice\u001b[0m\u001b[1;39;49m]\u001b[0m\u001b[39;49m A new release of pip is available: \u001b[0m\u001b[31;49m24.3.1\u001b[0m\u001b[39;49m -> \u001b[0m\u001b[32;49m25.0.1\u001b[0m\n",
      "\u001b[1m[\u001b[0m\u001b[34;49mnotice\u001b[0m\u001b[1;39;49m]\u001b[0m\u001b[39;49m To update, run: \u001b[0m\u001b[32;49m/Users/yirenlu/.pyenv/versions/3.12.7/bin/python -m pip install --upgrade pip\u001b[0m\n",
      "Note: you may need to restart the kernel to use updated packages.\n"
     ]
    }
   ],
   "source": [
    "pip install python-dotenv"
   ]
  },
  {
   "cell_type": "code",
   "execution_count": 622,
   "id": "444d41a7-f5f7-4053-af6c-2b437506708a",
   "metadata": {},
   "outputs": [],
   "source": [
    "coords = county_geo['geometry.coordinates']"
   ]
  },
  {
   "cell_type": "code",
   "execution_count": 623,
   "id": "00b3ace8-a6ff-48a4-91fa-9c9b411a32a7",
   "metadata": {},
   "outputs": [
    {
     "data": {
      "text/plain": [
       "True"
      ]
     },
     "execution_count": 623,
     "metadata": {},
     "output_type": "execute_result"
    }
   ],
   "source": [
    "from dotenv import load_dotenv\n",
    "import os\n",
    "load_dotenv()"
   ]
  },
  {
   "cell_type": "code",
   "execution_count": 624,
   "id": "a6a0ded6-f445-47dd-9478-8b6a4b1263e4",
   "metadata": {},
   "outputs": [],
   "source": [
    "key = os.getenv('ElEVATION_API')"
   ]
  },
  {
   "cell_type": "code",
   "execution_count": 625,
   "id": "52b6b7d6-0acf-49cd-909b-bcb16bd6b99b",
   "metadata": {},
   "outputs": [],
   "source": [
    "elevation = []\n",
    "#looping through the placeNames list\n",
    "for place in coords:\n",
    "    url = 'https://maps.googleapis.com/maps/api/elevation/json'\n",
    "    keys = {'locations': place, 'key': key}\n",
    "    r = requests.get(url,params=keys)\n",
    "    result_dic = r.json()\n",
    "    if 'results' in result_dic and len(result_dic['results']) > 0:\n",
    "        elev = result_dic['results'][0]['elevation']\n",
    "        elevation.append(elev)\n",
    "    else:\n",
    "        print(\"No results found. Check your query or API key.\")\n",
    "    continue\n",
    "    time.sleep(0.5)"
   ]
  },
  {
   "cell_type": "code",
   "execution_count": 631,
   "id": "385371fb-5523-4a46-b0b9-27de6603d9d3",
   "metadata": {},
   "outputs": [],
   "source": [
    "county_geo['elevation'] = elevation"
   ]
  },
  {
   "cell_type": "code",
   "execution_count": 636,
   "id": "cc4e4cb0-a947-457b-b94c-0dc154f97926",
   "metadata": {},
   "outputs": [],
   "source": [
    "county_geo['Class'] = dt['Class']\n",
    "county_geo['Year'] = dt['Year']"
   ]
  },
  {
   "cell_type": "code",
   "execution_count": 638,
   "id": "c34dddde-ee3e-463a-b5fc-06138b058928",
   "metadata": {},
   "outputs": [],
   "source": [
    "county_geo['Month'] = [ x.split(' ')[0] for x in dt['Date']]"
   ]
  },
  {
   "cell_type": "code",
   "execution_count": 639,
   "id": "0b534d98-4f88-4697-b91f-0a841b76b396",
   "metadata": {},
   "outputs": [
    {
     "data": {
      "text/html": [
       "<div>\n",
       "<style scoped>\n",
       "    .dataframe tbody tr th:only-of-type {\n",
       "        vertical-align: middle;\n",
       "    }\n",
       "\n",
       "    .dataframe tbody tr th {\n",
       "        vertical-align: top;\n",
       "    }\n",
       "\n",
       "    .dataframe thead th {\n",
       "        text-align: right;\n",
       "    }\n",
       "</style>\n",
       "<table border=\"1\" class=\"dataframe\">\n",
       "  <thead>\n",
       "    <tr style=\"text-align: right;\">\n",
       "      <th></th>\n",
       "      <th>Place</th>\n",
       "      <th>geometry.type</th>\n",
       "      <th>geometry.coordinates</th>\n",
       "      <th>lat</th>\n",
       "      <th>long</th>\n",
       "      <th>elevation</th>\n",
       "      <th>Class</th>\n",
       "      <th>Year</th>\n",
       "      <th>Month</th>\n",
       "    </tr>\n",
       "  </thead>\n",
       "  <tbody>\n",
       "    <tr>\n",
       "      <th>0</th>\n",
       "      <td>Anchorage Borough, Alaska</td>\n",
       "      <td>Point</td>\n",
       "      <td>61.2175758, -149.8996785</td>\n",
       "      <td>61.217576</td>\n",
       "      <td>-149.899678</td>\n",
       "      <td>28.559565</td>\n",
       "      <td>Class A</td>\n",
       "      <td>2004</td>\n",
       "      <td>February</td>\n",
       "    </tr>\n",
       "    <tr>\n",
       "      <th>1</th>\n",
       "      <td>Anchorage Borough, Alaska</td>\n",
       "      <td>Point</td>\n",
       "      <td>61.2175758, -149.8996785</td>\n",
       "      <td>61.217576</td>\n",
       "      <td>-149.899678</td>\n",
       "      <td>28.559565</td>\n",
       "      <td>Class B</td>\n",
       "      <td>2003</td>\n",
       "      <td>December</td>\n",
       "    </tr>\n",
       "    <tr>\n",
       "      <th>2</th>\n",
       "      <td>Bethel Borough, Alaska</td>\n",
       "      <td>Point</td>\n",
       "      <td>60.79425899999999, -161.7694402</td>\n",
       "      <td>60.794259</td>\n",
       "      <td>-161.769440</td>\n",
       "      <td>3.121316</td>\n",
       "      <td>Class B</td>\n",
       "      <td>1998</td>\n",
       "      <td>September</td>\n",
       "    </tr>\n",
       "    <tr>\n",
       "      <th>3</th>\n",
       "      <td>Bristol Bay Borough, Alaska</td>\n",
       "      <td>Point</td>\n",
       "      <td>58.7578504, -156.7792687</td>\n",
       "      <td>58.757850</td>\n",
       "      <td>-156.779269</td>\n",
       "      <td>55.136833</td>\n",
       "      <td>Class B</td>\n",
       "      <td>2004</td>\n",
       "      <td>July</td>\n",
       "    </tr>\n",
       "    <tr>\n",
       "      <th>4</th>\n",
       "      <td>Cordova-McCarthy Borough, Alaska</td>\n",
       "      <td>Point</td>\n",
       "      <td>60.5424087, -145.7525414</td>\n",
       "      <td>60.542409</td>\n",
       "      <td>-145.752541</td>\n",
       "      <td>26.966372</td>\n",
       "      <td>Class A</td>\n",
       "      <td>2000</td>\n",
       "      <td>June</td>\n",
       "    </tr>\n",
       "  </tbody>\n",
       "</table>\n",
       "</div>"
      ],
      "text/plain": [
       "                              Place geometry.type  \\\n",
       "0         Anchorage Borough, Alaska         Point   \n",
       "1         Anchorage Borough, Alaska         Point   \n",
       "2            Bethel Borough, Alaska         Point   \n",
       "3       Bristol Bay Borough, Alaska         Point   \n",
       "4  Cordova-McCarthy Borough, Alaska         Point   \n",
       "\n",
       "              geometry.coordinates        lat        long  elevation    Class  \\\n",
       "0         61.2175758, -149.8996785  61.217576 -149.899678  28.559565  Class A   \n",
       "1         61.2175758, -149.8996785  61.217576 -149.899678  28.559565  Class B   \n",
       "2  60.79425899999999, -161.7694402  60.794259 -161.769440   3.121316  Class B   \n",
       "3         58.7578504, -156.7792687  58.757850 -156.779269  55.136833  Class B   \n",
       "4         60.5424087, -145.7525414  60.542409 -145.752541  26.966372  Class A   \n",
       "\n",
       "   Year      Month  \n",
       "0  2004   February  \n",
       "1  2003   December  \n",
       "2  1998  September  \n",
       "3  2004       July  \n",
       "4  2000       June  "
      ]
     },
     "execution_count": 639,
     "metadata": {},
     "output_type": "execute_result"
    }
   ],
   "source": [
    "county_geo.head()"
   ]
  },
  {
   "cell_type": "code",
   "execution_count": 640,
   "id": "5603643e-ef3a-4617-8fc0-3fda53c52096",
   "metadata": {},
   "outputs": [],
   "source": [
    "class_plot = county_geo[['Place','Class','lat','long']]"
   ]
  },
  {
   "cell_type": "code",
   "execution_count": 641,
   "id": "4712efd1-c6a8-4c9d-9d9e-73edcc0754c3",
   "metadata": {},
   "outputs": [
    {
     "data": {
      "text/html": [
       "<div>\n",
       "<style scoped>\n",
       "    .dataframe tbody tr th:only-of-type {\n",
       "        vertical-align: middle;\n",
       "    }\n",
       "\n",
       "    .dataframe tbody tr th {\n",
       "        vertical-align: top;\n",
       "    }\n",
       "\n",
       "    .dataframe thead th {\n",
       "        text-align: right;\n",
       "    }\n",
       "</style>\n",
       "<table border=\"1\" class=\"dataframe\">\n",
       "  <thead>\n",
       "    <tr style=\"text-align: right;\">\n",
       "      <th></th>\n",
       "      <th>Place</th>\n",
       "      <th>Class</th>\n",
       "      <th>lat</th>\n",
       "      <th>long</th>\n",
       "    </tr>\n",
       "  </thead>\n",
       "  <tbody>\n",
       "    <tr>\n",
       "      <th>0</th>\n",
       "      <td>Anchorage Borough, Alaska</td>\n",
       "      <td>Class A</td>\n",
       "      <td>61.217576</td>\n",
       "      <td>-149.899678</td>\n",
       "    </tr>\n",
       "    <tr>\n",
       "      <th>1</th>\n",
       "      <td>Anchorage Borough, Alaska</td>\n",
       "      <td>Class B</td>\n",
       "      <td>61.217576</td>\n",
       "      <td>-149.899678</td>\n",
       "    </tr>\n",
       "    <tr>\n",
       "      <th>2</th>\n",
       "      <td>Bethel Borough, Alaska</td>\n",
       "      <td>Class B</td>\n",
       "      <td>60.794259</td>\n",
       "      <td>-161.769440</td>\n",
       "    </tr>\n",
       "    <tr>\n",
       "      <th>3</th>\n",
       "      <td>Bristol Bay Borough, Alaska</td>\n",
       "      <td>Class B</td>\n",
       "      <td>58.757850</td>\n",
       "      <td>-156.779269</td>\n",
       "    </tr>\n",
       "    <tr>\n",
       "      <th>4</th>\n",
       "      <td>Cordova-McCarthy Borough, Alaska</td>\n",
       "      <td>Class A</td>\n",
       "      <td>60.542409</td>\n",
       "      <td>-145.752541</td>\n",
       "    </tr>\n",
       "  </tbody>\n",
       "</table>\n",
       "</div>"
      ],
      "text/plain": [
       "                              Place    Class        lat        long\n",
       "0         Anchorage Borough, Alaska  Class A  61.217576 -149.899678\n",
       "1         Anchorage Borough, Alaska  Class B  61.217576 -149.899678\n",
       "2            Bethel Borough, Alaska  Class B  60.794259 -161.769440\n",
       "3       Bristol Bay Borough, Alaska  Class B  58.757850 -156.779269\n",
       "4  Cordova-McCarthy Borough, Alaska  Class A  60.542409 -145.752541"
      ]
     },
     "execution_count": 641,
     "metadata": {},
     "output_type": "execute_result"
    }
   ],
   "source": [
    "class_plot.head()"
   ]
  },
  {
   "cell_type": "code",
   "execution_count": 643,
   "id": "191b2eb7-abc4-463a-9e88-e2d90b676f44",
   "metadata": {},
   "outputs": [],
   "source": [
    "class_plot.to_csv('class_plots.csv',index=False)"
   ]
  },
  {
   "cell_type": "code",
   "execution_count": 648,
   "id": "092b7d72-bdc9-45bb-b19a-967676a6e30d",
   "metadata": {},
   "outputs": [],
   "source": [
    "class_plot.value_counts().to_clipboard()"
   ]
  },
  {
   "cell_type": "code",
   "execution_count": 655,
   "id": "942643ff-65ac-46c5-81a9-b149cca8c7ba",
   "metadata": {},
   "outputs": [],
   "source": [
    "year_plot = county_geo[['Month','Class']]"
   ]
  },
  {
   "cell_type": "code",
   "execution_count": 781,
   "id": "f9a377cf-d491-464a-b089-8c0f6baa84e5",
   "metadata": {},
   "outputs": [],
   "source": [
    "month = ['January', 'February', 'March', 'April', 'May', 'June','July', 'August', 'September', 'October', 'November', 'December']"
   ]
  },
  {
   "cell_type": "code",
   "execution_count": 670,
   "id": "3fdde803-c2fe-4795-8304-bbd4846f4824",
   "metadata": {},
   "outputs": [],
   "source": [
    "year_plot[year_plot['Month'].isin(month)].groupby('Month')['Class'].value_counts().reindex(month, level=0).unstack().to_clipboard()"
   ]
  },
  {
   "cell_type": "code",
   "execution_count": 784,
   "id": "56213bb1-86fa-4fa3-8318-1470746157e3",
   "metadata": {},
   "outputs": [],
   "source": [
    "# seasonal plot\n",
    "seasonal_elevation = county_geo[['Month','elevation']]"
   ]
  },
  {
   "cell_type": "code",
   "execution_count": 785,
   "id": "8fac2c07-fdc6-4b1c-bb0c-ef5e6e56eec3",
   "metadata": {},
   "outputs": [],
   "source": [
    "seasonal_elevation = pd.DataFrame(seasonal_elevation.groupby('Month').describe().reset_index().values,columns=['Month','count', 'mean', 'std', 'min', '25%', '50%', '75%', 'max'])"
   ]
  },
  {
   "cell_type": "code",
   "execution_count": 789,
   "id": "6e62dabb-d46f-41db-8f96-7c9d77d115b2",
   "metadata": {},
   "outputs": [],
   "source": [
    "seasonal_elevation['Month'] = pd.Categorical(seasonal_elevation['Month'], categories=month, ordered=True)\n",
    "seasonal_elevation = seasonal_elevation.sort_values(by='Month').reset_index(drop=True)"
   ]
  },
  {
   "cell_type": "code",
   "execution_count": 801,
   "id": "3f4be4af-a258-4cca-9a5d-e600e6b5f29f",
   "metadata": {},
   "outputs": [],
   "source": [
    "seasonal_elevation = seasonal_elevation[seasonal_elevation['Month'].isin(month)]"
   ]
  },
  {
   "cell_type": "code",
   "execution_count": 802,
   "id": "2c00c7ac-aef8-4e4d-b044-229efa52c0a4",
   "metadata": {},
   "outputs": [],
   "source": [
    "elevation_plot = seasonal_elevation[['Month','min','max']]\n",
    "elevation_plot.to_clipboard()"
   ]
  },
  {
   "cell_type": "markdown",
   "id": "ffd987ef-1ce5-4fb5-8245-b3f336d9c8bd",
   "metadata": {},
   "source": [
    "# Get the FIPS Code for each incident"
   ]
  },
  {
   "cell_type": "code",
   "execution_count": 861,
   "id": "622a542e-f541-4fd2-b990-4d8b365e7d73",
   "metadata": {},
   "outputs": [],
   "source": [
    "coords = county_geo['geometry.coordinates']"
   ]
  },
  {
   "cell_type": "code",
   "execution_count": 855,
   "id": "310662e8-0de0-4abd-a715-cb5596b56bcf",
   "metadata": {},
   "outputs": [],
   "source": [
    "url = f'https://geo.fcc.gov/api/census/area?lat={lat}&lon={lon}%09&censusYear={censusyear}&format={fmt}'\n",
    "r = requests.get(url)"
   ]
  },
  {
   "cell_type": "code",
   "execution_count": 856,
   "id": "c34ecfd9-8fe2-4657-b63d-bb538cc093ec",
   "metadata": {},
   "outputs": [
    {
     "name": "stdout",
     "output_type": "stream",
     "text": [
      "{'input': {'lat': 61.217576, 'lon': -149.899678, 'censusYear': '2020'}, 'results': [{'block_fips': '020200011001035', 'bbox': [-149.901647, 61.217564, -149.899594, 61.218556], 'county_fips': '02020', 'county_name': 'Anchorage Municipality', 'state_fips': '02', 'state_code': 'AK', 'state_name': 'Alaska', 'block_pop_2020': 3, 'amt': 'AMT009', 'bea': 'BEA171', 'bta': 'BTA014', 'cma': 'CMA187', 'eag': 'EAG706', 'ivm': 'IVM187', 'mea': 'MEA047', 'mta': 'MTA049', 'pea': 'PEA212', 'rea': 'REA007', 'rpc': 'RPC005', 'vpc': 'VPC009'}, {'block_fips': '020200011001038', 'bbox': [-149.901649, 61.216583, -149.899591, 61.21757], 'county_fips': '02020', 'county_name': 'Anchorage Municipality', 'state_fips': '02', 'state_code': 'AK', 'state_name': 'Alaska', 'block_pop_2020': 2, 'amt': 'AMT009', 'bea': 'BEA171', 'bta': 'BTA014', 'cma': 'CMA187', 'eag': 'EAG706', 'ivm': 'IVM187', 'mea': 'MEA047', 'mta': 'MTA049', 'pea': 'PEA212', 'rea': 'REA007', 'rpc': 'RPC005', 'vpc': 'VPC009'}, {'block_fips': '020200011001034', 'bbox': [-149.899601, 61.21757, -149.897566, 61.218556], 'county_fips': '02020', 'county_name': 'Anchorage Municipality', 'state_fips': '02', 'state_code': 'AK', 'state_name': 'Alaska', 'block_pop_2020': 4, 'amt': 'AMT009', 'bea': 'BEA171', 'bta': 'BTA014', 'cma': 'CMA187', 'eag': 'EAG706', 'ivm': 'IVM187', 'mea': 'MEA047', 'mta': 'MTA049', 'pea': 'PEA212', 'rea': 'REA007', 'rpc': 'RPC005', 'vpc': 'VPC009'}, {'block_fips': '020200011001039', 'bbox': [-149.899594, 61.216584, -149.897566, 61.21757], 'county_fips': '02020', 'county_name': 'Anchorage Municipality', 'state_fips': '02', 'state_code': 'AK', 'state_name': 'Alaska', 'block_pop_2020': 24, 'amt': 'AMT009', 'bea': 'BEA171', 'bta': 'BTA014', 'cma': 'CMA187', 'eag': 'EAG706', 'ivm': 'IVM187', 'mea': 'MEA047', 'mta': 'MTA049', 'pea': 'PEA212', 'rea': 'REA007', 'rpc': 'RPC005', 'vpc': 'VPC009'}]}\n"
     ]
    }
   ],
   "source": [
    "print(r.json())"
   ]
  },
  {
   "cell_type": "code",
   "execution_count": 858,
   "id": "8fa3eec9-d6c5-44b6-b92b-cb1d8ff9839b",
   "metadata": {},
   "outputs": [],
   "source": [
    "rd = r.json()"
   ]
  },
  {
   "cell_type": "code",
   "execution_count": 860,
   "id": "035cf31d-0ecf-4992-a5b3-eeb1e4bd3eb4",
   "metadata": {},
   "outputs": [
    {
     "data": {
      "text/plain": [
       "'02020'"
      ]
     },
     "execution_count": 860,
     "metadata": {},
     "output_type": "execute_result"
    }
   ],
   "source": [
    "rd['results'][0]['county_fips']"
   ]
  },
  {
   "cell_type": "code",
   "execution_count": 869,
   "id": "0a079562-e4ba-44c7-8797-c6ccb91ed112",
   "metadata": {},
   "outputs": [
    {
     "name": "stdout",
     "output_type": "stream",
     "text": [
      "No results found. Check your query or API key.\n",
      "No results found. Check your query or API key.\n",
      "No results found. Check your query or API key.\n",
      "No results found. Check your query or API key.\n",
      "No results found. Check your query or API key.\n",
      "No results found. Check your query or API key.\n",
      "No results found. Check your query or API key.\n",
      "No results found. Check your query or API key.\n",
      "No results found. Check your query or API key.\n",
      "No results found. Check your query or API key.\n",
      "No results found. Check your query or API key.\n",
      "No results found. Check your query or API key.\n",
      "No results found. Check your query or API key.\n",
      "No results found. Check your query or API key.\n",
      "No results found. Check your query or API key.\n",
      "No results found. Check your query or API key.\n",
      "No results found. Check your query or API key.\n",
      "No results found. Check your query or API key.\n",
      "No results found. Check your query or API key.\n",
      "No results found. Check your query or API key.\n",
      "No results found. Check your query or API key.\n",
      "No results found. Check your query or API key.\n",
      "No results found. Check your query or API key.\n",
      "No results found. Check your query or API key.\n",
      "No results found. Check your query or API key.\n",
      "No results found. Check your query or API key.\n",
      "No results found. Check your query or API key.\n",
      "No results found. Check your query or API key.\n",
      "No results found. Check your query or API key.\n",
      "No results found. Check your query or API key.\n",
      "No results found. Check your query or API key.\n",
      "No results found. Check your query or API key.\n",
      "No results found. Check your query or API key.\n",
      "No results found. Check your query or API key.\n",
      "No results found. Check your query or API key.\n",
      "No results found. Check your query or API key.\n",
      "No results found. Check your query or API key.\n",
      "No results found. Check your query or API key.\n",
      "No results found. Check your query or API key.\n",
      "No results found. Check your query or API key.\n",
      "No results found. Check your query or API key.\n",
      "No results found. Check your query or API key.\n",
      "No results found. Check your query or API key.\n",
      "No results found. Check your query or API key.\n",
      "No results found. Check your query or API key.\n",
      "No results found. Check your query or API key.\n",
      "No results found. Check your query or API key.\n",
      "No results found. Check your query or API key.\n",
      "No results found. Check your query or API key.\n",
      "No results found. Check your query or API key.\n",
      "No results found. Check your query or API key.\n",
      "No results found. Check your query or API key.\n",
      "No results found. Check your query or API key.\n",
      "No results found. Check your query or API key.\n",
      "No results found. Check your query or API key.\n",
      "No results found. Check your query or API key.\n",
      "No results found. Check your query or API key.\n",
      "No results found. Check your query or API key.\n",
      "No results found. Check your query or API key.\n",
      "No results found. Check your query or API key.\n",
      "No results found. Check your query or API key.\n",
      "No results found. Check your query or API key.\n",
      "No results found. Check your query or API key.\n",
      "No results found. Check your query or API key.\n",
      "No results found. Check your query or API key.\n",
      "No results found. Check your query or API key.\n",
      "No results found. Check your query or API key.\n",
      "No results found. Check your query or API key.\n",
      "No results found. Check your query or API key.\n",
      "No results found. Check your query or API key.\n",
      "No results found. Check your query or API key.\n",
      "No results found. Check your query or API key.\n",
      "No results found. Check your query or API key.\n",
      "No results found. Check your query or API key.\n",
      "No results found. Check your query or API key.\n",
      "No results found. Check your query or API key.\n",
      "No results found. Check your query or API key.\n",
      "No results found. Check your query or API key.\n",
      "No results found. Check your query or API key.\n",
      "No results found. Check your query or API key.\n",
      "No results found. Check your query or API key.\n",
      "No results found. Check your query or API key.\n",
      "No results found. Check your query or API key.\n",
      "No results found. Check your query or API key.\n",
      "No results found. Check your query or API key.\n",
      "No results found. Check your query or API key.\n",
      "No results found. Check your query or API key.\n",
      "No results found. Check your query or API key.\n",
      "No results found. Check your query or API key.\n",
      "No results found. Check your query or API key.\n",
      "No results found. Check your query or API key.\n",
      "No results found. Check your query or API key.\n",
      "No results found. Check your query or API key.\n",
      "No results found. Check your query or API key.\n",
      "No results found. Check your query or API key.\n",
      "No results found. Check your query or API key.\n",
      "No results found. Check your query or API key.\n",
      "No results found. Check your query or API key.\n",
      "No results found. Check your query or API key.\n",
      "No results found. Check your query or API key.\n",
      "No results found. Check your query or API key.\n",
      "No results found. Check your query or API key.\n",
      "No results found. Check your query or API key.\n",
      "No results found. Check your query or API key.\n",
      "No results found. Check your query or API key.\n",
      "No results found. Check your query or API key.\n",
      "No results found. Check your query or API key.\n",
      "No results found. Check your query or API key.\n",
      "No results found. Check your query or API key.\n",
      "No results found. Check your query or API key.\n",
      "No results found. Check your query or API key.\n",
      "No results found. Check your query or API key.\n",
      "No results found. Check your query or API key.\n",
      "No results found. Check your query or API key.\n",
      "No results found. Check your query or API key.\n",
      "No results found. Check your query or API key.\n",
      "No results found. Check your query or API key.\n",
      "No results found. Check your query or API key.\n",
      "No results found. Check your query or API key.\n",
      "No results found. Check your query or API key.\n",
      "No results found. Check your query or API key.\n",
      "No results found. Check your query or API key.\n",
      "No results found. Check your query or API key.\n",
      "No results found. Check your query or API key.\n",
      "No results found. Check your query or API key.\n",
      "No results found. Check your query or API key.\n",
      "No results found. Check your query or API key.\n",
      "No results found. Check your query or API key.\n",
      "No results found. Check your query or API key.\n",
      "No results found. Check your query or API key.\n",
      "No results found. Check your query or API key.\n",
      "No results found. Check your query or API key.\n",
      "No results found. Check your query or API key.\n",
      "No results found. Check your query or API key.\n",
      "No results found. Check your query or API key.\n",
      "No results found. Check your query or API key.\n",
      "No results found. Check your query or API key.\n",
      "No results found. Check your query or API key.\n",
      "No results found. Check your query or API key.\n",
      "No results found. Check your query or API key.\n",
      "No results found. Check your query or API key.\n",
      "No results found. Check your query or API key.\n",
      "No results found. Check your query or API key.\n",
      "No results found. Check your query or API key.\n",
      "No results found. Check your query or API key.\n",
      "No results found. Check your query or API key.\n",
      "No results found. Check your query or API key.\n",
      "No results found. Check your query or API key.\n",
      "No results found. Check your query or API key.\n",
      "No results found. Check your query or API key.\n",
      "No results found. Check your query or API key.\n",
      "No results found. Check your query or API key.\n",
      "No results found. Check your query or API key.\n",
      "No results found. Check your query or API key.\n",
      "No results found. Check your query or API key.\n",
      "No results found. Check your query or API key.\n",
      "No results found. Check your query or API key.\n",
      "No results found. Check your query or API key.\n",
      "No results found. Check your query or API key.\n",
      "No results found. Check your query or API key.\n",
      "No results found. Check your query or API key.\n",
      "No results found. Check your query or API key.\n",
      "No results found. Check your query or API key.\n",
      "No results found. Check your query or API key.\n",
      "No results found. Check your query or API key.\n",
      "No results found. Check your query or API key.\n",
      "No results found. Check your query or API key.\n",
      "No results found. Check your query or API key.\n",
      "No results found. Check your query or API key.\n",
      "No results found. Check your query or API key.\n",
      "No results found. Check your query or API key.\n",
      "No results found. Check your query or API key.\n",
      "No results found. Check your query or API key.\n",
      "No results found. Check your query or API key.\n",
      "No results found. Check your query or API key.\n",
      "No results found. Check your query or API key.\n",
      "No results found. Check your query or API key.\n",
      "No results found. Check your query or API key.\n",
      "No results found. Check your query or API key.\n",
      "No results found. Check your query or API key.\n",
      "No results found. Check your query or API key.\n",
      "No results found. Check your query or API key.\n",
      "No results found. Check your query or API key.\n",
      "No results found. Check your query or API key.\n",
      "No results found. Check your query or API key.\n",
      "No results found. Check your query or API key.\n",
      "No results found. Check your query or API key.\n",
      "No results found. Check your query or API key.\n",
      "No results found. Check your query or API key.\n",
      "No results found. Check your query or API key.\n",
      "No results found. Check your query or API key.\n",
      "No results found. Check your query or API key.\n",
      "No results found. Check your query or API key.\n",
      "No results found. Check your query or API key.\n",
      "No results found. Check your query or API key.\n",
      "No results found. Check your query or API key.\n",
      "No results found. Check your query or API key.\n",
      "No results found. Check your query or API key.\n",
      "No results found. Check your query or API key.\n",
      "No results found. Check your query or API key.\n",
      "No results found. Check your query or API key.\n",
      "No results found. Check your query or API key.\n",
      "No results found. Check your query or API key.\n",
      "No results found. Check your query or API key.\n",
      "No results found. Check your query or API key.\n",
      "No results found. Check your query or API key.\n",
      "No results found. Check your query or API key.\n",
      "No results found. Check your query or API key.\n",
      "No results found. Check your query or API key.\n",
      "No results found. Check your query or API key.\n",
      "No results found. Check your query or API key.\n",
      "No results found. Check your query or API key.\n",
      "No results found. Check your query or API key.\n",
      "No results found. Check your query or API key.\n",
      "No results found. Check your query or API key.\n",
      "No results found. Check your query or API key.\n",
      "No results found. Check your query or API key.\n",
      "No results found. Check your query or API key.\n",
      "No results found. Check your query or API key.\n",
      "No results found. Check your query or API key.\n",
      "No results found. Check your query or API key.\n",
      "No results found. Check your query or API key.\n",
      "No results found. Check your query or API key.\n",
      "No results found. Check your query or API key.\n",
      "No results found. Check your query or API key.\n",
      "No results found. Check your query or API key.\n",
      "No results found. Check your query or API key.\n",
      "No results found. Check your query or API key.\n",
      "No results found. Check your query or API key.\n",
      "No results found. Check your query or API key.\n",
      "No results found. Check your query or API key.\n",
      "No results found. Check your query or API key.\n",
      "No results found. Check your query or API key.\n",
      "No results found. Check your query or API key.\n",
      "No results found. Check your query or API key.\n",
      "No results found. Check your query or API key.\n",
      "No results found. Check your query or API key.\n",
      "No results found. Check your query or API key.\n",
      "No results found. Check your query or API key.\n",
      "No results found. Check your query or API key.\n",
      "No results found. Check your query or API key.\n",
      "No results found. Check your query or API key.\n",
      "No results found. Check your query or API key.\n",
      "No results found. Check your query or API key.\n",
      "No results found. Check your query or API key.\n",
      "No results found. Check your query or API key.\n",
      "No results found. Check your query or API key.\n",
      "No results found. Check your query or API key.\n",
      "No results found. Check your query or API key.\n",
      "No results found. Check your query or API key.\n",
      "No results found. Check your query or API key.\n",
      "No results found. Check your query or API key.\n",
      "No results found. Check your query or API key.\n",
      "No results found. Check your query or API key.\n",
      "No results found. Check your query or API key.\n",
      "No results found. Check your query or API key.\n",
      "No results found. Check your query or API key.\n",
      "No results found. Check your query or API key.\n",
      "No results found. Check your query or API key.\n",
      "No results found. Check your query or API key.\n",
      "No results found. Check your query or API key.\n",
      "No results found. Check your query or API key.\n",
      "No results found. Check your query or API key.\n"
     ]
    }
   ],
   "source": [
    "fips = []\n",
    "censusyear = \"2020\"\n",
    "fmt = 'json'\n",
    "#looping through the placeNames list\n",
    "for place in coords:\n",
    "    lat = place.split(', ')[0]\n",
    "    lon = place.split(', ')[1]\n",
    "    url = f'https://geo.fcc.gov/api/census/area?lat={lat}&lon={lon}%09&censusYear={censusyear}&format={fmt}'\n",
    "    r = requests.get(url)\n",
    "    result_dic = r.json()\n",
    "    if 'results' in result_dic and len(result_dic['results']) > 0:\n",
    "        f = result_dic['results'][0]['county_fips']\n",
    "        fips.append(f)\n",
    "    else:\n",
    "        print(\"No results found. Check your query or API key.\")\n",
    "    continue\n",
    "    time.sleep(0.5)"
   ]
  },
  {
   "cell_type": "code",
   "execution_count": 870,
   "id": "6d4c225d-e86a-4055-9006-ef855ef06f67",
   "metadata": {},
   "outputs": [
    {
     "data": {
      "text/plain": [
       "5127"
      ]
     },
     "execution_count": 870,
     "metadata": {},
     "output_type": "execute_result"
    }
   ],
   "source": [
    "len(fips)"
   ]
  },
  {
   "cell_type": "code",
   "execution_count": 881,
   "id": "f67fc4be-c5e8-4ed2-bbf3-0d7717e640e9",
   "metadata": {},
   "outputs": [],
   "source": [
    "head_map={'Place':county_geo['Place'][:5127],'fips':fips}"
   ]
  },
  {
   "cell_type": "code",
   "execution_count": 882,
   "id": "756b75cd-2505-40b6-bdce-1f7e960eb758",
   "metadata": {},
   "outputs": [],
   "source": [
    "heat_map = pd.DataFrame(head_map)"
   ]
  },
  {
   "cell_type": "code",
   "execution_count": 889,
   "id": "fdde6b2b-fa1a-4154-aefe-2d4dcbe38d10",
   "metadata": {},
   "outputs": [],
   "source": [
    "heat_map.groupby('fips')['Place'].value_counts().to_clipboard()"
   ]
  },
  {
   "cell_type": "code",
   "execution_count": 890,
   "id": "51558250-d277-4dbf-9bdf-89cd20810934",
   "metadata": {},
   "outputs": [
    {
     "data": {
      "text/html": [
       "<div>\n",
       "<style scoped>\n",
       "    .dataframe tbody tr th:only-of-type {\n",
       "        vertical-align: middle;\n",
       "    }\n",
       "\n",
       "    .dataframe tbody tr th {\n",
       "        vertical-align: top;\n",
       "    }\n",
       "\n",
       "    .dataframe thead th {\n",
       "        text-align: right;\n",
       "    }\n",
       "</style>\n",
       "<table border=\"1\" class=\"dataframe\">\n",
       "  <thead>\n",
       "    <tr style=\"text-align: right;\">\n",
       "      <th></th>\n",
       "      <th>Place</th>\n",
       "      <th>fips</th>\n",
       "    </tr>\n",
       "  </thead>\n",
       "  <tbody>\n",
       "    <tr>\n",
       "      <th>4638</th>\n",
       "      <td>Pierce County, Washington</td>\n",
       "      <td>53053</td>\n",
       "    </tr>\n",
       "    <tr>\n",
       "      <th>4639</th>\n",
       "      <td>Pierce County, Washington</td>\n",
       "      <td>53053</td>\n",
       "    </tr>\n",
       "    <tr>\n",
       "      <th>4640</th>\n",
       "      <td>Pierce County, Washington</td>\n",
       "      <td>53053</td>\n",
       "    </tr>\n",
       "    <tr>\n",
       "      <th>4641</th>\n",
       "      <td>Pierce County, Washington</td>\n",
       "      <td>53053</td>\n",
       "    </tr>\n",
       "    <tr>\n",
       "      <th>4642</th>\n",
       "      <td>Pierce County, Washington</td>\n",
       "      <td>53053</td>\n",
       "    </tr>\n",
       "    <tr>\n",
       "      <th>...</th>\n",
       "      <td>...</td>\n",
       "      <td>...</td>\n",
       "    </tr>\n",
       "    <tr>\n",
       "      <th>4712</th>\n",
       "      <td>Pierce County, Washington</td>\n",
       "      <td>53053</td>\n",
       "    </tr>\n",
       "    <tr>\n",
       "      <th>4713</th>\n",
       "      <td>Pierce County, Washington</td>\n",
       "      <td>53053</td>\n",
       "    </tr>\n",
       "    <tr>\n",
       "      <th>4714</th>\n",
       "      <td>Pierce County, Washington</td>\n",
       "      <td>53053</td>\n",
       "    </tr>\n",
       "    <tr>\n",
       "      <th>4715</th>\n",
       "      <td>Pierce County, Washington</td>\n",
       "      <td>53053</td>\n",
       "    </tr>\n",
       "    <tr>\n",
       "      <th>4716</th>\n",
       "      <td>Pierce County, Washington</td>\n",
       "      <td>53053</td>\n",
       "    </tr>\n",
       "  </tbody>\n",
       "</table>\n",
       "<p>79 rows × 2 columns</p>\n",
       "</div>"
      ],
      "text/plain": [
       "                          Place   fips\n",
       "4638  Pierce County, Washington  53053\n",
       "4639  Pierce County, Washington  53053\n",
       "4640  Pierce County, Washington  53053\n",
       "4641  Pierce County, Washington  53053\n",
       "4642  Pierce County, Washington  53053\n",
       "...                         ...    ...\n",
       "4712  Pierce County, Washington  53053\n",
       "4713  Pierce County, Washington  53053\n",
       "4714  Pierce County, Washington  53053\n",
       "4715  Pierce County, Washington  53053\n",
       "4716  Pierce County, Washington  53053\n",
       "\n",
       "[79 rows x 2 columns]"
      ]
     },
     "execution_count": 890,
     "metadata": {},
     "output_type": "execute_result"
    }
   ],
   "source": [
    "heat_map[heat_map['fips']=='53053']"
   ]
  },
  {
   "cell_type": "code",
   "execution_count": 901,
   "id": "2210e48e-b50c-4ddd-82f4-4a3be9687224",
   "metadata": {},
   "outputs": [
    {
     "data": {
      "text/html": [
       "<div>\n",
       "<style scoped>\n",
       "    .dataframe tbody tr th:only-of-type {\n",
       "        vertical-align: middle;\n",
       "    }\n",
       "\n",
       "    .dataframe tbody tr th {\n",
       "        vertical-align: top;\n",
       "    }\n",
       "\n",
       "    .dataframe thead th {\n",
       "        text-align: right;\n",
       "    }\n",
       "</style>\n",
       "<table border=\"1\" class=\"dataframe\">\n",
       "  <thead>\n",
       "    <tr style=\"text-align: right;\">\n",
       "      <th></th>\n",
       "      <th>Counties</th>\n",
       "      <th># of Listings</th>\n",
       "      <th>Most Recent Report</th>\n",
       "      <th>Last Posted</th>\n",
       "      <th>Link</th>\n",
       "    </tr>\n",
       "  </thead>\n",
       "  <tbody>\n",
       "    <tr>\n",
       "      <th>2</th>\n",
       "      <td>Anchorage</td>\n",
       "      <td>2</td>\n",
       "      <td>2-2004</td>\n",
       "      <td>11-2005</td>\n",
       "      <td>https://www.bfro.net/GDB/show_county_reports.a...</td>\n",
       "    </tr>\n",
       "    <tr>\n",
       "      <th>5</th>\n",
       "      <td>Bethel</td>\n",
       "      <td>2</td>\n",
       "      <td>9-1998</td>\n",
       "      <td>1-2013</td>\n",
       "      <td>https://www.bfro.net/GDB/show_county_reports.a...</td>\n",
       "    </tr>\n",
       "    <tr>\n",
       "      <th>6</th>\n",
       "      <td>Bristol Bay</td>\n",
       "      <td>1</td>\n",
       "      <td>7-2004</td>\n",
       "      <td>5-2005</td>\n",
       "      <td>https://www.bfro.net/GDB/show_county_reports.a...</td>\n",
       "    </tr>\n",
       "    <tr>\n",
       "      <th>7</th>\n",
       "      <td>Cordova-McCarthy</td>\n",
       "      <td>1</td>\n",
       "      <td>6-2000</td>\n",
       "      <td>11-2000</td>\n",
       "      <td>https://www.bfro.net/GDB/show_county_reports.a...</td>\n",
       "    </tr>\n",
       "    <tr>\n",
       "      <th>8</th>\n",
       "      <td>Fairbanks</td>\n",
       "      <td>5</td>\n",
       "      <td>7-2009</td>\n",
       "      <td>12-2009</td>\n",
       "      <td>https://www.bfro.net/GDB/show_county_reports.a...</td>\n",
       "    </tr>\n",
       "    <tr>\n",
       "      <th>...</th>\n",
       "      <td>...</td>\n",
       "      <td>...</td>\n",
       "      <td>...</td>\n",
       "      <td>...</td>\n",
       "      <td>...</td>\n",
       "    </tr>\n",
       "    <tr>\n",
       "      <th>6286</th>\n",
       "      <td>Sublette</td>\n",
       "      <td>1</td>\n",
       "      <td>7-2001</td>\n",
       "      <td>9-2001</td>\n",
       "      <td>https://www.bfro.net/GDB/show_county_reports.a...</td>\n",
       "    </tr>\n",
       "    <tr>\n",
       "      <th>6287</th>\n",
       "      <td>Sweetwater</td>\n",
       "      <td>1</td>\n",
       "      <td>1-1890</td>\n",
       "      <td>6-1999</td>\n",
       "      <td>https://www.bfro.net/GDB/show_county_reports.a...</td>\n",
       "    </tr>\n",
       "    <tr>\n",
       "      <th>6288</th>\n",
       "      <td>Teton</td>\n",
       "      <td>3</td>\n",
       "      <td>9-2003</td>\n",
       "      <td>9-2003</td>\n",
       "      <td>https://www.bfro.net/GDB/show_county_reports.a...</td>\n",
       "    </tr>\n",
       "    <tr>\n",
       "      <th>6289</th>\n",
       "      <td>Uinta</td>\n",
       "      <td>2</td>\n",
       "      <td>11-2005</td>\n",
       "      <td>8-2006</td>\n",
       "      <td>https://www.bfro.net/GDB/show_county_reports.a...</td>\n",
       "    </tr>\n",
       "    <tr>\n",
       "      <th>6290</th>\n",
       "      <td>Washakie</td>\n",
       "      <td>1</td>\n",
       "      <td>6-2000</td>\n",
       "      <td>6-2000</td>\n",
       "      <td>https://www.bfro.net/GDB/show_county_reports.a...</td>\n",
       "    </tr>\n",
       "  </tbody>\n",
       "</table>\n",
       "<p>3266 rows × 5 columns</p>\n",
       "</div>"
      ],
      "text/plain": [
       "              Counties # of Listings Most Recent Report Last Posted  \\\n",
       "2            Anchorage             2             2-2004     11-2005   \n",
       "5               Bethel             2             9-1998      1-2013   \n",
       "6          Bristol Bay             1             7-2004      5-2005   \n",
       "7     Cordova-McCarthy             1             6-2000     11-2000   \n",
       "8            Fairbanks             5             7-2009     12-2009   \n",
       "...                ...           ...                ...         ...   \n",
       "6286          Sublette             1             7-2001      9-2001   \n",
       "6287        Sweetwater             1             1-1890      6-1999   \n",
       "6288             Teton             3             9-2003      9-2003   \n",
       "6289             Uinta             2            11-2005      8-2006   \n",
       "6290          Washakie             1             6-2000      6-2000   \n",
       "\n",
       "                                                   Link  \n",
       "2     https://www.bfro.net/GDB/show_county_reports.a...  \n",
       "5     https://www.bfro.net/GDB/show_county_reports.a...  \n",
       "6     https://www.bfro.net/GDB/show_county_reports.a...  \n",
       "7     https://www.bfro.net/GDB/show_county_reports.a...  \n",
       "8     https://www.bfro.net/GDB/show_county_reports.a...  \n",
       "...                                                 ...  \n",
       "6286  https://www.bfro.net/GDB/show_county_reports.a...  \n",
       "6287  https://www.bfro.net/GDB/show_county_reports.a...  \n",
       "6288  https://www.bfro.net/GDB/show_county_reports.a...  \n",
       "6289  https://www.bfro.net/GDB/show_county_reports.a...  \n",
       "6290  https://www.bfro.net/GDB/show_county_reports.a...  \n",
       "\n",
       "[3266 rows x 5 columns]"
      ]
     },
     "execution_count": 901,
     "metadata": {},
     "output_type": "execute_result"
    }
   ],
   "source": [
    "heat_data = us_counties[~us_counties['# of Listings'].isin([''])]\n",
    "heat_data"
   ]
  },
  {
   "cell_type": "code",
   "execution_count": 903,
   "id": "7da95dfd-150d-46bc-9f5a-a50b8d885bb0",
   "metadata": {},
   "outputs": [],
   "source": [
    "heat_plot = heat_data[['Counties','# of Listings']]"
   ]
  },
  {
   "cell_type": "code",
   "execution_count": 905,
   "id": "b6ee1ca6-3246-4c3d-9420-57f9a7b4160e",
   "metadata": {},
   "outputs": [],
   "source": [
    "heat_plot.to_clipboard()"
   ]
  },
  {
   "cell_type": "code",
   "execution_count": null,
   "id": "ffaecc1d-e6d8-403d-8db5-cf5a7a6d0589",
   "metadata": {},
   "outputs": [],
   "source": [
    "# Tree cover\n",
    "url = 'https://apps.fs.usda.gov/fiadb-api/fullreport/parameters/snum'"
   ]
  },
  {
   "cell_type": "code",
   "execution_count": null,
   "id": "9a7b2036-d4f3-449a-802e-de472ca221e9",
   "metadata": {},
   "outputs": [],
   "source": [
    "lat = '61.217576'\t\n",
    "lon = '-149.899678'"
   ]
  },
  {
   "cell_type": "code",
   "execution_count": null,
   "id": "f86adb80-0908-45e1-a5a6-52b413ff54b4",
   "metadata": {},
   "outputs": [],
   "source": [
    "url = 'https://apps.fs.usda.gov/fiadb-api/fullreport'\n",
    "keys = {'locations': place, 'key': key}\n",
    "r = requests.get(url,params=keys)\n",
    "result_dic = r.json()"
   ]
  },
  {
   "cell_type": "markdown",
   "id": "cbb89fde-50d2-4577-b9c0-7cb0594e5a89",
   "metadata": {},
   "source": [
    "# Three plots"
   ]
  },
  {
   "cell_type": "code",
   "execution_count": 807,
   "id": "4c2d37ca-1924-4c14-8496-2b780035aecd",
   "metadata": {},
   "outputs": [
    {
     "data": {
      "text/html": [
       "<div>\n",
       "<style scoped>\n",
       "    .dataframe tbody tr th:only-of-type {\n",
       "        vertical-align: middle;\n",
       "    }\n",
       "\n",
       "    .dataframe tbody tr th {\n",
       "        vertical-align: top;\n",
       "    }\n",
       "\n",
       "    .dataframe thead th {\n",
       "        text-align: right;\n",
       "    }\n",
       "</style>\n",
       "<table border=\"1\" class=\"dataframe\">\n",
       "  <thead>\n",
       "    <tr style=\"text-align: right;\">\n",
       "      <th></th>\n",
       "      <th>Place</th>\n",
       "      <th>Class</th>\n",
       "      <th>lat</th>\n",
       "      <th>long</th>\n",
       "    </tr>\n",
       "  </thead>\n",
       "  <tbody>\n",
       "    <tr>\n",
       "      <th>0</th>\n",
       "      <td>Anchorage Borough, Alaska</td>\n",
       "      <td>Class A</td>\n",
       "      <td>61.217576</td>\n",
       "      <td>-149.899678</td>\n",
       "    </tr>\n",
       "    <tr>\n",
       "      <th>1</th>\n",
       "      <td>Anchorage Borough, Alaska</td>\n",
       "      <td>Class B</td>\n",
       "      <td>61.217576</td>\n",
       "      <td>-149.899678</td>\n",
       "    </tr>\n",
       "    <tr>\n",
       "      <th>2</th>\n",
       "      <td>Bethel Borough, Alaska</td>\n",
       "      <td>Class B</td>\n",
       "      <td>60.794259</td>\n",
       "      <td>-161.769440</td>\n",
       "    </tr>\n",
       "    <tr>\n",
       "      <th>3</th>\n",
       "      <td>Bristol Bay Borough, Alaska</td>\n",
       "      <td>Class B</td>\n",
       "      <td>58.757850</td>\n",
       "      <td>-156.779269</td>\n",
       "    </tr>\n",
       "    <tr>\n",
       "      <th>4</th>\n",
       "      <td>Cordova-McCarthy Borough, Alaska</td>\n",
       "      <td>Class A</td>\n",
       "      <td>60.542409</td>\n",
       "      <td>-145.752541</td>\n",
       "    </tr>\n",
       "    <tr>\n",
       "      <th>...</th>\n",
       "      <td>...</td>\n",
       "      <td>...</td>\n",
       "      <td>...</td>\n",
       "      <td>...</td>\n",
       "    </tr>\n",
       "    <tr>\n",
       "      <th>5383</th>\n",
       "      <td>Saskatchewan Canada</td>\n",
       "      <td>Class B</td>\n",
       "      <td>52.939916</td>\n",
       "      <td>-106.450864</td>\n",
       "    </tr>\n",
       "    <tr>\n",
       "      <th>5384</th>\n",
       "      <td>Saskatchewan Canada</td>\n",
       "      <td>Class A</td>\n",
       "      <td>52.939916</td>\n",
       "      <td>-106.450864</td>\n",
       "    </tr>\n",
       "    <tr>\n",
       "      <th>5385</th>\n",
       "      <td>Saskatchewan Canada</td>\n",
       "      <td>Class B</td>\n",
       "      <td>52.939916</td>\n",
       "      <td>-106.450864</td>\n",
       "    </tr>\n",
       "    <tr>\n",
       "      <th>5386</th>\n",
       "      <td>Saskatchewan Canada</td>\n",
       "      <td>Class A</td>\n",
       "      <td>52.939916</td>\n",
       "      <td>-106.450864</td>\n",
       "    </tr>\n",
       "    <tr>\n",
       "      <th>5387</th>\n",
       "      <td>Yukon Canada</td>\n",
       "      <td>Class A</td>\n",
       "      <td>64.282327</td>\n",
       "      <td>-135.000000</td>\n",
       "    </tr>\n",
       "  </tbody>\n",
       "</table>\n",
       "<p>5388 rows × 4 columns</p>\n",
       "</div>"
      ],
      "text/plain": [
       "                                 Place    Class        lat        long\n",
       "0            Anchorage Borough, Alaska  Class A  61.217576 -149.899678\n",
       "1            Anchorage Borough, Alaska  Class B  61.217576 -149.899678\n",
       "2               Bethel Borough, Alaska  Class B  60.794259 -161.769440\n",
       "3          Bristol Bay Borough, Alaska  Class B  58.757850 -156.779269\n",
       "4     Cordova-McCarthy Borough, Alaska  Class A  60.542409 -145.752541\n",
       "...                                ...      ...        ...         ...\n",
       "5383               Saskatchewan Canada  Class B  52.939916 -106.450864\n",
       "5384               Saskatchewan Canada  Class A  52.939916 -106.450864\n",
       "5385               Saskatchewan Canada  Class B  52.939916 -106.450864\n",
       "5386               Saskatchewan Canada  Class A  52.939916 -106.450864\n",
       "5387                      Yukon Canada  Class A  64.282327 -135.000000\n",
       "\n",
       "[5388 rows x 4 columns]"
      ]
     },
     "execution_count": 807,
     "metadata": {},
     "output_type": "execute_result"
    }
   ],
   "source": [
    "class_plot.head(-2)"
   ]
  },
  {
   "cell_type": "code",
   "execution_count": 811,
   "id": "748f13e2-e48c-454a-880c-5e2b79c1a537",
   "metadata": {},
   "outputs": [],
   "source": [
    "class_plot.loc[:, 'County'] = class_plot['Place'].str.split(r'Borough, |County, ').str[0]"
   ]
  },
  {
   "cell_type": "code",
   "execution_count": 812,
   "id": "d53fa350-7369-4956-8de8-803ce0de1116",
   "metadata": {},
   "outputs": [
    {
     "data": {
      "text/html": [
       "<div>\n",
       "<style scoped>\n",
       "    .dataframe tbody tr th:only-of-type {\n",
       "        vertical-align: middle;\n",
       "    }\n",
       "\n",
       "    .dataframe tbody tr th {\n",
       "        vertical-align: top;\n",
       "    }\n",
       "\n",
       "    .dataframe thead th {\n",
       "        text-align: right;\n",
       "    }\n",
       "</style>\n",
       "<table border=\"1\" class=\"dataframe\">\n",
       "  <thead>\n",
       "    <tr style=\"text-align: right;\">\n",
       "      <th></th>\n",
       "      <th>Place</th>\n",
       "      <th>Class</th>\n",
       "      <th>lat</th>\n",
       "      <th>long</th>\n",
       "      <th>County</th>\n",
       "    </tr>\n",
       "  </thead>\n",
       "  <tbody>\n",
       "    <tr>\n",
       "      <th>0</th>\n",
       "      <td>Anchorage Borough, Alaska</td>\n",
       "      <td>Class A</td>\n",
       "      <td>61.217576</td>\n",
       "      <td>-149.899678</td>\n",
       "      <td>Anchorage Borough, Alaska</td>\n",
       "    </tr>\n",
       "    <tr>\n",
       "      <th>1</th>\n",
       "      <td>Anchorage Borough, Alaska</td>\n",
       "      <td>Class B</td>\n",
       "      <td>61.217576</td>\n",
       "      <td>-149.899678</td>\n",
       "      <td>Anchorage Borough, Alaska</td>\n",
       "    </tr>\n",
       "    <tr>\n",
       "      <th>2</th>\n",
       "      <td>Bethel Borough, Alaska</td>\n",
       "      <td>Class B</td>\n",
       "      <td>60.794259</td>\n",
       "      <td>-161.769440</td>\n",
       "      <td>Bethel Borough, Alaska</td>\n",
       "    </tr>\n",
       "    <tr>\n",
       "      <th>3</th>\n",
       "      <td>Bristol Bay Borough, Alaska</td>\n",
       "      <td>Class B</td>\n",
       "      <td>58.757850</td>\n",
       "      <td>-156.779269</td>\n",
       "      <td>Bristol Bay Borough, Alaska</td>\n",
       "    </tr>\n",
       "    <tr>\n",
       "      <th>4</th>\n",
       "      <td>Cordova-McCarthy Borough, Alaska</td>\n",
       "      <td>Class A</td>\n",
       "      <td>60.542409</td>\n",
       "      <td>-145.752541</td>\n",
       "      <td>Cordova-McCarthy Borough, Alaska</td>\n",
       "    </tr>\n",
       "    <tr>\n",
       "      <th>...</th>\n",
       "      <td>...</td>\n",
       "      <td>...</td>\n",
       "      <td>...</td>\n",
       "      <td>...</td>\n",
       "      <td>...</td>\n",
       "    </tr>\n",
       "    <tr>\n",
       "      <th>5385</th>\n",
       "      <td>Saskatchewan Canada</td>\n",
       "      <td>Class B</td>\n",
       "      <td>52.939916</td>\n",
       "      <td>-106.450864</td>\n",
       "      <td>Saskatchewan Canada</td>\n",
       "    </tr>\n",
       "    <tr>\n",
       "      <th>5386</th>\n",
       "      <td>Saskatchewan Canada</td>\n",
       "      <td>Class A</td>\n",
       "      <td>52.939916</td>\n",
       "      <td>-106.450864</td>\n",
       "      <td>Saskatchewan Canada</td>\n",
       "    </tr>\n",
       "    <tr>\n",
       "      <th>5387</th>\n",
       "      <td>Yukon Canada</td>\n",
       "      <td>Class A</td>\n",
       "      <td>64.282327</td>\n",
       "      <td>-135.000000</td>\n",
       "      <td>Yukon Canada</td>\n",
       "    </tr>\n",
       "    <tr>\n",
       "      <th>5388</th>\n",
       "      <td>Yukon Canada</td>\n",
       "      <td>Class B</td>\n",
       "      <td>64.282327</td>\n",
       "      <td>-135.000000</td>\n",
       "      <td>Yukon Canada</td>\n",
       "    </tr>\n",
       "    <tr>\n",
       "      <th>5389</th>\n",
       "      <td>Yukon Canada</td>\n",
       "      <td>Class B</td>\n",
       "      <td>64.282327</td>\n",
       "      <td>-135.000000</td>\n",
       "      <td>Yukon Canada</td>\n",
       "    </tr>\n",
       "  </tbody>\n",
       "</table>\n",
       "<p>5390 rows × 5 columns</p>\n",
       "</div>"
      ],
      "text/plain": [
       "                                 Place    Class        lat        long  \\\n",
       "0            Anchorage Borough, Alaska  Class A  61.217576 -149.899678   \n",
       "1            Anchorage Borough, Alaska  Class B  61.217576 -149.899678   \n",
       "2               Bethel Borough, Alaska  Class B  60.794259 -161.769440   \n",
       "3          Bristol Bay Borough, Alaska  Class B  58.757850 -156.779269   \n",
       "4     Cordova-McCarthy Borough, Alaska  Class A  60.542409 -145.752541   \n",
       "...                                ...      ...        ...         ...   \n",
       "5385               Saskatchewan Canada  Class B  52.939916 -106.450864   \n",
       "5386               Saskatchewan Canada  Class A  52.939916 -106.450864   \n",
       "5387                      Yukon Canada  Class A  64.282327 -135.000000   \n",
       "5388                      Yukon Canada  Class B  64.282327 -135.000000   \n",
       "5389                      Yukon Canada  Class B  64.282327 -135.000000   \n",
       "\n",
       "                                County  \n",
       "0            Anchorage Borough, Alaska  \n",
       "1            Anchorage Borough, Alaska  \n",
       "2               Bethel Borough, Alaska  \n",
       "3          Bristol Bay Borough, Alaska  \n",
       "4     Cordova-McCarthy Borough, Alaska  \n",
       "...                                ...  \n",
       "5385               Saskatchewan Canada  \n",
       "5386               Saskatchewan Canada  \n",
       "5387                      Yukon Canada  \n",
       "5388                      Yukon Canada  \n",
       "5389                      Yukon Canada  \n",
       "\n",
       "[5390 rows x 5 columns]"
      ]
     },
     "execution_count": 812,
     "metadata": {},
     "output_type": "execute_result"
    }
   ],
   "source": [
    "class_plot"
   ]
  },
  {
   "cell_type": "code",
   "execution_count": 806,
   "id": "2cea9f17-e9b7-4fb2-b47c-4673dd329fcc",
   "metadata": {},
   "outputs": [],
   "source": [
    "# heat map\n",
    "class_plot.groupby('Place')['Class'].count().to_clipboard()"
   ]
  },
  {
   "cell_type": "code",
   "execution_count": null,
   "id": "0a5322e3-d18b-41a8-82c3-c250e448af69",
   "metadata": {},
   "outputs": [],
   "source": [
    "# map--number of sightings by class\n",
    "class_plot.value_counts().to_clipboard()"
   ]
  },
  {
   "cell_type": "code",
   "execution_count": null,
   "id": "06685aa6-7776-44e4-bb80-b2f75cad56b4",
   "metadata": {},
   "outputs": [],
   "source": [
    "# sighting occrued time in the year\n",
    "year_plot[year_plot['Month'].isin(month)].groupby('Month')['Class'].value_counts().reindex(month, level=0).unstack().to_clipboard()"
   ]
  },
  {
   "cell_type": "code",
   "execution_count": null,
   "id": "afe75c69-354a-46eb-8cb2-de5264a0a7f8",
   "metadata": {},
   "outputs": [],
   "source": [
    "# scatter plot -- elevations \n"
   ]
  },
  {
   "cell_type": "code",
   "execution_count": null,
   "id": "54fc8679-e45d-42e6-8294-9922e61e3127",
   "metadata": {},
   "outputs": [],
   "source": [
    "# class AB over the years\n",
    "d.groupby('Year')['Class'].value_counts().unstack().to_clipboard()"
   ]
  },
  {
   "cell_type": "code",
   "execution_count": 906,
   "id": "2e52bec4-0e01-4dae-a277-40d8db58b92b",
   "metadata": {},
   "outputs": [
    {
     "ename": "NameError",
     "evalue": "name 'math' is not defined",
     "output_type": "error",
     "traceback": [
      "\u001b[0;31m---------------------------------------------------------------------------\u001b[0m",
      "\u001b[0;31mNameError\u001b[0m                                 Traceback (most recent call last)",
      "Cell \u001b[0;32mIn[906], line 1\u001b[0m\n\u001b[0;32m----> 1\u001b[0m \u001b[43mmath\u001b[49m\u001b[38;5;241m.\u001b[39msqrt(\u001b[38;5;241m8\u001b[39m)\n",
      "\u001b[0;31mNameError\u001b[0m: name 'math' is not defined"
     ]
    }
   ],
   "source": [
    "math.sqrt(8)"
   ]
  },
  {
   "cell_type": "code",
   "execution_count": null,
   "id": "d43f6a04-6d6e-4bdc-b83d-e345430cdb97",
   "metadata": {},
   "outputs": [],
   "source": []
  }
 ],
 "metadata": {
  "kernelspec": {
   "display_name": "Python 3 (ipykernel)",
   "language": "python",
   "name": "python3"
  },
  "language_info": {
   "codemirror_mode": {
    "name": "ipython",
    "version": 3
   },
   "file_extension": ".py",
   "mimetype": "text/x-python",
   "name": "python",
   "nbconvert_exporter": "python",
   "pygments_lexer": "ipython3",
   "version": "3.12.7"
  }
 },
 "nbformat": 4,
 "nbformat_minor": 5
}
