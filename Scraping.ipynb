{
 "cells": [
  {
   "cell_type": "code",
   "execution_count": 1,
   "id": "8d643af1-3922-4e91-8d35-25df5d1e6871",
   "metadata": {},
   "outputs": [],
   "source": [
    "from bs4 import BeautifulSoup"
   ]
  },
  {
   "cell_type": "code",
   "execution_count": 2,
   "id": "ab78eff4-691c-4bb3-bbda-df19df07662b",
   "metadata": {},
   "outputs": [],
   "source": [
    "import pandas as pd"
   ]
  },
  {
   "cell_type": "code",
   "execution_count": 3,
   "id": "bd5ddeba-269b-4e75-b396-678cb6dc8a48",
   "metadata": {},
   "outputs": [],
   "source": [
    "import re"
   ]
  },
  {
   "cell_type": "code",
   "execution_count": 7,
   "id": "b4e44543-ca8b-4c3f-9b40-6a0ec510875b",
   "metadata": {},
   "outputs": [],
   "source": [
    "import requests"
   ]
  },
  {
   "cell_type": "code",
   "execution_count": 8,
   "id": "4130e8d2-4081-4361-9fce-b4604fb2b932",
   "metadata": {},
   "outputs": [],
   "source": [
    "url = \"https://www.bfro.net/gdb/\"\n",
    "raw_html = requests.get(url).content"
   ]
  },
  {
   "cell_type": "code",
   "execution_count": 9,
   "id": "4dd8ecb7-2278-4803-97ff-2e1e700d245a",
   "metadata": {},
   "outputs": [],
   "source": [
    "page = BeautifulSoup(raw_html, 'html.parser')"
   ]
  },
  {
   "cell_type": "code",
   "execution_count": 10,
   "id": "069de0c2-00d8-4151-a26e-1df3c58b2b71",
   "metadata": {},
   "outputs": [],
   "source": [
    "us_table = page.find_all('table')"
   ]
  },
  {
   "cell_type": "code",
   "execution_count": 11,
   "id": "2d53293d-ebff-4069-914a-65ba1cc46156",
   "metadata": {},
   "outputs": [],
   "source": [
    "table_content = us_table[0].find_all('table')[2:]"
   ]
  },
  {
   "cell_type": "code",
   "execution_count": 12,
   "id": "b7e95b38-aae5-4346-bedc-c7e67063de6c",
   "metadata": {},
   "outputs": [
    {
     "data": {
      "text/plain": [
       "'Province# ofListingsMostRecentReportLastPostedAlberta433-20207-2018British Columbia13512-202012-2020Manitoba318-20121-2011New Brunswick812-20218-2021Province# ofListingsMostRecentReportLastPostedNova Scotia311-201610-2015Ontario688-20207-2020Quebec44-20081-2007Saskatchewan710-20084-2006Yukon55-20093-2009'"
      ]
     },
     "execution_count": 12,
     "metadata": {},
     "output_type": "execute_result"
    }
   ],
   "source": [
    "table_content[3].text"
   ]
  },
  {
   "cell_type": "code",
   "execution_count": 13,
   "id": "e3661d11-3faa-4e3d-acdb-785c6004aaa6",
   "metadata": {},
   "outputs": [],
   "source": [
    "data = []\n",
    "base = 'https://www.bfro.net'\n",
    "for tables in table_content[1:]:\n",
    "    rows = tables.find_all('tr')[1:]\n",
    "    for row in rows:\n",
    "        cols = row.find_all('td')\n",
    "        state = cols[0].text.strip()\n",
    "        a_tag = cols[0].find('a')\n",
    "        link = base + a_tag['href'] if a_tag else None\n",
    "        num_listings = cols[1].text.strip()\n",
    "        most_recent_report = cols[2].text.strip()\n",
    "        last_posted = cols[3].text.strip()\n",
    "        data.append([state, num_listings, most_recent_report, last_posted,link])"
   ]
  },
  {
   "cell_type": "code",
   "execution_count": 14,
   "id": "b881bb16-0209-499d-9194-a0bcdd157fda",
   "metadata": {},
   "outputs": [],
   "source": [
    "df = pd.DataFrame(data, columns=[\"State/Province\", \"# of Listings\", \"Most Recent Report\", \"Last Posted\",\"Link\"])"
   ]
  },
  {
   "cell_type": "markdown",
   "id": "6800fe64-0ca3-443b-9f1d-a097372a9cca",
   "metadata": {},
   "source": [
    "# GoogleGeoAPI to find the coordinate"
   ]
  },
  {
   "cell_type": "code",
   "execution_count": 18,
   "id": "749ca7c0-44c3-4a5e-973a-35b52318ecf0",
   "metadata": {},
   "outputs": [],
   "source": [
    "import time"
   ]
  },
  {
   "cell_type": "code",
   "execution_count": 238,
   "id": "0df0c4c8-e8ca-425b-9dcc-edffefc647e1",
   "metadata": {},
   "outputs": [
    {
     "data": {
      "text/plain": [
       "True"
      ]
     },
     "execution_count": 238,
     "metadata": {},
     "output_type": "execute_result"
    }
   ],
   "source": [
    "from dotenv import load_dotenv\n",
    "load_dotenv()"
   ]
  },
  {
   "cell_type": "code",
   "execution_count": 13,
   "id": "9039da08-1697-4d4e-be99-c46480bd1fe2",
   "metadata": {},
   "outputs": [],
   "source": [
    "import os\n",
    "api_key = os.environ.get('GMAP_API')"
   ]
  },
  {
   "cell_type": "code",
   "execution_count": 14,
   "id": "a812460c-ca01-4c56-acdf-2d55697fafc5",
   "metadata": {},
   "outputs": [],
   "source": [
    "placeNames = df['State/Province']"
   ]
  },
  {
   "cell_type": "code",
   "execution_count": 15,
   "id": "fc9cc916-7aa0-4ae5-bf54-579c33653039",
   "metadata": {},
   "outputs": [],
   "source": [
    "url = 'https://maps.googleapis.com/maps/api/geocode/json'\n",
    "keys = {'address': 'Alaska', 'key': api_key}\n",
    "r = requests.get(url,params=keys)\n",
    "result_dic = r.json()"
   ]
  },
  {
   "cell_type": "code",
   "execution_count": 16,
   "id": "3637399a-4850-4f32-9276-471573d91b27",
   "metadata": {},
   "outputs": [
    {
     "data": {
      "text/plain": [
       "{'results': [{'address_components': [{'long_name': 'Alaska',\n",
       "     'short_name': 'AK',\n",
       "     'types': ['administrative_area_level_1', 'political']},\n",
       "    {'long_name': 'United States',\n",
       "     'short_name': 'US',\n",
       "     'types': ['country', 'political']}],\n",
       "   'formatted_address': 'Alaska, USA',\n",
       "   'geometry': {'bounds': {'northeast': {'lat': 71.439786,\n",
       "      'lng': -129.9741939},\n",
       "     'southwest': {'lat': 51.175092, 'lng': 172.347846}},\n",
       "    'location': {'lat': 63.588753, 'lng': -154.4930619},\n",
       "    'location_type': 'APPROXIMATE',\n",
       "    'viewport': {'northeast': {'lat': 71.439786, 'lng': -129.9741939},\n",
       "     'southwest': {'lat': 51.175092, 'lng': 172.347846}}},\n",
       "   'place_id': 'ChIJG8CuwJzfAFQRNduKqSde27w',\n",
       "   'types': ['administrative_area_level_1', 'political']}],\n",
       " 'status': 'OK'}"
      ]
     },
     "execution_count": 16,
     "metadata": {},
     "output_type": "execute_result"
    }
   ],
   "source": [
    "result_dic"
   ]
  },
  {
   "cell_type": "code",
   "execution_count": 28,
   "id": "a60718c4-4dfb-4c65-b65f-664691c2bc23",
   "metadata": {},
   "outputs": [
    {
     "name": "stdout",
     "output_type": "stream",
     "text": [
      "{'place': 'Alaska', 'geometry.type': 'Point', 'geometry.coordinates': [-154.4930619, 63.588753]}\n",
      "{'place': 'Alabama', 'geometry.type': 'Point', 'geometry.coordinates': [-86.902298, 32.3182314]}\n",
      "{'place': 'Arkansas', 'geometry.type': 'Point', 'geometry.coordinates': [-91.8318334, 35.20105]}\n",
      "{'place': 'Arizona', 'geometry.type': 'Point', 'geometry.coordinates': [-111.0937311, 34.0489281]}\n",
      "{'place': 'California', 'geometry.type': 'Point', 'geometry.coordinates': [-119.4179324, 36.778261]}\n",
      "{'place': 'Colorado', 'geometry.type': 'Point', 'geometry.coordinates': [-105.7820674, 39.5500507]}\n",
      "{'place': 'Connecticut', 'geometry.type': 'Point', 'geometry.coordinates': [-73.087749, 41.6032207]}\n",
      "{'place': 'Delaware', 'geometry.type': 'Point', 'geometry.coordinates': [-75.52766989999999, 38.9108325]}\n",
      "{'place': 'Florida', 'geometry.type': 'Point', 'geometry.coordinates': [-81.5157535, 27.6648274]}\n",
      "{'place': 'Georgia', 'geometry.type': 'Point', 'geometry.coordinates': [43.35689199999999, 42.315407]}\n",
      "{'place': 'Iowa', 'geometry.type': 'Point', 'geometry.coordinates': [-93.097702, 41.8780025]}\n",
      "{'place': 'Idaho', 'geometry.type': 'Point', 'geometry.coordinates': [-114.7420408, 44.0682019]}\n",
      "{'place': 'Illinois', 'geometry.type': 'Point', 'geometry.coordinates': [-89.3985283, 40.6331249]}\n",
      "{'place': 'Indiana', 'geometry.type': 'Point', 'geometry.coordinates': [-85.60236429999999, 40.5512165]}\n",
      "{'place': 'Kansas', 'geometry.type': 'Point', 'geometry.coordinates': [-98.4842465, 39.011902]}\n",
      "{'place': 'Kentucky', 'geometry.type': 'Point', 'geometry.coordinates': [-84.2700179, 37.8393332]}\n",
      "{'place': 'Louisiana', 'geometry.type': 'Point', 'geometry.coordinates': [-91.5208624, 30.5190775]}\n",
      "{'place': 'Massachusetts', 'geometry.type': 'Point', 'geometry.coordinates': [-71.3824374, 42.4072107]}\n",
      "{'place': 'Maryland', 'geometry.type': 'Point', 'geometry.coordinates': [-76.64127119999999, 39.0457549]}\n",
      "{'place': 'Maine', 'geometry.type': 'Point', 'geometry.coordinates': [-69.4454689, 45.253783]}\n",
      "{'place': 'Michigan', 'geometry.type': 'Point', 'geometry.coordinates': [-85.60236429999999, 44.3148443]}\n",
      "{'place': 'Minnesota', 'geometry.type': 'Point', 'geometry.coordinates': [-94.6858998, 46.729553]}\n",
      "{'place': 'Missouri', 'geometry.type': 'Point', 'geometry.coordinates': [-91.8318334, 37.9642529]}\n",
      "{'place': 'Mississippi', 'geometry.type': 'Point', 'geometry.coordinates': [-89.3985283, 32.3546679]}\n",
      "{'place': 'Montana', 'geometry.type': 'Point', 'geometry.coordinates': [-110.3625658, 46.8796822]}\n",
      "{'place': 'North Carolina', 'geometry.type': 'Point', 'geometry.coordinates': [-79.01929969999999, 35.7595731]}\n",
      "{'place': 'North Dakota', 'geometry.type': 'Point', 'geometry.coordinates': [-101.0020119, 47.5514926]}\n",
      "{'place': 'Nebraska', 'geometry.type': 'Point', 'geometry.coordinates': [-99.9018131, 41.4925374]}\n",
      "{'place': 'New Hampshire', 'geometry.type': 'Point', 'geometry.coordinates': [-71.5723953, 43.1938516]}\n",
      "{'place': 'New Jersey', 'geometry.type': 'Point', 'geometry.coordinates': [-74.4056612, 40.0583238]}\n",
      "{'place': 'New Mexico', 'geometry.type': 'Point', 'geometry.coordinates': [-105.0323635, 34.9727305]}\n",
      "{'place': 'Nevada', 'geometry.type': 'Point', 'geometry.coordinates': [-116.419389, 38.8026097]}\n",
      "{'place': 'New York', 'geometry.type': 'Point', 'geometry.coordinates': [-74.0059728, 40.7127753]}\n",
      "{'place': 'Ohio', 'geometry.type': 'Point', 'geometry.coordinates': [-82.90712300000001, 40.4172871]}\n",
      "{'place': 'Oklahoma', 'geometry.type': 'Point', 'geometry.coordinates': [-97.092877, 35.0077519]}\n",
      "{'place': 'Oregon', 'geometry.type': 'Point', 'geometry.coordinates': [-120.5542012, 43.8041334]}\n",
      "{'place': 'Pennsylvania', 'geometry.type': 'Point', 'geometry.coordinates': [-77.1945247, 41.2033216]}\n",
      "{'place': 'Rhode Island', 'geometry.type': 'Point', 'geometry.coordinates': [-71.4774291, 41.5800945]}\n",
      "{'place': 'South Carolina', 'geometry.type': 'Point', 'geometry.coordinates': [-81.1637245, 33.836081]}\n",
      "{'place': 'South Dakota', 'geometry.type': 'Point', 'geometry.coordinates': [-99.9018131, 43.9695148]}\n",
      "{'place': 'Tennessee', 'geometry.type': 'Point', 'geometry.coordinates': [-86.5804473, 35.5174913]}\n",
      "{'place': 'Texas', 'geometry.type': 'Point', 'geometry.coordinates': [-99.9018131, 31.9685988]}\n",
      "{'place': 'Utah', 'geometry.type': 'Point', 'geometry.coordinates': [-111.8939487, 40.7606608]}\n",
      "{'place': 'Virginia', 'geometry.type': 'Point', 'geometry.coordinates': [-78.6568942, 37.4315734]}\n",
      "{'place': 'Vermont', 'geometry.type': 'Point', 'geometry.coordinates': [-72.57784149999999, 44.5588028]}\n",
      "{'place': 'Washington', 'geometry.type': 'Point', 'geometry.coordinates': [-77.0368707, 38.9071923]}\n",
      "{'place': 'Wisconsin', 'geometry.type': 'Point', 'geometry.coordinates': [-88.7878678, 43.7844397]}\n",
      "{'place': 'West Virginia', 'geometry.type': 'Point', 'geometry.coordinates': [-80.4549026, 38.5976262]}\n",
      "{'place': 'Wyoming', 'geometry.type': 'Point', 'geometry.coordinates': [-107.2902839, 43.0759678]}\n",
      "No results found. Check your query or API key.\n",
      "{'place': 'Wyoming', 'geometry.type': 'Point', 'geometry.coordinates': [-107.2902839, 43.0759678]}\n",
      "{'place': 'Alberta', 'geometry.type': 'Point', 'geometry.coordinates': [-116.5765035, 53.9332706]}\n",
      "{'place': 'British Columbia', 'geometry.type': 'Point', 'geometry.coordinates': [-127.6476206, 53.7266683]}\n",
      "{'place': 'Manitoba', 'geometry.type': 'Point', 'geometry.coordinates': [-98.81387629999999, 53.7608608]}\n",
      "{'place': 'New Brunswick', 'geometry.type': 'Point', 'geometry.coordinates': [-66.46191639999999, 46.5653163]}\n",
      "No results found. Check your query or API key.\n",
      "{'place': 'New Brunswick', 'geometry.type': 'Point', 'geometry.coordinates': [-66.46191639999999, 46.5653163]}\n",
      "{'place': 'Nova Scotia', 'geometry.type': 'Point', 'geometry.coordinates': [-63.5466822, 45.07784729999999]}\n",
      "{'place': 'Ontario', 'geometry.type': 'Point', 'geometry.coordinates': [-85.3232139, 51.253775]}\n",
      "{'place': 'Quebec', 'geometry.type': 'Point', 'geometry.coordinates': [-71.20745959999999, 46.8130816]}\n",
      "{'place': 'Saskatchewan', 'geometry.type': 'Point', 'geometry.coordinates': [-106.4508639, 52.9399159]}\n",
      "{'place': 'Yukon', 'geometry.type': 'Point', 'geometry.coordinates': [-135, 64.2823274]}\n",
      "{'place': 'Alberta', 'geometry.type': 'Point', 'geometry.coordinates': [-116.5765035, 53.9332706]}\n",
      "{'place': 'British Columbia', 'geometry.type': 'Point', 'geometry.coordinates': [-127.6476206, 53.7266683]}\n",
      "{'place': 'Manitoba', 'geometry.type': 'Point', 'geometry.coordinates': [-98.81387629999999, 53.7608608]}\n",
      "{'place': 'New Brunswick', 'geometry.type': 'Point', 'geometry.coordinates': [-66.46191639999999, 46.5653163]}\n",
      "{'place': 'Nova Scotia', 'geometry.type': 'Point', 'geometry.coordinates': [-63.5466822, 45.07784729999999]}\n",
      "{'place': 'Ontario', 'geometry.type': 'Point', 'geometry.coordinates': [-85.3232139, 51.253775]}\n",
      "{'place': 'Quebec', 'geometry.type': 'Point', 'geometry.coordinates': [-71.20745959999999, 46.8130816]}\n",
      "{'place': 'Saskatchewan', 'geometry.type': 'Point', 'geometry.coordinates': [-106.4508639, 52.9399159]}\n",
      "{'place': 'Yukon', 'geometry.type': 'Point', 'geometry.coordinates': [-135, 64.2823274]}\n",
      "No results found. Check your query or API key.\n",
      "{'place': 'Yukon', 'geometry.type': 'Point', 'geometry.coordinates': [-135, 64.2823274]}\n",
      "{'place': 'Australia', 'geometry.type': 'Point', 'geometry.coordinates': [133.775136, -25.274398]}\n",
      "{'place': 'China', 'geometry.type': 'Point', 'geometry.coordinates': [104.195397, 35.86166]}\n",
      "{'place': 'Indonesia', 'geometry.type': 'Point', 'geometry.coordinates': [113.921327, -0.789275]}\n",
      "No results found. Check your query or API key.\n",
      "{'place': 'Indonesia', 'geometry.type': 'Point', 'geometry.coordinates': [113.921327, -0.789275]}\n",
      "{'place': 'Malaysia', 'geometry.type': 'Point', 'geometry.coordinates': [101.975766, 4.210484]}\n",
      "{'place': 'Himalayan Region', 'geometry.type': 'Point', 'geometry.coordinates': [83.9310039, 28.5983159]}\n",
      "{'place': 'Russia', 'geometry.type': 'Point', 'geometry.coordinates': [105.318756, 61.52401]}\n",
      "No results found. Check your query or API key.\n",
      "{'place': 'Russia', 'geometry.type': 'Point', 'geometry.coordinates': [105.318756, 61.52401]}\n",
      "{'place': 'Australia', 'geometry.type': 'Point', 'geometry.coordinates': [133.775136, -25.274398]}\n",
      "{'place': 'China', 'geometry.type': 'Point', 'geometry.coordinates': [104.195397, 35.86166]}\n",
      "{'place': 'Indonesia', 'geometry.type': 'Point', 'geometry.coordinates': [113.921327, -0.789275]}\n",
      "{'place': 'Malaysia', 'geometry.type': 'Point', 'geometry.coordinates': [101.975766, 4.210484]}\n",
      "{'place': 'Himalayan Region', 'geometry.type': 'Point', 'geometry.coordinates': [83.9310039, 28.5983159]}\n",
      "{'place': 'Russia', 'geometry.type': 'Point', 'geometry.coordinates': [105.318756, 61.52401]}\n",
      "No results found. Check your query or API key.\n",
      "{'place': 'Russia', 'geometry.type': 'Point', 'geometry.coordinates': [105.318756, 61.52401]}\n"
     ]
    }
   ],
   "source": [
    "geometry_df = []\n",
    "#looping through the placeNames list\n",
    "for place in placeNames:\n",
    "    url = 'https://maps.googleapis.com/maps/api/geocode/json'\n",
    "    keys = {'address': place, 'key': api_key}\n",
    "    r = requests.get(url,params=keys)\n",
    "    result_dic = r.json()\n",
    "    if 'results' in result_dic and len(result_dic['results']) > 0:\n",
    "        lat = result_dic['results'][0]['geometry']['location']['lat']\n",
    "        long = result_dic['results'][0]['geometry']['location']['lng']\n",
    "        coords = []\n",
    "        coords.append(long)\n",
    "        coords.append(lat)\n",
    "        mygeometry = {'place': place, 'geometry.type': 'Point','geometry.coordinates':coords,'lat':lat,'long':long}\n",
    "        geometry_df.append(mygeometry)\n",
    "    else:\n",
    "        print(\"No results found. Check your query or API key.\")\n",
    "    print(mygeometry)\n",
    "    time.sleep(0.5)"
   ]
  },
  {
   "cell_type": "code",
   "execution_count": 31,
   "id": "f8023d69-81de-45b5-bdbb-fd76483535bb",
   "metadata": {},
   "outputs": [],
   "source": [
    "geometry = pd.DataFrame(geometry_df)"
   ]
  },
  {
   "cell_type": "code",
   "execution_count": 35,
   "id": "566119e7-6e25-4551-800b-2cefb7ad874a",
   "metadata": {},
   "outputs": [
    {
     "data": {
      "text/html": [
       "<div>\n",
       "<style scoped>\n",
       "    .dataframe tbody tr th:only-of-type {\n",
       "        vertical-align: middle;\n",
       "    }\n",
       "\n",
       "    .dataframe tbody tr th {\n",
       "        vertical-align: top;\n",
       "    }\n",
       "\n",
       "    .dataframe thead th {\n",
       "        text-align: right;\n",
       "    }\n",
       "</style>\n",
       "<table border=\"1\" class=\"dataframe\">\n",
       "  <thead>\n",
       "    <tr style=\"text-align: right;\">\n",
       "      <th></th>\n",
       "      <th>place</th>\n",
       "      <th>geometry.type</th>\n",
       "      <th>geometry.coordinates</th>\n",
       "    </tr>\n",
       "  </thead>\n",
       "  <tbody>\n",
       "    <tr>\n",
       "      <th>0</th>\n",
       "      <td>Alaska</td>\n",
       "      <td>Point</td>\n",
       "      <td>[-154.4930619, 63.588753]</td>\n",
       "    </tr>\n",
       "    <tr>\n",
       "      <th>1</th>\n",
       "      <td>Alabama</td>\n",
       "      <td>Point</td>\n",
       "      <td>[-86.902298, 32.3182314]</td>\n",
       "    </tr>\n",
       "    <tr>\n",
       "      <th>2</th>\n",
       "      <td>Arkansas</td>\n",
       "      <td>Point</td>\n",
       "      <td>[-91.8318334, 35.20105]</td>\n",
       "    </tr>\n",
       "    <tr>\n",
       "      <th>3</th>\n",
       "      <td>Arizona</td>\n",
       "      <td>Point</td>\n",
       "      <td>[-111.0937311, 34.0489281]</td>\n",
       "    </tr>\n",
       "    <tr>\n",
       "      <th>4</th>\n",
       "      <td>California</td>\n",
       "      <td>Point</td>\n",
       "      <td>[-119.4179324, 36.778261]</td>\n",
       "    </tr>\n",
       "  </tbody>\n",
       "</table>\n",
       "</div>"
      ],
      "text/plain": [
       "        place geometry.type        geometry.coordinates\n",
       "0      Alaska         Point   [-154.4930619, 63.588753]\n",
       "1     Alabama         Point    [-86.902298, 32.3182314]\n",
       "2    Arkansas         Point     [-91.8318334, 35.20105]\n",
       "3     Arizona         Point  [-111.0937311, 34.0489281]\n",
       "4  California         Point   [-119.4179324, 36.778261]"
      ]
     },
     "execution_count": 35,
     "metadata": {},
     "output_type": "execute_result"
    }
   ],
   "source": [
    "geometry.head()"
   ]
  },
  {
   "cell_type": "code",
   "execution_count": 33,
   "id": "1a91a851-73f6-425e-a280-89d8529ebe4c",
   "metadata": {},
   "outputs": [],
   "source": [
    "geometry.to_csv('Bigfoot_geo.csv',index=False)"
   ]
  },
  {
   "cell_type": "code",
   "execution_count": 17,
   "id": "77c59d45-b6c4-4fbf-97a7-1e22c3a53bb5",
   "metadata": {},
   "outputs": [],
   "source": [
    "merged = df.merge(geometry, left_on='State/Province', right_on='place')"
   ]
  },
  {
   "cell_type": "code",
   "execution_count": 18,
   "id": "2591ed33-a66c-432c-8ca5-c4088ff777b0",
   "metadata": {},
   "outputs": [
    {
     "data": {
      "text/html": [
       "<div>\n",
       "<style scoped>\n",
       "    .dataframe tbody tr th:only-of-type {\n",
       "        vertical-align: middle;\n",
       "    }\n",
       "\n",
       "    .dataframe tbody tr th {\n",
       "        vertical-align: top;\n",
       "    }\n",
       "\n",
       "    .dataframe thead th {\n",
       "        text-align: right;\n",
       "    }\n",
       "</style>\n",
       "<table border=\"1\" class=\"dataframe\">\n",
       "  <thead>\n",
       "    <tr style=\"text-align: right;\">\n",
       "      <th></th>\n",
       "      <th>State/Province</th>\n",
       "      <th># of Listings</th>\n",
       "      <th>Most Recent Report</th>\n",
       "      <th>Last Posted</th>\n",
       "      <th>Link</th>\n",
       "      <th>place</th>\n",
       "      <th>geometry.type</th>\n",
       "      <th>geometry.coordinates</th>\n",
       "    </tr>\n",
       "  </thead>\n",
       "  <tbody>\n",
       "    <tr>\n",
       "      <th>0</th>\n",
       "      <td>Alaska</td>\n",
       "      <td>22</td>\n",
       "      <td>12-2022</td>\n",
       "      <td>5-2022</td>\n",
       "      <td>https://www.bfro.net/GDB/state_listing.asp?sta...</td>\n",
       "      <td>Alaska</td>\n",
       "      <td>Point</td>\n",
       "      <td>[-154.4930619, 63.588753]</td>\n",
       "    </tr>\n",
       "    <tr>\n",
       "      <th>1</th>\n",
       "      <td>Alabama</td>\n",
       "      <td>102</td>\n",
       "      <td>2-2023</td>\n",
       "      <td>2-2023</td>\n",
       "      <td>https://www.bfro.net/GDB/state_listing.asp?sta...</td>\n",
       "      <td>Alabama</td>\n",
       "      <td>Point</td>\n",
       "      <td>[-86.902298, 32.3182314]</td>\n",
       "    </tr>\n",
       "    <tr>\n",
       "      <th>2</th>\n",
       "      <td>Arkansas</td>\n",
       "      <td>111</td>\n",
       "      <td>3-2023</td>\n",
       "      <td>9-2022</td>\n",
       "      <td>https://www.bfro.net/GDB/state_listing.asp?sta...</td>\n",
       "      <td>Arkansas</td>\n",
       "      <td>Point</td>\n",
       "      <td>[-91.8318334, 35.20105]</td>\n",
       "    </tr>\n",
       "    <tr>\n",
       "      <th>3</th>\n",
       "      <td>Arizona</td>\n",
       "      <td>85</td>\n",
       "      <td>6-2021</td>\n",
       "      <td>6-2021</td>\n",
       "      <td>https://www.bfro.net/GDB/state_listing.asp?sta...</td>\n",
       "      <td>Arizona</td>\n",
       "      <td>Point</td>\n",
       "      <td>[-111.0937311, 34.0489281]</td>\n",
       "    </tr>\n",
       "    <tr>\n",
       "      <th>4</th>\n",
       "      <td>California</td>\n",
       "      <td>463</td>\n",
       "      <td>10-2024</td>\n",
       "      <td>10-2024</td>\n",
       "      <td>https://www.bfro.net/GDB/state_listing.asp?sta...</td>\n",
       "      <td>California</td>\n",
       "      <td>Point</td>\n",
       "      <td>[-119.4179324, 36.778261]</td>\n",
       "    </tr>\n",
       "  </tbody>\n",
       "</table>\n",
       "</div>"
      ],
      "text/plain": [
       "  State/Province # of Listings Most Recent Report Last Posted  \\\n",
       "0         Alaska            22            12-2022      5-2022   \n",
       "1        Alabama           102             2-2023      2-2023   \n",
       "2       Arkansas           111             3-2023      9-2022   \n",
       "3        Arizona            85             6-2021      6-2021   \n",
       "4     California           463            10-2024     10-2024   \n",
       "\n",
       "                                                Link       place  \\\n",
       "0  https://www.bfro.net/GDB/state_listing.asp?sta...      Alaska   \n",
       "1  https://www.bfro.net/GDB/state_listing.asp?sta...     Alabama   \n",
       "2  https://www.bfro.net/GDB/state_listing.asp?sta...    Arkansas   \n",
       "3  https://www.bfro.net/GDB/state_listing.asp?sta...     Arizona   \n",
       "4  https://www.bfro.net/GDB/state_listing.asp?sta...  California   \n",
       "\n",
       "  geometry.type        geometry.coordinates  \n",
       "0         Point   [-154.4930619, 63.588753]  \n",
       "1         Point    [-86.902298, 32.3182314]  \n",
       "2         Point     [-91.8318334, 35.20105]  \n",
       "3         Point  [-111.0937311, 34.0489281]  \n",
       "4         Point   [-119.4179324, 36.778261]  "
      ]
     },
     "execution_count": 18,
     "metadata": {},
     "output_type": "execute_result"
    }
   ],
   "source": [
    "merged.head()"
   ]
  },
  {
   "cell_type": "code",
   "execution_count": 21,
   "id": "ba18b2ef-ad42-4009-9dff-b993fc4d6d92",
   "metadata": {},
   "outputs": [],
   "source": [
    "merged.to_csv('geo_coord.csv')"
   ]
  },
  {
   "cell_type": "markdown",
   "id": "126b8fbe-b627-43e9-900c-beafbed98ed5",
   "metadata": {},
   "source": [
    "# Scrape County level data for US"
   ]
  },
  {
   "cell_type": "code",
   "execution_count": 92,
   "id": "5ecef8e5-23c9-425d-be87-adf05c1b849d",
   "metadata": {},
   "outputs": [],
   "source": [
    "us_states = merged[:49]"
   ]
  },
  {
   "cell_type": "code",
   "execution_count": 106,
   "id": "fc93a893-7565-44ab-b7fb-d515fddf187d",
   "metadata": {},
   "outputs": [],
   "source": [
    "data = []\n",
    "base = 'https://www.bfro.net/GDB/'\n",
    "for url in us_states['Link']:\n",
    "    raw_html = requests.get(url).content\n",
    "    html = BeautifulSoup(raw_html,'html.parser')\n",
    "    counties = html.find_all('table')[3].find_all('table')[1].find_all('tr')[0]\n",
    "    for c in counties:\n",
    "        rows = counties.find_all('tr')[1:]\n",
    "        for row in rows:\n",
    "            cols = row.find_all('td')\n",
    "            if len(cols) <4:\n",
    "                continue\n",
    "            county_tag = cols[0].find('a')\n",
    "            if county_tag:\n",
    "                county = county_tag.text\n",
    "                link = base+county_tag.get('href')\n",
    "            else:\n",
    "                county = cols[0].text.strip()\n",
    "                link = None\n",
    "    \n",
    "            num_listings = cols[1].text.strip()\n",
    "            most_recent_report = cols[2].text.strip()\n",
    "            last_posted = cols[3].text.strip()\n",
    "            data.append([county, num_listings, most_recent_report, last_posted,link])"
   ]
  },
  {
   "cell_type": "code",
   "execution_count": 107,
   "id": "66dbdc51-218e-4ce6-a3df-c23dad312053",
   "metadata": {},
   "outputs": [
    {
     "data": {
      "text/html": [
       "<div>\n",
       "<style scoped>\n",
       "    .dataframe tbody tr th:only-of-type {\n",
       "        vertical-align: middle;\n",
       "    }\n",
       "\n",
       "    .dataframe tbody tr th {\n",
       "        vertical-align: top;\n",
       "    }\n",
       "\n",
       "    .dataframe thead th {\n",
       "        text-align: right;\n",
       "    }\n",
       "</style>\n",
       "<table border=\"1\" class=\"dataframe\">\n",
       "  <thead>\n",
       "    <tr style=\"text-align: right;\">\n",
       "      <th></th>\n",
       "      <th>Counties</th>\n",
       "      <th># of Listings</th>\n",
       "      <th>Most Recent Report</th>\n",
       "      <th>Last Posted</th>\n",
       "      <th>Link</th>\n",
       "    </tr>\n",
       "  </thead>\n",
       "  <tbody>\n",
       "    <tr>\n",
       "      <th>0</th>\n",
       "      <td>Aleutian Islands East</td>\n",
       "      <td></td>\n",
       "      <td></td>\n",
       "      <td></td>\n",
       "      <td>None</td>\n",
       "    </tr>\n",
       "    <tr>\n",
       "      <th>1</th>\n",
       "      <td>Aleutian Islands West</td>\n",
       "      <td></td>\n",
       "      <td></td>\n",
       "      <td></td>\n",
       "      <td>None</td>\n",
       "    </tr>\n",
       "    <tr>\n",
       "      <th>2</th>\n",
       "      <td>Anchorage</td>\n",
       "      <td>2</td>\n",
       "      <td>2-2004</td>\n",
       "      <td>11-2005</td>\n",
       "      <td>https://www.bfro.net/GDB/show_county_reports.a...</td>\n",
       "    </tr>\n",
       "    <tr>\n",
       "      <th>3</th>\n",
       "      <td>Angoon</td>\n",
       "      <td></td>\n",
       "      <td></td>\n",
       "      <td></td>\n",
       "      <td>None</td>\n",
       "    </tr>\n",
       "    <tr>\n",
       "      <th>4</th>\n",
       "      <td>Barrow</td>\n",
       "      <td></td>\n",
       "      <td></td>\n",
       "      <td></td>\n",
       "      <td>None</td>\n",
       "    </tr>\n",
       "  </tbody>\n",
       "</table>\n",
       "</div>"
      ],
      "text/plain": [
       "                Counties # of Listings Most Recent Report Last Posted  \\\n",
       "0  Aleutian Islands East                                                \n",
       "1  Aleutian Islands West                                                \n",
       "2              Anchorage             2             2-2004     11-2005   \n",
       "3                 Angoon                                                \n",
       "4                 Barrow                                                \n",
       "\n",
       "                                                Link  \n",
       "0                                               None  \n",
       "1                                               None  \n",
       "2  https://www.bfro.net/GDB/show_county_reports.a...  \n",
       "3                                               None  \n",
       "4                                               None  "
      ]
     },
     "execution_count": 107,
     "metadata": {},
     "output_type": "execute_result"
    }
   ],
   "source": [
    "us_counties = pd.DataFrame(data,columns=[\"Counties\", \"# of Listings\", \"Most Recent Report\", \"Last Posted\",\"Link\"])\n",
    "us_counties.head()"
   ]
  },
  {
   "cell_type": "code",
   "execution_count": 137,
   "id": "dea97a0d-dfb6-4aeb-a00e-0cf3e46ccef9",
   "metadata": {},
   "outputs": [],
   "source": [
    "us_counties.to_csv('us_counties.csv',index= False)"
   ]
  },
  {
   "cell_type": "markdown",
   "id": "1b489a13-20f5-47c8-bf2a-e1e93be99f66",
   "metadata": {},
   "source": [
    "# Scrape Class A/B "
   ]
  },
  {
   "cell_type": "code",
   "execution_count": 140,
   "id": "fc6176bd-3aa0-4ec7-b3c4-e1bb2f5ee738",
   "metadata": {},
   "outputs": [],
   "source": [
    "url = 'https://www.bfro.net/GDB/show_county_reports.asp?state=ak&county=Prince+of+Wales'\n",
    "raw_html = requests.get(url).content\n",
    "html = BeautifulSoup(raw_html,'html.parser')"
   ]
  },
  {
   "cell_type": "code",
   "execution_count": 141,
   "id": "2f13588a-00d1-48c5-a2e1-236668ba708d",
   "metadata": {},
   "outputs": [],
   "source": [
    "county = html.find('h2').text"
   ]
  },
  {
   "cell_type": "code",
   "execution_count": 143,
   "id": "5e9edb74-203b-40e3-81b6-559373d7793d",
   "metadata": {},
   "outputs": [
    {
     "name": "stdout",
     "output_type": "stream",
     "text": [
      "Prince of Wales Borough, Alaska\n"
     ]
    }
   ],
   "source": [
    "print(county)"
   ]
  },
  {
   "cell_type": "code",
   "execution_count": 112,
   "id": "79ee115d-da84-4660-99ce-8a3a6f01d7fd",
   "metadata": {},
   "outputs": [
    {
     "data": {
      "text/plain": [
       "[<li class=\"spaced\"><span class=\"reportcaption\"><b><a href=\"show_report.asp?id=7963\">February 2004</a></b></span> <span class=\"highlighted\">(Class A)</span><span class=\"reportcaption\"> - Sasquatch walks past window of house at night</span>\n",
       " <li class=\"spaced\"><span class=\"reportcaption\"><b><a href=\"show_report.asp?id=8797\">May 2001</a></b></span> <span class=\"highlighted\">(Class B)</span><span class=\"reportcaption\"> - Two boys find footprints on Harris River bank</span>\n",
       " <li class=\"spaced\"><span class=\"reportcaption\"><b><a href=\"show_report.asp?id=2917\">Spring 1995</a></b></span> <span class=\"highlighted\">(Class A)</span><span class=\"reportcaption\"> - Family observes large biped from car</span>\n",
       " </li></li></li>,\n",
       " <li class=\"spaced\"><span class=\"reportcaption\"><b><a href=\"show_report.asp?id=8797\">May 2001</a></b></span> <span class=\"highlighted\">(Class B)</span><span class=\"reportcaption\"> - Two boys find footprints on Harris River bank</span>\n",
       " <li class=\"spaced\"><span class=\"reportcaption\"><b><a href=\"show_report.asp?id=2917\">Spring 1995</a></b></span> <span class=\"highlighted\">(Class A)</span><span class=\"reportcaption\"> - Family observes large biped from car</span>\n",
       " </li></li>,\n",
       " <li class=\"spaced\"><span class=\"reportcaption\"><b><a href=\"show_report.asp?id=2917\">Spring 1995</a></b></span> <span class=\"highlighted\">(Class A)</span><span class=\"reportcaption\"> - Family observes large biped from car</span>\n",
       " </li>]"
      ]
     },
     "execution_count": 112,
     "metadata": {},
     "output_type": "execute_result"
    }
   ],
   "source": [
    "incidents = html.find('ul').find_all('li')\n",
    "incidents"
   ]
  },
  {
   "cell_type": "code",
   "execution_count": 122,
   "id": "60b22ad2-b603-4799-8ca8-14a04d95bca9",
   "metadata": {},
   "outputs": [],
   "source": [
    "counties = us_counties.dropna()['Link']"
   ]
  },
  {
   "cell_type": "code",
   "execution_count": 144,
   "id": "bf609502-08c5-49eb-b5df-98b59c712800",
   "metadata": {},
   "outputs": [
    {
     "name": "stdout",
     "output_type": "stream",
     "text": [
      "<li class=\"spaced\"><span class=\"reportcaption\"><b><a href=\"show_article.asp?id=576\" ttarget=\"_blank\">Hairy Wild Man Sought In Swamp</a></b></span><span class=\"reportcaption\"> (15-Apr-1938; The Oshkosh Northwestern)</span></li> not found.\n",
      "<li class=\"spaced\"><span class=\"reportcaption\"><b><a href=\"show_article.asp?id=576\" ttarget=\"_blank\">Hairy Wild Man Sought In Swamp</a></b></span><span class=\"reportcaption\"> (15-Apr-1938; The Oshkosh Northwestern)</span></li> not found.\n",
      "<li class=\"spaced\"><span class=\"reportcaption\"><b><a href=\"show_article.asp?id=709\" ttarget=\"_blank\">The Legend of the Skunk Ape</a></b></span><span class=\"reportcaption\"> (24-May-2014; WCJB - ABC News)</span></li> not found.\n",
      "<li class=\"spaced\"><span class=\"reportcaption\"><b><a href=\"show_article.asp?id=709\" ttarget=\"_blank\">The Legend of the Skunk Ape</a></b></span><span class=\"reportcaption\"> (24-May-2014; WCJB - ABC News)</span></li> not found.\n",
      "<li class=\"spaced\"><span class=\"reportcaption\"><b><a href=\"show_article.asp?id=711\" ttarget=\"_blank\">In Search of the Skunk Ape</a></b></span><span class=\"reportcaption\"> (2-May-2010; The Valdosta Daily Times)</span></li> not found.\n",
      "<li class=\"spaced\"><span class=\"reportcaption\"><b><a href=\"show_article.asp?id=363\" ttarget=\"_blank\">Tales of Bigfoot legend include sightings in Georgia - even Clarke County</a></b></span><span class=\"reportcaption\"> (13-Dec-2003; Athens Banner-Herald)</span></li> not found.\n",
      "<li class=\"spaced\"><span class=\"reportcaption\"><b><a href=\"show_article.asp?id=626\" ttarget=\"_blank\"> Bigfoot sighting' lures TV network</a></b></span><span class=\"reportcaption\"> (26-Jan-2011; The Dahlonega Nugget)</span></li> not found.\n",
      "<li class=\"spaced\"><span class=\"reportcaption\"><b><a href=\"show_article.asp?id=711\" ttarget=\"_blank\">In Search of the Skunk Ape</a></b></span><span class=\"reportcaption\"> (2-May-2010; The Valdosta Daily Times)</span></li> not found.\n",
      "<li class=\"spaced\"><span class=\"reportcaption\"><b><a href=\"show_article.asp?id=363\" ttarget=\"_blank\">Tales of Bigfoot legend include sightings in Georgia - even Clarke County</a></b></span><span class=\"reportcaption\"> (13-Dec-2003; Athens Banner-Herald)</span></li> not found.\n",
      "<li class=\"spaced\"><span class=\"reportcaption\"><b><a href=\"show_article.asp?id=626\" ttarget=\"_blank\"> Bigfoot sighting' lures TV network</a></b></span><span class=\"reportcaption\"> (26-Jan-2011; The Dahlonega Nugget)</span></li> not found.\n",
      "<li class=\"spaced\"><span class=\"reportcaption\"><b><a href=\"show_article.asp?id=381\" ttarget=\"_blank\">Did 'mean-looking' animal leave Bigfoot-like prints?</a></b></span><span class=\"reportcaption\"> (6-Feb-1980; Des Moines Register)</span></li> not found.\n",
      "<li class=\"spaced\"><span class=\"reportcaption\"><b><a href=\"show_article.asp?id=746\" ttarget=\"_blank\">Tall Hairy Creature Startles Fisherman</a></b></span><span class=\"reportcaption\"> (2-Jun-2018; Okaloosa News)</span></li> not found.\n",
      "<li class=\"spaced\"><span class=\"reportcaption\"><b><a href=\"show_article.asp?id=381\" ttarget=\"_blank\">Did 'mean-looking' animal leave Bigfoot-like prints?</a></b></span><span class=\"reportcaption\"> (6-Feb-1980; Des Moines Register)</span></li> not found.\n",
      "<li class=\"spaced\"><span class=\"reportcaption\"><b><a href=\"show_article.asp?id=746\" ttarget=\"_blank\">Tall Hairy Creature Startles Fisherman</a></b></span><span class=\"reportcaption\"> (2-Jun-2018; Okaloosa News)</span></li> not found.\n",
      "<li class=\"spaced\"><span class=\"reportcaption\"><b><a href=\"show_article.asp?id=570\" ttarget=\"_blank\">An Idaho Story</a></b></span><span class=\"reportcaption\"> (29-Jan-1902; Dubuque Telegraph-Herald)</span></li> not found.\n",
      "<li class=\"spaced\"><span class=\"reportcaption\"><b><a href=\"show_article.asp?id=15\" ttarget=\"_blank\">Two Vicarious Cow Boys See and Chase the Solitary Savage of Snake River</a></b></span><span class=\"reportcaption\"> (1-Nov-1882; (Ft. Benton) River Press,Nov 1 1882)</span></li> not found.\n",
      "<li class=\"spaced\"><span class=\"reportcaption\"><b><a href=\"show_article.asp?id=570\" ttarget=\"_blank\">An Idaho Story</a></b></span><span class=\"reportcaption\"> (29-Jan-1902; Dubuque Telegraph-Herald)</span></li> not found.\n",
      "<li class=\"spaced\"><span class=\"reportcaption\"><b><a href=\"show_article.asp?id=15\" ttarget=\"_blank\">Two Vicarious Cow Boys See and Chase the Solitary Savage of Snake River</a></b></span><span class=\"reportcaption\"> (1-Nov-1882; (Ft. Benton) River Press,Nov 1 1882)</span></li> not found.\n",
      "<li class=\"spaced\"><span class=\"reportcaption\"><b><a href=\"show_article.asp?id=424\" ttarget=\"_blank\">Wildman Lives Alone In Cave</a></b></span><span class=\"reportcaption\"> (2-Feb-1922; New Oxford Item (Pennsylvania))</span></li> not found.\n",
      "<li class=\"spaced\"><span class=\"reportcaption\"><b><a href=\"show_article.asp?id=425\" ttarget=\"_blank\">Creatures Not New</a></b></span><span class=\"reportcaption\"> (2-Aug-1972; Decatur Review)</span></li> not found.\n",
      "<li class=\"spaced\"><span class=\"reportcaption\"><b><a href=\"show_article.asp?id=593\" ttarget=\"_blank\">Illinois Village Now Engaged In Big Gorilla Hunt</a></b></span><span class=\"reportcaption\"> (26-Jul-1929; Middlesboro (KY) Daily News)</span></li> not found.\n",
      "<li class=\"spaced\"><span class=\"reportcaption\"><b><a href=\"show_article.asp?id=430\" ttarget=\"_blank\">Monster Sighted Near Kickapoo </a></b></span><span class=\"reportcaption\"> (9-Aug-1970; Champaign-Urbana  -  News Gazette )</span></li> not found.\n",
      "<li class=\"spaced\"><span class=\"reportcaption\"><b><a href=\"show_article.asp?id=424\" ttarget=\"_blank\">Wildman Lives Alone In Cave</a></b></span><span class=\"reportcaption\"> (2-Feb-1922; New Oxford Item (Pennsylvania))</span></li> not found.\n",
      "<li class=\"spaced\"><span class=\"reportcaption\"><b><a href=\"show_article.asp?id=425\" ttarget=\"_blank\">Creatures Not New</a></b></span><span class=\"reportcaption\"> (2-Aug-1972; Decatur Review)</span></li> not found.\n",
      "<li class=\"spaced\"><span class=\"reportcaption\"><b><a href=\"show_article.asp?id=593\" ttarget=\"_blank\">Illinois Village Now Engaged In Big Gorilla Hunt</a></b></span><span class=\"reportcaption\"> (26-Jul-1929; Middlesboro (KY) Daily News)</span></li> not found.\n",
      "<li class=\"spaced\"><span class=\"reportcaption\"><b><a href=\"show_article.asp?id=430\" ttarget=\"_blank\">Monster Sighted Near Kickapoo </a></b></span><span class=\"reportcaption\"> (9-Aug-1970; Champaign-Urbana  -  News Gazette )</span></li> not found.\n",
      "<li class=\"spaced\"><span class=\"reportcaption\"><b><a href=\"show_article.asp?id=202\" ttarget=\"_blank\">White River Encounters: Area Residents See \"Something Big and Hairy\"</a></b></span><span class=\"reportcaption\"> (6-Oct-1981; The Valley Advance)</span></li> not found.\n",
      "<li class=\"spaced\"><span class=\"reportcaption\"><b><a href=\"show_article.asp?id=203\" ttarget=\"_blank\">Unusual Encounter with Large Hairy Animal </a></b></span><span class=\"reportcaption\"> (1-May-1980; Creature Cronicles)</span></li> not found.\n",
      "<li class=\"spaced\"><span class=\"reportcaption\"><b><a href=\"show_article.asp?id=202\" ttarget=\"_blank\">White River Encounters: Area Residents See \"Something Big and Hairy\"</a></b></span><span class=\"reportcaption\"> (6-Oct-1981; The Valley Advance)</span></li> not found.\n",
      "<li class=\"spaced\"><span class=\"reportcaption\"><b><a href=\"show_article.asp?id=203\" ttarget=\"_blank\">Unusual Encounter with Large Hairy Animal </a></b></span><span class=\"reportcaption\"> (1-May-1980; Creature Cronicles)</span></li> not found.\n",
      "<li class=\"spaced\"><span class=\"reportcaption\"><b><a href=\"show_article.asp?id=80\" ttarget=\"_blank\">Hairy 'Wild Family' Seen, Captured</a></b></span><span class=\"reportcaption\"> (5-Sep-1886; The New York Times)</span></li> not found.\n",
      "<li class=\"spaced\"><span class=\"reportcaption\"><b><a href=\"show_article.asp?id=80\" ttarget=\"_blank\">Hairy 'Wild Family' Seen, Captured</a></b></span><span class=\"reportcaption\"> (5-Sep-1886; The New York Times)</span></li> not found.\n",
      "<li class=\"spaced\"><span class=\"reportcaption\"><b><a href=\"show_article.asp?id=583\" ttarget=\"_blank\">Bigfoot sightings keep the legend alive in Michigan</a></b></span><span class=\"reportcaption\"> (13-Mar-2009; Bay City Opinion)</span></li> not found.\n",
      "<li class=\"spaced\"><span class=\"reportcaption\"><b><a href=\"show_article.asp?id=587\" ttarget=\"_blank\">Bigfoot: Legend or ...</a></b></span><span class=\"reportcaption\"> (30-Oct-2009; Petoskeynews.com)</span></li> not found.\n",
      "<li class=\"spaced\"><span class=\"reportcaption\"><b><a href=\"show_article.asp?id=583\" ttarget=\"_blank\">Bigfoot sightings keep the legend alive in Michigan</a></b></span><span class=\"reportcaption\"> (13-Mar-2009; Bay City Opinion)</span></li> not found.\n",
      "<li class=\"spaced\"><span class=\"reportcaption\"><b><a href=\"show_article.asp?id=587\" ttarget=\"_blank\">Bigfoot: Legend or ...</a></b></span><span class=\"reportcaption\"> (30-Oct-2009; Petoskeynews.com)</span></li> not found.\n",
      "<li class=\"spaced\"><span class=\"reportcaption\"><b><a href=\"show_article.asp?id=82\" ttarget=\"_blank\">'Hairy Creature' Is Being Sought </a></b></span><span class=\"reportcaption\"> (20-Jan-1977; Arkansas Gazette)</span></li> not found.\n",
      "<li class=\"spaced\"><span class=\"reportcaption\"><b><a href=\"show_article.asp?id=727\" ttarget=\"_blank\">\"Big, Hairy Monster\" has Little River Town Excited</a></b></span><span class=\"reportcaption\"> (28-Jul-1972; Tallahassee Democrat)</span></li> not found.\n",
      "<li class=\"spaced\"><span class=\"reportcaption\"><b><a href=\"show_article.asp?id=82\" ttarget=\"_blank\">'Hairy Creature' Is Being Sought </a></b></span><span class=\"reportcaption\"> (20-Jan-1977; Arkansas Gazette)</span></li> not found.\n",
      "<li class=\"spaced\"><span class=\"reportcaption\"><b><a href=\"show_article.asp?id=727\" ttarget=\"_blank\">\"Big, Hairy Monster\" has Little River Town Excited</a></b></span><span class=\"reportcaption\"> (28-Jul-1972; Tallahassee Democrat)</span></li> not found.\n",
      "<li class=\"spaced\"><span class=\"reportcaption\"><b><a href=\"show_article.asp?id=734\" ttarget=\"_blank\">\"Bigfoot\" Type Creature Seen Near Nuke Site</a></b></span><span class=\"reportcaption\"> (22-Jan-1980; Fort Myers News Press)</span></li> not found.\n",
      "<li class=\"spaced\"><span class=\"reportcaption\"><b><a href=\"show_article.asp?id=734\" ttarget=\"_blank\">\"Bigfoot\" Type Creature Seen Near Nuke Site</a></b></span><span class=\"reportcaption\"> (22-Jan-1980; Fort Myers News Press)</span></li> not found.\n",
      "<li class=\"spaced\"><span class=\"reportcaption\"><b><a href=\"show_article.asp?id=81\" ttarget=\"_blank\">Another Wonder</a></b></span><span class=\"reportcaption\"> (6-Sep-1818; Exeter Watchman )</span></li> not found.\n",
      "<li class=\"spaced\"><span class=\"reportcaption\"><b><a href=\"show_article.asp?id=406\" ttarget=\"_blank\">Trashquatch - The Hunt for Staten Island's Bigfoot</a></b></span><span class=\"reportcaption\"> (29-Apr-2003; New York Press)</span></li> not found.\n",
      "<li class=\"spaced\"><span class=\"reportcaption\"><b><a href=\"show_article.asp?id=81\" ttarget=\"_blank\">Another Wonder</a></b></span><span class=\"reportcaption\"> (6-Sep-1818; Exeter Watchman )</span></li> not found.\n",
      "<li class=\"spaced\"><span class=\"reportcaption\"><b><a href=\"show_article.asp?id=406\" ttarget=\"_blank\">Trashquatch - The Hunt for Staten Island's Bigfoot</a></b></span><span class=\"reportcaption\"> (29-Apr-2003; New York Press)</span></li> not found.\n",
      "<li class=\"spaced\"><span class=\"reportcaption\"><b><a href=\"show_article.asp?id=320\" ttarget=\"_blank\">'Bigfoot' Sightings Scare Socks Off Pair </a></b></span><span class=\"reportcaption\"> (24-Jun-1980; Ohio Daily News (Dayton))</span></li> not found.\n",
      "<li class=\"spaced\"><span class=\"reportcaption\"><b><a href=\"show_article.asp?id=320\" ttarget=\"_blank\">'Bigfoot' Sightings Scare Socks Off Pair </a></b></span><span class=\"reportcaption\"> (24-Jun-1980; Ohio Daily News (Dayton))</span></li> not found.\n",
      "<li class=\"spaced\"><span class=\"reportcaption\"><b><a href=\"show_article.asp?id=74\" ttarget=\"_blank\">'Big Foot' Attack Draws Searchers</a></b></span><span class=\"reportcaption\"> (11-Aug-1977; San Antonio News)</span></li> not found.\n",
      "<li class=\"spaced\"><span class=\"reportcaption\"><b><a href=\"show_article.asp?id=76\" ttarget=\"_blank\">Oklahoma Townspeople Wonder if Creature is a 'Bigfoot'</a></b></span><span class=\"reportcaption\"> (15-Apr-1982; The Houston (Texas) Post)</span></li> not found.\n",
      "<li class=\"spaced\"><span class=\"reportcaption\"><b><a href=\"show_article.asp?id=74\" ttarget=\"_blank\">'Big Foot' Attack Draws Searchers</a></b></span><span class=\"reportcaption\"> (11-Aug-1977; San Antonio News)</span></li> not found.\n",
      "<li class=\"spaced\"><span class=\"reportcaption\"><b><a href=\"show_article.asp?id=76\" ttarget=\"_blank\">Oklahoma Townspeople Wonder if Creature is a 'Bigfoot'</a></b></span><span class=\"reportcaption\"> (15-Apr-1982; The Houston (Texas) Post)</span></li> not found.\n",
      "<li class=\"spaced\"><span class=\"reportcaption\"><b><a href=\"show_article.asp?id=25\" ttarget=\"_blank\">South Carolina's Swamp Slob</a></b></span><span class=\"reportcaption\"> (18-Jul-1988; Creature Chronicles)</span></li> not found.\n",
      "<li class=\"spaced\"><span class=\"reportcaption\"><b><a href=\"show_article.asp?id=25\" ttarget=\"_blank\">South Carolina's Swamp Slob</a></b></span><span class=\"reportcaption\"> (18-Jul-1988; Creature Chronicles)</span></li> not found.\n",
      "<li class=\"spaced\"><span class=\"reportcaption\"><b><a href=\"show_article.asp?id=29\" ttarget=\"_blank\">Sasquatch Getting Much Publicity</a></b></span><span class=\"reportcaption\"> (6-Oct-1977; McLaughlin Messenger)</span></li> not found.\n",
      "<li class=\"spaced\"><span class=\"reportcaption\"><b><a href=\"show_article.asp?id=29\" ttarget=\"_blank\">Sasquatch Getting Much Publicity</a></b></span><span class=\"reportcaption\"> (6-Oct-1977; McLaughlin Messenger)</span></li> not found.\n",
      "<li class=\"spaced\"><span class=\"reportcaption\"><b><a href=\"show_article.asp?id=666\" ttarget=\"_blank\">Bigfoot sighting along Neches River?</a></b></span><span class=\"reportcaption\"> (19-Feb-2013; The Port Arthur News)</span></li> not found.\n",
      "<li class=\"spaced\"><span class=\"reportcaption\"><b><a href=\"show_article.asp?id=150\" ttarget=\"_blank\">Wanted: buyer for 228 monkeys at $1,000 a head</a></b></span><span class=\"reportcaption\"> (11-Jan-1979; Seattle Times)</span></li> not found.\n",
      "<li class=\"spaced\"><span class=\"reportcaption\"><b><a href=\"show_article.asp?id=666\" ttarget=\"_blank\">Bigfoot sighting along Neches River?</a></b></span><span class=\"reportcaption\"> (19-Feb-2013; The Port Arthur News)</span></li> not found.\n",
      "<li class=\"spaced\"><span class=\"reportcaption\"><b><a href=\"show_article.asp?id=150\" ttarget=\"_blank\">Wanted: buyer for 228 monkeys at $1,000 a head</a></b></span><span class=\"reportcaption\"> (11-Jan-1979; Seattle Times)</span></li> not found.\n",
      "<li class=\"spaced\"><span class=\"reportcaption\"><b><a href=\"show_article.asp?id=180\" ttarget=\"_blank\">Ersatz Sasquatch Has Feet of Clay, Police Say </a></b></span><span class=\"reportcaption\"> (15-Jul-1997; Washington Post)</span></li> not found.\n",
      "<li class=\"spaced\"><span class=\"reportcaption\"><b><a href=\"show_article.asp?id=703\" ttarget=\"_blank\">Unidentified Animal Spotted this Week</a></b></span><span class=\"reportcaption\"> (9-Sep-2013; The Southwest Times)</span></li> not found.\n",
      "<li class=\"spaced\"><span class=\"reportcaption\"><b><a href=\"show_article.asp?id=180\" ttarget=\"_blank\">Ersatz Sasquatch Has Feet of Clay, Police Say </a></b></span><span class=\"reportcaption\"> (15-Jul-1997; Washington Post)</span></li> not found.\n",
      "<li class=\"spaced\"><span class=\"reportcaption\"><b><a href=\"show_article.asp?id=703\" ttarget=\"_blank\">Unidentified Animal Spotted this Week</a></b></span><span class=\"reportcaption\"> (9-Sep-2013; The Southwest Times)</span></li> not found.\n",
      "<li class=\"spaced\"><span class=\"reportcaption\"><b><a href=\"show_article.asp?id=249\" ttarget=\"_blank\">DNR May Chase Bigfoot</a></b></span><span class=\"reportcaption\"> (11-Nov-1976; Sparta-Monroe (Wisconsin) County Democrat)</span></li> not found.\n",
      "<li class=\"spaced\"><span class=\"reportcaption\"><b><a href=\"show_article.asp?id=660\" ttarget=\"_blank\">FORGET SASQUATCH: GINSENG POACHERS POSE GREATER THREAT</a></b></span><span class=\"reportcaption\"> (12-Sep-2012; The County Line)</span></li> not found.\n",
      "<li class=\"spaced\"><span class=\"reportcaption\"><b><a href=\"show_article.asp?id=249\" ttarget=\"_blank\">DNR May Chase Bigfoot</a></b></span><span class=\"reportcaption\"> (11-Nov-1976; Sparta-Monroe (Wisconsin) County Democrat)</span></li> not found.\n",
      "<li class=\"spaced\"><span class=\"reportcaption\"><b><a href=\"show_article.asp?id=660\" ttarget=\"_blank\">FORGET SASQUATCH: GINSENG POACHERS POSE GREATER THREAT</a></b></span><span class=\"reportcaption\"> (12-Sep-2012; The County Line)</span></li> not found.\n",
      "<li class=\"spaced\"><span class=\"reportcaption\"><b><a href=\"show_article.asp?id=733\" ttarget=\"_blank\">Return of Wildman Revives Old Terrors</a></b></span><span class=\"reportcaption\"> (4-Mar-1919; Tampa Bay Times)</span></li> not found.\n",
      "<li class=\"spaced\"><span class=\"reportcaption\"><b><a href=\"show_article.asp?id=733\" ttarget=\"_blank\">Return of Wildman Revives Old Terrors</a></b></span><span class=\"reportcaption\"> (4-Mar-1919; Tampa Bay Times)</span></li> not found.\n"
     ]
    }
   ],
   "source": [
    "d = []\n",
    "for l in counties:\n",
    "    try:\n",
    "        raw_html = requests.get(l).content\n",
    "        html = BeautifulSoup(raw_html,'html.parser')\n",
    "        county = html.find('h2').text\n",
    "        incidents = html.find('ul').find_all('li')\n",
    "        for i in incidents:\n",
    "            try:\n",
    "                cols = i.find_all('span')\n",
    "                date = cols[0].text\n",
    "                level = cols[1].text\n",
    "                description = cols[2].text\n",
    "                d.append([county, date, level, description])\n",
    "            except:\n",
    "                print(f\"{i} not found.\")\n",
    "    except:\n",
    "            print(f\"{l} not found.\")"
   ]
  },
  {
   "cell_type": "code",
   "execution_count": 145,
   "id": "47318709-6700-4494-9df1-59638980810f",
   "metadata": {},
   "outputs": [],
   "source": [
    "US_classes = pd.DataFrame(d,columns= ['Place','Date','Class','Description'])"
   ]
  },
  {
   "cell_type": "code",
   "execution_count": 146,
   "id": "eebf346a-3b68-47f8-8310-f36db065e9d3",
   "metadata": {},
   "outputs": [],
   "source": [
    "US_classes.to_csv('US_classes.csv',index=False)"
   ]
  },
  {
   "cell_type": "markdown",
   "id": "32824a36-7e06-4008-8403-0d4ffe7727e2",
   "metadata": {},
   "source": [
    "# Scrape the rest"
   ]
  },
  {
   "cell_type": "code",
   "execution_count": 151,
   "id": "b9150bcf-5c12-435e-b886-9a4f70b832cd",
   "metadata": {},
   "outputs": [],
   "source": [
    "rest = merged[49:]"
   ]
  },
  {
   "cell_type": "code",
   "execution_count": 157,
   "id": "d7eff038-c00c-4267-9e93-41dc672e79fb",
   "metadata": {},
   "outputs": [],
   "source": [
    "Links = rest.drop_duplicates()['Link']"
   ]
  },
  {
   "cell_type": "code",
   "execution_count": 158,
   "id": "1955f35c-6647-4d03-96f1-cccdb4c101ca",
   "metadata": {},
   "outputs": [
    {
     "name": "stdout",
     "output_type": "stream",
     "text": [
      "<li class=\"spaced\"><span class=\"reportcaption\"><b><a href=\"show_article.asp?id=407\" ttarget=\"_blank\">Yowie</a></b></span><span class=\"reportcaption\"> (13-Jun-2002; ABC News)</span></li> not found.\n",
      "<li class=\"spaced\"><span class=\"reportcaption\"><b><a href=\"show_article.asp?id=221\" ttarget=\"_blank\">9-foot, Redheaded Vegetarian Stalks China</a></b></span><span class=\"reportcaption\"> (26-Mar-1981; Detroit Free press)</span></li> not found.\n",
      "<li class=\"spaced\"><span class=\"reportcaption\"><b><a href=\"show_article.asp?id=254\" ttarget=\"_blank\">Team 'find traces of Sumatran Yeti'</a></b></span><span class=\"reportcaption\"> (27-Oct-2001; The Times (London, UK))</span></li> not found.\n",
      "<li class=\"spaced\"><span class=\"reportcaption\"><b><a href=\"show_article.asp?id=212\" ttarget=\"_blank\">Malaysian trekkers report fresh footprints of 'Bigfoot'</a></b></span><span class=\"reportcaption\"> (13-Jan-1995; Deseret News)</span></li> not found.\n",
      "<li class=\"spaced\"><span class=\"reportcaption\"><b><a href=\"show_article.asp?id=208\" ttarget=\"_blank\">The Abominable Snowman</a></b></span><span class=\"reportcaption\"> (1-Jan-1950; True Magazine)</span></li> not found.\n",
      "<li class=\"spaced\"><span class=\"reportcaption\"><b><a href=\"show_article.asp?id=209\" ttarget=\"_blank\">Soviet Encounters 'Yeti'</a></b></span><span class=\"reportcaption\"> (17-Mar-1988; New Haven Register (Connecticut))</span></li> not found.\n"
     ]
    }
   ],
   "source": [
    "d = []\n",
    "for l in Links:\n",
    "    try:\n",
    "        raw_html = requests.get(l).content\n",
    "        html = BeautifulSoup(raw_html,'html.parser')\n",
    "        county = html.find('h2').text\n",
    "        incidents = html.find('ul').find_all('li')\n",
    "        for i in incidents:\n",
    "            try:\n",
    "                cols = i.find_all('span')\n",
    "                date = cols[0].text\n",
    "                level = cols[1].text\n",
    "                description = cols[2].text\n",
    "                d.append([county, date, level, description])\n",
    "            except:\n",
    "                print(f\"{i} not found.\")\n",
    "    except:\n",
    "            print(f\"{l} not found.\")"
   ]
  },
  {
   "cell_type": "code",
   "execution_count": 160,
   "id": "9cdc36d5-95e8-4933-96be-d57f6633597c",
   "metadata": {},
   "outputs": [],
   "source": [
    "rest_counties = pd.DataFrame(d,columns=['Place','Date','Class','Description'])"
   ]
  },
  {
   "cell_type": "code",
   "execution_count": 161,
   "id": "0ef68b25-c738-468a-8945-77ab6895ed0d",
   "metadata": {},
   "outputs": [
    {
     "data": {
      "text/html": [
       "<div>\n",
       "<style scoped>\n",
       "    .dataframe tbody tr th:only-of-type {\n",
       "        vertical-align: middle;\n",
       "    }\n",
       "\n",
       "    .dataframe tbody tr th {\n",
       "        vertical-align: top;\n",
       "    }\n",
       "\n",
       "    .dataframe thead th {\n",
       "        text-align: right;\n",
       "    }\n",
       "</style>\n",
       "<table border=\"1\" class=\"dataframe\">\n",
       "  <thead>\n",
       "    <tr style=\"text-align: right;\">\n",
       "      <th></th>\n",
       "      <th>Place</th>\n",
       "      <th>Date</th>\n",
       "      <th>Class</th>\n",
       "      <th>Description</th>\n",
       "    </tr>\n",
       "  </thead>\n",
       "  <tbody>\n",
       "    <tr>\n",
       "      <th>0</th>\n",
       "      <td>Alberta (Canada)</td>\n",
       "      <td>July 2018</td>\n",
       "      <td>(Class B)</td>\n",
       "      <td>- Hiker finds possible tracks in Indian Ridge...</td>\n",
       "    </tr>\n",
       "    <tr>\n",
       "      <th>1</th>\n",
       "      <td>Alberta (Canada)</td>\n",
       "      <td>June 2018</td>\n",
       "      <td>(Class B)</td>\n",
       "      <td>- Retired mail carrier reports sundown knocks...</td>\n",
       "    </tr>\n",
       "    <tr>\n",
       "      <th>2</th>\n",
       "      <td>Alberta (Canada)</td>\n",
       "      <td>September 2016</td>\n",
       "      <td>(Class B)</td>\n",
       "      <td>- Two hunters experience prolonged tree shaki...</td>\n",
       "    </tr>\n",
       "    <tr>\n",
       "      <th>3</th>\n",
       "      <td>Alberta (Canada)</td>\n",
       "      <td>June 2011</td>\n",
       "      <td>(Class A)</td>\n",
       "      <td>- Early morning sighting through binoculars w...</td>\n",
       "    </tr>\n",
       "    <tr>\n",
       "      <th>4</th>\n",
       "      <td>Alberta (Canada)</td>\n",
       "      <td>May 2011</td>\n",
       "      <td>(Class B)</td>\n",
       "      <td>- Possible dusk sighting at Kananaskis campgr...</td>\n",
       "    </tr>\n",
       "  </tbody>\n",
       "</table>\n",
       "</div>"
      ],
      "text/plain": [
       "              Place            Date      Class  \\\n",
       "0  Alberta (Canada)       July 2018  (Class B)   \n",
       "1  Alberta (Canada)       June 2018  (Class B)   \n",
       "2  Alberta (Canada)  September 2016  (Class B)   \n",
       "3  Alberta (Canada)       June 2011  (Class A)   \n",
       "4  Alberta (Canada)        May 2011  (Class B)   \n",
       "\n",
       "                                         Description  \n",
       "0   - Hiker finds possible tracks in Indian Ridge...  \n",
       "1   - Retired mail carrier reports sundown knocks...  \n",
       "2   - Two hunters experience prolonged tree shaki...  \n",
       "3   - Early morning sighting through binoculars w...  \n",
       "4   - Possible dusk sighting at Kananaskis campgr...  "
      ]
     },
     "execution_count": 161,
     "metadata": {},
     "output_type": "execute_result"
    }
   ],
   "source": [
    "rest_counties.head()"
   ]
  },
  {
   "cell_type": "code",
   "execution_count": 162,
   "id": "60eb3517-dade-4204-8778-79893f4e6cc4",
   "metadata": {},
   "outputs": [],
   "source": [
    "all_classes = pd.concat([US_classes, rest_counties], ignore_index=True)"
   ]
  },
  {
   "cell_type": "code",
   "execution_count": 164,
   "id": "78c48f68-1cb7-4c7c-bcf3-4e505d1db3d4",
   "metadata": {},
   "outputs": [
    {
     "data": {
      "text/html": [
       "<div>\n",
       "<style scoped>\n",
       "    .dataframe tbody tr th:only-of-type {\n",
       "        vertical-align: middle;\n",
       "    }\n",
       "\n",
       "    .dataframe tbody tr th {\n",
       "        vertical-align: top;\n",
       "    }\n",
       "\n",
       "    .dataframe thead th {\n",
       "        text-align: right;\n",
       "    }\n",
       "</style>\n",
       "<table border=\"1\" class=\"dataframe\">\n",
       "  <thead>\n",
       "    <tr style=\"text-align: right;\">\n",
       "      <th></th>\n",
       "      <th>Place</th>\n",
       "      <th>Date</th>\n",
       "      <th>Class</th>\n",
       "      <th>Description</th>\n",
       "    </tr>\n",
       "  </thead>\n",
       "  <tbody>\n",
       "    <tr>\n",
       "      <th>count</th>\n",
       "      <td>10687</td>\n",
       "      <td>10687</td>\n",
       "      <td>10687</td>\n",
       "      <td>10687</td>\n",
       "    </tr>\n",
       "    <tr>\n",
       "      <th>unique</th>\n",
       "      <td>1574</td>\n",
       "      <td>1421</td>\n",
       "      <td>82</td>\n",
       "      <td>5504</td>\n",
       "    </tr>\n",
       "    <tr>\n",
       "      <th>top</th>\n",
       "      <td>Pierce County, Washington</td>\n",
       "      <td>July 2006</td>\n",
       "      <td>(Class B)</td>\n",
       "      <td>- Loud vocalizations sounds heard</td>\n",
       "    </tr>\n",
       "    <tr>\n",
       "      <th>freq</th>\n",
       "      <td>158</td>\n",
       "      <td>68</td>\n",
       "      <td>5323</td>\n",
       "      <td>4</td>\n",
       "    </tr>\n",
       "  </tbody>\n",
       "</table>\n",
       "</div>"
      ],
      "text/plain": [
       "                            Place       Date      Class  \\\n",
       "count                       10687      10687      10687   \n",
       "unique                       1574       1421         82   \n",
       "top     Pierce County, Washington  July 2006  (Class B)   \n",
       "freq                          158         68       5323   \n",
       "\n",
       "                               Description  \n",
       "count                                10687  \n",
       "unique                                5504  \n",
       "top      - Loud vocalizations sounds heard  \n",
       "freq                                     4  "
      ]
     },
     "execution_count": 164,
     "metadata": {},
     "output_type": "execute_result"
    }
   ],
   "source": [
    "all_classes.describe()"
   ]
  },
  {
   "cell_type": "code",
   "execution_count": 165,
   "id": "d20900b5-ae3e-474f-b6fe-587cf831849a",
   "metadata": {},
   "outputs": [],
   "source": [
    "all_classes.to_csv('all_classes.csv',index=False)"
   ]
  },
  {
   "cell_type": "code",
   "execution_count": 167,
   "id": "f01cf2ab-1972-4095-9f24-b92576146ebf",
   "metadata": {},
   "outputs": [
    {
     "data": {
      "text/html": [
       "<div>\n",
       "<style scoped>\n",
       "    .dataframe tbody tr th:only-of-type {\n",
       "        vertical-align: middle;\n",
       "    }\n",
       "\n",
       "    .dataframe tbody tr th {\n",
       "        vertical-align: top;\n",
       "    }\n",
       "\n",
       "    .dataframe thead th {\n",
       "        text-align: right;\n",
       "    }\n",
       "</style>\n",
       "<table border=\"1\" class=\"dataframe\">\n",
       "  <thead>\n",
       "    <tr style=\"text-align: right;\">\n",
       "      <th></th>\n",
       "      <th>Place</th>\n",
       "      <th>Date</th>\n",
       "      <th>Class</th>\n",
       "      <th>Description</th>\n",
       "    </tr>\n",
       "  </thead>\n",
       "  <tbody>\n",
       "    <tr>\n",
       "      <th>0</th>\n",
       "      <td>Anchorage Borough, Alaska</td>\n",
       "      <td>February 2004</td>\n",
       "      <td>(Class A)</td>\n",
       "      <td>- Snowmobiler has encounter in deep snow near...</td>\n",
       "    </tr>\n",
       "    <tr>\n",
       "      <th>1</th>\n",
       "      <td>Anchorage Borough, Alaska</td>\n",
       "      <td>December 2003</td>\n",
       "      <td>(Class B)</td>\n",
       "      <td>- Four nocturnal hikers get pelted with snow ...</td>\n",
       "    </tr>\n",
       "    <tr>\n",
       "      <th>2</th>\n",
       "      <td>Bethel Borough, Alaska</td>\n",
       "      <td>September 1998</td>\n",
       "      <td>(Class B)</td>\n",
       "      <td>- Creature observed walking back and forth by...</td>\n",
       "    </tr>\n",
       "    <tr>\n",
       "      <th>3</th>\n",
       "      <td>Bristol Bay Borough, Alaska</td>\n",
       "      <td>July 2004</td>\n",
       "      <td>(Class B)</td>\n",
       "      <td>- Fishermen find footprints east of Egegik.</td>\n",
       "    </tr>\n",
       "    <tr>\n",
       "      <th>4</th>\n",
       "      <td>Cordova-McCarthy Borough, Alaska</td>\n",
       "      <td>June 2000</td>\n",
       "      <td>(Class A)</td>\n",
       "      <td>- Campers' encounter just after dark in the W...</td>\n",
       "    </tr>\n",
       "    <tr>\n",
       "      <th>...</th>\n",
       "      <td>...</td>\n",
       "      <td>...</td>\n",
       "      <td>...</td>\n",
       "      <td>...</td>\n",
       "    </tr>\n",
       "    <tr>\n",
       "      <th>10662</th>\n",
       "      <td>Malaysia (International)</td>\n",
       "      <td>[Investigators in Kota Tinggi]</td>\n",
       "      <td>(22-Feb-2006; New Straits Times)</td>\n",
       "      <td>[Sightings in Endau-Rompin National Park]</td>\n",
       "    </tr>\n",
       "    <tr>\n",
       "      <th>10663</th>\n",
       "      <td>Malaysia (International)</td>\n",
       "      <td>[Sightings in Endau-Rompin National Park]</td>\n",
       "      <td>(20-Feb-2006; Bernama (Malaysia National News...</td>\n",
       "      <td>[Malaysia effort will likely uncover other new...</td>\n",
       "    </tr>\n",
       "    <tr>\n",
       "      <th>10664</th>\n",
       "      <td>Malaysia (International)</td>\n",
       "      <td>[Malaysia effort will likely uncover other new...</td>\n",
       "      <td>(13-Feb-2006; Bernama (Malaysia National News...</td>\n",
       "      <td>[Malaysian] Panel to co-ordinate Bigfoot exp...</td>\n",
       "    </tr>\n",
       "    <tr>\n",
       "      <th>10665</th>\n",
       "      <td>Malaysia (International)</td>\n",
       "      <td>[Malaysian] Panel to co-ordinate Bigfoot exp...</td>\n",
       "      <td>(11-Feb-2006; New Straits Times - Malaysia)</td>\n",
       "      <td>[Malaysia forms official scientific team]</td>\n",
       "    </tr>\n",
       "    <tr>\n",
       "      <th>10666</th>\n",
       "      <td>Malaysia (International)</td>\n",
       "      <td>[Malaysia forms official scientific team]</td>\n",
       "      <td>(27-Jan-2006; CNN International)</td>\n",
       "      <td>[Official investigation in Malaysia -- two tea...</td>\n",
       "    </tr>\n",
       "  </tbody>\n",
       "</table>\n",
       "<p>10667 rows × 4 columns</p>\n",
       "</div>"
      ],
      "text/plain": [
       "                                  Place  \\\n",
       "0             Anchorage Borough, Alaska   \n",
       "1             Anchorage Borough, Alaska   \n",
       "2                Bethel Borough, Alaska   \n",
       "3           Bristol Bay Borough, Alaska   \n",
       "4      Cordova-McCarthy Borough, Alaska   \n",
       "...                                 ...   \n",
       "10662          Malaysia (International)   \n",
       "10663          Malaysia (International)   \n",
       "10664          Malaysia (International)   \n",
       "10665          Malaysia (International)   \n",
       "10666          Malaysia (International)   \n",
       "\n",
       "                                                    Date  \\\n",
       "0                                          February 2004   \n",
       "1                                          December 2003   \n",
       "2                                         September 1998   \n",
       "3                                              July 2004   \n",
       "4                                              June 2000   \n",
       "...                                                  ...   \n",
       "10662                     [Investigators in Kota Tinggi]   \n",
       "10663          [Sightings in Endau-Rompin National Park]   \n",
       "10664  [Malaysia effort will likely uncover other new...   \n",
       "10665  [Malaysian] Panel to co-ordinate Bigfoot exp...   \n",
       "10666          [Malaysia forms official scientific team]   \n",
       "\n",
       "                                                   Class  \\\n",
       "0                                              (Class A)   \n",
       "1                                              (Class B)   \n",
       "2                                              (Class B)   \n",
       "3                                              (Class B)   \n",
       "4                                              (Class A)   \n",
       "...                                                  ...   \n",
       "10662                   (22-Feb-2006; New Straits Times)   \n",
       "10663   (20-Feb-2006; Bernama (Malaysia National News...   \n",
       "10664   (13-Feb-2006; Bernama (Malaysia National News...   \n",
       "10665        (11-Feb-2006; New Straits Times - Malaysia)   \n",
       "10666                   (27-Jan-2006; CNN International)   \n",
       "\n",
       "                                             Description  \n",
       "0       - Snowmobiler has encounter in deep snow near...  \n",
       "1       - Four nocturnal hikers get pelted with snow ...  \n",
       "2       - Creature observed walking back and forth by...  \n",
       "3            - Fishermen find footprints east of Egegik.  \n",
       "4       - Campers' encounter just after dark in the W...  \n",
       "...                                                  ...  \n",
       "10662          [Sightings in Endau-Rompin National Park]  \n",
       "10663  [Malaysia effort will likely uncover other new...  \n",
       "10664  [Malaysian] Panel to co-ordinate Bigfoot exp...  \n",
       "10665          [Malaysia forms official scientific team]  \n",
       "10666  [Official investigation in Malaysia -- two tea...  \n",
       "\n",
       "[10667 rows x 4 columns]"
      ]
     },
     "execution_count": 167,
     "metadata": {},
     "output_type": "execute_result"
    }
   ],
   "source": [
    "all_classes.head(-20)"
   ]
  },
  {
   "cell_type": "markdown",
   "id": "21ff2876-4e99-4564-9610-2399c76af0c7",
   "metadata": {},
   "source": [
    "# clean data"
   ]
  },
  {
   "cell_type": "code",
   "execution_count": 180,
   "id": "a8bb378c-5f00-4cbf-a822-90c13b44a815",
   "metadata": {},
   "outputs": [],
   "source": [
    "dt = all_classes[all_classes['Class'].isin(['(Class A)','(Class B)'])]"
   ]
  },
  {
   "cell_type": "code",
   "execution_count": 182,
   "id": "a6a71ff4-ad23-43f8-bb08-c72e4441532f",
   "metadata": {},
   "outputs": [
    {
     "data": {
      "text/html": [
       "<div>\n",
       "<style scoped>\n",
       "    .dataframe tbody tr th:only-of-type {\n",
       "        vertical-align: middle;\n",
       "    }\n",
       "\n",
       "    .dataframe tbody tr th {\n",
       "        vertical-align: top;\n",
       "    }\n",
       "\n",
       "    .dataframe thead th {\n",
       "        text-align: right;\n",
       "    }\n",
       "</style>\n",
       "<table border=\"1\" class=\"dataframe\">\n",
       "  <thead>\n",
       "    <tr style=\"text-align: right;\">\n",
       "      <th></th>\n",
       "      <th>Place</th>\n",
       "      <th>Date</th>\n",
       "      <th>Class</th>\n",
       "      <th>Description</th>\n",
       "    </tr>\n",
       "  </thead>\n",
       "  <tbody>\n",
       "    <tr>\n",
       "      <th>count</th>\n",
       "      <td>10519</td>\n",
       "      <td>10519</td>\n",
       "      <td>10519</td>\n",
       "      <td>10519</td>\n",
       "    </tr>\n",
       "    <tr>\n",
       "      <th>unique</th>\n",
       "      <td>1554</td>\n",
       "      <td>1332</td>\n",
       "      <td>2</td>\n",
       "      <td>5387</td>\n",
       "    </tr>\n",
       "    <tr>\n",
       "      <th>top</th>\n",
       "      <td>Pierce County, Washington</td>\n",
       "      <td>July 2006</td>\n",
       "      <td>(Class B)</td>\n",
       "      <td>- Loud vocalizations sounds heard</td>\n",
       "    </tr>\n",
       "    <tr>\n",
       "      <th>freq</th>\n",
       "      <td>158</td>\n",
       "      <td>68</td>\n",
       "      <td>5323</td>\n",
       "      <td>4</td>\n",
       "    </tr>\n",
       "  </tbody>\n",
       "</table>\n",
       "</div>"
      ],
      "text/plain": [
       "                            Place       Date      Class  \\\n",
       "count                       10519      10519      10519   \n",
       "unique                       1554       1332          2   \n",
       "top     Pierce County, Washington  July 2006  (Class B)   \n",
       "freq                          158         68       5323   \n",
       "\n",
       "                               Description  \n",
       "count                                10519  \n",
       "unique                                5387  \n",
       "top      - Loud vocalizations sounds heard  \n",
       "freq                                     4  "
      ]
     },
     "execution_count": 182,
     "metadata": {},
     "output_type": "execute_result"
    }
   ],
   "source": [
    "dt.describe()"
   ]
  },
  {
   "cell_type": "code",
   "execution_count": 183,
   "id": "dcdf661b-81a0-47b2-b5c6-cc78ff700015",
   "metadata": {},
   "outputs": [
    {
     "data": {
      "text/html": [
       "<div>\n",
       "<style scoped>\n",
       "    .dataframe tbody tr th:only-of-type {\n",
       "        vertical-align: middle;\n",
       "    }\n",
       "\n",
       "    .dataframe tbody tr th {\n",
       "        vertical-align: top;\n",
       "    }\n",
       "\n",
       "    .dataframe thead th {\n",
       "        text-align: right;\n",
       "    }\n",
       "</style>\n",
       "<table border=\"1\" class=\"dataframe\">\n",
       "  <thead>\n",
       "    <tr style=\"text-align: right;\">\n",
       "      <th></th>\n",
       "      <th>Place</th>\n",
       "      <th>Date</th>\n",
       "      <th>Class</th>\n",
       "      <th>Description</th>\n",
       "    </tr>\n",
       "  </thead>\n",
       "  <tbody>\n",
       "    <tr>\n",
       "      <th>0</th>\n",
       "      <td>Anchorage Borough, Alaska</td>\n",
       "      <td>February 2004</td>\n",
       "      <td>(Class A)</td>\n",
       "      <td>- Snowmobiler has encounter in deep snow near...</td>\n",
       "    </tr>\n",
       "    <tr>\n",
       "      <th>1</th>\n",
       "      <td>Anchorage Borough, Alaska</td>\n",
       "      <td>December 2003</td>\n",
       "      <td>(Class B)</td>\n",
       "      <td>- Four nocturnal hikers get pelted with snow ...</td>\n",
       "    </tr>\n",
       "    <tr>\n",
       "      <th>2</th>\n",
       "      <td>Bethel Borough, Alaska</td>\n",
       "      <td>September 1998</td>\n",
       "      <td>(Class B)</td>\n",
       "      <td>- Creature observed walking back and forth by...</td>\n",
       "    </tr>\n",
       "    <tr>\n",
       "      <th>3</th>\n",
       "      <td>Bristol Bay Borough, Alaska</td>\n",
       "      <td>July 2004</td>\n",
       "      <td>(Class B)</td>\n",
       "      <td>- Fishermen find footprints east of Egegik.</td>\n",
       "    </tr>\n",
       "    <tr>\n",
       "      <th>4</th>\n",
       "      <td>Cordova-McCarthy Borough, Alaska</td>\n",
       "      <td>June 2000</td>\n",
       "      <td>(Class A)</td>\n",
       "      <td>- Campers' encounter just after dark in the W...</td>\n",
       "    </tr>\n",
       "  </tbody>\n",
       "</table>\n",
       "</div>"
      ],
      "text/plain": [
       "                              Place            Date      Class  \\\n",
       "0         Anchorage Borough, Alaska   February 2004  (Class A)   \n",
       "1         Anchorage Borough, Alaska   December 2003  (Class B)   \n",
       "2            Bethel Borough, Alaska  September 1998  (Class B)   \n",
       "3       Bristol Bay Borough, Alaska       July 2004  (Class B)   \n",
       "4  Cordova-McCarthy Borough, Alaska       June 2000  (Class A)   \n",
       "\n",
       "                                         Description  \n",
       "0   - Snowmobiler has encounter in deep snow near...  \n",
       "1   - Four nocturnal hikers get pelted with snow ...  \n",
       "2   - Creature observed walking back and forth by...  \n",
       "3        - Fishermen find footprints east of Egegik.  \n",
       "4   - Campers' encounter just after dark in the W...  "
      ]
     },
     "execution_count": 183,
     "metadata": {},
     "output_type": "execute_result"
    }
   ],
   "source": [
    "dt.head()"
   ]
  },
  {
   "cell_type": "code",
   "execution_count": 188,
   "id": "c49c36c9-5329-4485-9887-747e07a34d21",
   "metadata": {},
   "outputs": [],
   "source": [
    "import re\n",
    "y = r\"(\\b\\d{4})\""
   ]
  },
  {
   "cell_type": "code",
   "execution_count": 189,
   "id": "eabe87e9-7b5b-477d-8897-79211a10622a",
   "metadata": {},
   "outputs": [],
   "source": [
    "years = dt['Date'].str.extract(y)\n",
    "dt['Year'] = years"
   ]
  },
  {
   "cell_type": "code",
   "execution_count": 194,
   "id": "ca2b6396-32e4-4d84-94c6-5a05327fb170",
   "metadata": {},
   "outputs": [],
   "source": [
    "c = r\"[(](Class \\w)[)]\"\n",
    "classes = dt['Class'].str.extract(c)\n",
    "dt['Class'] = classes"
   ]
  },
  {
   "cell_type": "code",
   "execution_count": 202,
   "id": "aacacd0b-8cbc-4306-b7da-8fbbc7abed26",
   "metadata": {},
   "outputs": [],
   "source": [
    "Place = dt['Place'].str.replace(r\"[()]\", \"\", regex=True)\n",
    "dt['Place'] = Place"
   ]
  },
  {
   "cell_type": "code",
   "execution_count": 205,
   "id": "da945ac5-0c20-450d-997d-eb967840afc7",
   "metadata": {},
   "outputs": [
    {
     "data": {
      "text/html": [
       "<div>\n",
       "<style scoped>\n",
       "    .dataframe tbody tr th:only-of-type {\n",
       "        vertical-align: middle;\n",
       "    }\n",
       "\n",
       "    .dataframe tbody tr th {\n",
       "        vertical-align: top;\n",
       "    }\n",
       "\n",
       "    .dataframe thead th {\n",
       "        text-align: right;\n",
       "    }\n",
       "</style>\n",
       "<table border=\"1\" class=\"dataframe\">\n",
       "  <thead>\n",
       "    <tr style=\"text-align: right;\">\n",
       "      <th></th>\n",
       "      <th>Place</th>\n",
       "      <th>Date</th>\n",
       "      <th>Class</th>\n",
       "      <th>Description</th>\n",
       "      <th>Year</th>\n",
       "    </tr>\n",
       "  </thead>\n",
       "  <tbody>\n",
       "    <tr>\n",
       "      <th>0</th>\n",
       "      <td>Anchorage Borough, Alaska</td>\n",
       "      <td>February 2004</td>\n",
       "      <td>Class A</td>\n",
       "      <td>- Snowmobiler has encounter in deep snow near...</td>\n",
       "      <td>2004</td>\n",
       "    </tr>\n",
       "    <tr>\n",
       "      <th>1</th>\n",
       "      <td>Anchorage Borough, Alaska</td>\n",
       "      <td>December 2003</td>\n",
       "      <td>Class B</td>\n",
       "      <td>- Four nocturnal hikers get pelted with snow ...</td>\n",
       "      <td>2003</td>\n",
       "    </tr>\n",
       "    <tr>\n",
       "      <th>2</th>\n",
       "      <td>Bethel Borough, Alaska</td>\n",
       "      <td>September 1998</td>\n",
       "      <td>Class B</td>\n",
       "      <td>- Creature observed walking back and forth by...</td>\n",
       "      <td>1998</td>\n",
       "    </tr>\n",
       "    <tr>\n",
       "      <th>3</th>\n",
       "      <td>Bristol Bay Borough, Alaska</td>\n",
       "      <td>July 2004</td>\n",
       "      <td>Class B</td>\n",
       "      <td>- Fishermen find footprints east of Egegik.</td>\n",
       "      <td>2004</td>\n",
       "    </tr>\n",
       "    <tr>\n",
       "      <th>4</th>\n",
       "      <td>Cordova-McCarthy Borough, Alaska</td>\n",
       "      <td>June 2000</td>\n",
       "      <td>Class A</td>\n",
       "      <td>- Campers' encounter just after dark in the W...</td>\n",
       "      <td>2000</td>\n",
       "    </tr>\n",
       "  </tbody>\n",
       "</table>\n",
       "</div>"
      ],
      "text/plain": [
       "                              Place            Date    Class  \\\n",
       "0         Anchorage Borough, Alaska   February 2004  Class A   \n",
       "1         Anchorage Borough, Alaska   December 2003  Class B   \n",
       "2            Bethel Borough, Alaska  September 1998  Class B   \n",
       "3       Bristol Bay Borough, Alaska       July 2004  Class B   \n",
       "4  Cordova-McCarthy Borough, Alaska       June 2000  Class A   \n",
       "\n",
       "                                         Description  Year  \n",
       "0   - Snowmobiler has encounter in deep snow near...  2004  \n",
       "1   - Four nocturnal hikers get pelted with snow ...  2003  \n",
       "2   - Creature observed walking back and forth by...  1998  \n",
       "3        - Fishermen find footprints east of Egegik.  2004  \n",
       "4   - Campers' encounter just after dark in the W...  2000  "
      ]
     },
     "execution_count": 205,
     "metadata": {},
     "output_type": "execute_result"
    }
   ],
   "source": [
    "dt.head()"
   ]
  },
  {
   "cell_type": "code",
   "execution_count": 216,
   "id": "ea9e0331-3d4c-4be4-9e4f-156b17dc3ef4",
   "metadata": {},
   "outputs": [
    {
     "data": {
      "text/html": [
       "<div>\n",
       "<style scoped>\n",
       "    .dataframe tbody tr th:only-of-type {\n",
       "        vertical-align: middle;\n",
       "    }\n",
       "\n",
       "    .dataframe tbody tr th {\n",
       "        vertical-align: top;\n",
       "    }\n",
       "\n",
       "    .dataframe thead th {\n",
       "        text-align: right;\n",
       "    }\n",
       "</style>\n",
       "<table border=\"1\" class=\"dataframe\">\n",
       "  <thead>\n",
       "    <tr style=\"text-align: right;\">\n",
       "      <th></th>\n",
       "      <th>Class</th>\n",
       "      <th>Year</th>\n",
       "    </tr>\n",
       "  </thead>\n",
       "  <tbody>\n",
       "    <tr>\n",
       "      <th>0</th>\n",
       "      <td>Class A</td>\n",
       "      <td>2004</td>\n",
       "    </tr>\n",
       "    <tr>\n",
       "      <th>1</th>\n",
       "      <td>Class B</td>\n",
       "      <td>2003</td>\n",
       "    </tr>\n",
       "    <tr>\n",
       "      <th>2</th>\n",
       "      <td>Class B</td>\n",
       "      <td>1998</td>\n",
       "    </tr>\n",
       "    <tr>\n",
       "      <th>3</th>\n",
       "      <td>Class B</td>\n",
       "      <td>2004</td>\n",
       "    </tr>\n",
       "    <tr>\n",
       "      <th>4</th>\n",
       "      <td>Class A</td>\n",
       "      <td>2000</td>\n",
       "    </tr>\n",
       "    <tr>\n",
       "      <th>...</th>\n",
       "      <td>...</td>\n",
       "      <td>...</td>\n",
       "    </tr>\n",
       "    <tr>\n",
       "      <th>10622</th>\n",
       "      <td>Class B</td>\n",
       "      <td>2001</td>\n",
       "    </tr>\n",
       "    <tr>\n",
       "      <th>10623</th>\n",
       "      <td>Class B</td>\n",
       "      <td>1995</td>\n",
       "    </tr>\n",
       "    <tr>\n",
       "      <th>10624</th>\n",
       "      <td>Class A</td>\n",
       "      <td>1992</td>\n",
       "    </tr>\n",
       "    <tr>\n",
       "      <th>10625</th>\n",
       "      <td>Class B</td>\n",
       "      <td>1995</td>\n",
       "    </tr>\n",
       "    <tr>\n",
       "      <th>10626</th>\n",
       "      <td>Class A</td>\n",
       "      <td>1978</td>\n",
       "    </tr>\n",
       "  </tbody>\n",
       "</table>\n",
       "<p>10519 rows × 2 columns</p>\n",
       "</div>"
      ],
      "text/plain": [
       "         Class  Year\n",
       "0      Class A  2004\n",
       "1      Class B  2003\n",
       "2      Class B  1998\n",
       "3      Class B  2004\n",
       "4      Class A  2000\n",
       "...        ...   ...\n",
       "10622  Class B  2001\n",
       "10623  Class B  1995\n",
       "10624  Class A  1992\n",
       "10625  Class B  1995\n",
       "10626  Class A  1978\n",
       "\n",
       "[10519 rows x 2 columns]"
      ]
     },
     "execution_count": 216,
     "metadata": {},
     "output_type": "execute_result"
    }
   ],
   "source": [
    "d = dt[['Class','Year']]\n",
    "d"
   ]
  },
  {
   "cell_type": "code",
   "execution_count": 224,
   "id": "e67a7ed4-f7b8-400f-9e5d-014b60f7a7f1",
   "metadata": {},
   "outputs": [],
   "source": [
    "d.groupby('Year')['Class'].value_counts()"
   ]
  },
  {
   "cell_type": "code",
   "execution_count": 226,
   "id": "6fde022a-6124-4536-b116-47be412c07d6",
   "metadata": {},
   "outputs": [],
   "source": [
    "d.groupby('Year')['Class'].value_counts().unstack().to_clipboard()"
   ]
  },
  {
   "cell_type": "markdown",
   "id": "a98268be-7ac4-488e-82e8-227d482e6848",
   "metadata": {},
   "source": [
    "# Find coord for all_classes"
   ]
  },
  {
   "cell_type": "code",
   "execution_count": 347,
   "id": "23172d9e-e660-4528-9c75-d87106835935",
   "metadata": {},
   "outputs": [],
   "source": [
    "import time"
   ]
  },
  {
   "cell_type": "code",
   "execution_count": 316,
   "id": "1144619e-5ff2-4ec2-a3c0-f6233457c994",
   "metadata": {},
   "outputs": [],
   "source": [
    "points = dt['Place']"
   ]
  },
  {
   "cell_type": "code",
   "execution_count": 340,
   "id": "8d067da6-898e-44ed-a226-23262d136403",
   "metadata": {},
   "outputs": [],
   "source": [
    "load_dotenv()\n",
    "api_key = os.environ.get('GMAP_API')"
   ]
  },
  {
   "cell_type": "code",
   "execution_count": 349,
   "id": "3b996987-9eb8-4bf2-b948-c4a87bf4a157",
   "metadata": {},
   "outputs": [],
   "source": [
    "geometry_dt = []\n",
    "#looping through the placeNames list\n",
    "for place in points:\n",
    "    url = 'https://maps.googleapis.com/maps/api/geocode/json'\n",
    "    keys = {'address': place, 'key': api_key}\n",
    "    r = requests.get(url,params=keys)\n",
    "    result_dic = r.json()\n",
    "    if 'results' in result_dic and len(result_dic['results']) > 0:\n",
    "        lat = result_dic['results'][0]['geometry']['location']['lat']\n",
    "        long = result_dic['results'][0]['geometry']['location']['lng']\n",
    "        coords = str(lat) + ', ' + str(long)\n",
    "        mygeometry = {'place': place, 'geometry.type': 'Point','geometry.coordinates':coords,'lat':lat,'long':long}\n",
    "        geometry_dt.append(mygeometry)\n",
    "    else:\n",
    "        print(\"No results found. Check your query or API key.\")\n",
    "    continue\n",
    "    time.sleep(0.5)"
   ]
  },
  {
   "cell_type": "code",
   "execution_count": 352,
   "id": "7071f35d-7432-459a-99b3-fbc7643858a6",
   "metadata": {},
   "outputs": [
    {
     "data": {
      "text/html": [
       "<div>\n",
       "<style scoped>\n",
       "    .dataframe tbody tr th:only-of-type {\n",
       "        vertical-align: middle;\n",
       "    }\n",
       "\n",
       "    .dataframe tbody tr th {\n",
       "        vertical-align: top;\n",
       "    }\n",
       "\n",
       "    .dataframe thead th {\n",
       "        text-align: right;\n",
       "    }\n",
       "</style>\n",
       "<table border=\"1\" class=\"dataframe\">\n",
       "  <thead>\n",
       "    <tr style=\"text-align: right;\">\n",
       "      <th></th>\n",
       "      <th>place</th>\n",
       "      <th>geometry.type</th>\n",
       "      <th>geometry.coordinates</th>\n",
       "      <th>lat</th>\n",
       "      <th>long</th>\n",
       "    </tr>\n",
       "  </thead>\n",
       "  <tbody>\n",
       "    <tr>\n",
       "      <th>0</th>\n",
       "      <td>Anchorage Borough, Alaska</td>\n",
       "      <td>Point</td>\n",
       "      <td>61.2175758, -149.8996785</td>\n",
       "      <td>61.217576</td>\n",
       "      <td>-149.899678</td>\n",
       "    </tr>\n",
       "    <tr>\n",
       "      <th>1</th>\n",
       "      <td>Anchorage Borough, Alaska</td>\n",
       "      <td>Point</td>\n",
       "      <td>61.2175758, -149.8996785</td>\n",
       "      <td>61.217576</td>\n",
       "      <td>-149.899678</td>\n",
       "    </tr>\n",
       "    <tr>\n",
       "      <th>2</th>\n",
       "      <td>Bethel Borough, Alaska</td>\n",
       "      <td>Point</td>\n",
       "      <td>60.79425899999999, -161.7694402</td>\n",
       "      <td>60.794259</td>\n",
       "      <td>-161.769440</td>\n",
       "    </tr>\n",
       "    <tr>\n",
       "      <th>3</th>\n",
       "      <td>Bristol Bay Borough, Alaska</td>\n",
       "      <td>Point</td>\n",
       "      <td>58.7578504, -156.7792687</td>\n",
       "      <td>58.757850</td>\n",
       "      <td>-156.779269</td>\n",
       "    </tr>\n",
       "    <tr>\n",
       "      <th>4</th>\n",
       "      <td>Cordova-McCarthy Borough, Alaska</td>\n",
       "      <td>Point</td>\n",
       "      <td>60.5424087, -145.7525414</td>\n",
       "      <td>60.542409</td>\n",
       "      <td>-145.752541</td>\n",
       "    </tr>\n",
       "  </tbody>\n",
       "</table>\n",
       "</div>"
      ],
      "text/plain": [
       "                              place geometry.type  \\\n",
       "0         Anchorage Borough, Alaska         Point   \n",
       "1         Anchorage Borough, Alaska         Point   \n",
       "2            Bethel Borough, Alaska         Point   \n",
       "3       Bristol Bay Borough, Alaska         Point   \n",
       "4  Cordova-McCarthy Borough, Alaska         Point   \n",
       "\n",
       "              geometry.coordinates        lat        long  \n",
       "0         61.2175758, -149.8996785  61.217576 -149.899678  \n",
       "1         61.2175758, -149.8996785  61.217576 -149.899678  \n",
       "2  60.79425899999999, -161.7694402  60.794259 -161.769440  \n",
       "3         58.7578504, -156.7792687  58.757850 -156.779269  \n",
       "4         60.5424087, -145.7525414  60.542409 -145.752541  "
      ]
     },
     "execution_count": 352,
     "metadata": {},
     "output_type": "execute_result"
    }
   ],
   "source": [
    "county_geo = pd.DataFrame(geometry_dt)\n",
    "county_geo.head()"
   ]
  },
  {
   "cell_type": "markdown",
   "id": "8580baa7-b8a1-4494-b2c1-bbc583b411e2",
   "metadata": {},
   "source": [
    "## Find Elevation"
   ]
  },
  {
   "cell_type": "code",
   "execution_count": 402,
   "id": "bfa35240-1721-43a3-8286-5f5723c3b6fd",
   "metadata": {},
   "outputs": [
    {
     "name": "stdout",
     "output_type": "stream",
     "text": [
      "Requirement already satisfied: python-dotenv in /Users/yirenlu/.pyenv/versions/3.12.7/lib/python3.12/site-packages (1.0.1)\n",
      "\n",
      "\u001b[1m[\u001b[0m\u001b[34;49mnotice\u001b[0m\u001b[1;39;49m]\u001b[0m\u001b[39;49m A new release of pip is available: \u001b[0m\u001b[31;49m24.3.1\u001b[0m\u001b[39;49m -> \u001b[0m\u001b[32;49m25.0.1\u001b[0m\n",
      "\u001b[1m[\u001b[0m\u001b[34;49mnotice\u001b[0m\u001b[1;39;49m]\u001b[0m\u001b[39;49m To update, run: \u001b[0m\u001b[32;49m/Users/yirenlu/.pyenv/versions/3.12.7/bin/python -m pip install --upgrade pip\u001b[0m\n",
      "Note: you may need to restart the kernel to use updated packages.\n"
     ]
    }
   ],
   "source": [
    "pip install python-dotenv"
   ]
  },
  {
   "cell_type": "code",
   "execution_count": 407,
   "id": "444d41a7-f5f7-4053-af6c-2b437506708a",
   "metadata": {},
   "outputs": [],
   "source": [
    "coords = county_geo['geometry.coordinates']"
   ]
  },
  {
   "cell_type": "code",
   "execution_count": 408,
   "id": "00b3ace8-a6ff-48a4-91fa-9c9b411a32a7",
   "metadata": {},
   "outputs": [
    {
     "data": {
      "text/plain": [
       "True"
      ]
     },
     "execution_count": 408,
     "metadata": {},
     "output_type": "execute_result"
    }
   ],
   "source": [
    "from dotenv import load_dotenv\n",
    "import os\n",
    "load_dotenv()"
   ]
  },
  {
   "cell_type": "code",
   "execution_count": 413,
   "id": "a6a0ded6-f445-47dd-9478-8b6a4b1263e4",
   "metadata": {},
   "outputs": [],
   "source": [
    "key = os.getenv('ElEVATION_API')"
   ]
  },
  {
   "cell_type": "code",
   "execution_count": 416,
   "id": "52b6b7d6-0acf-49cd-909b-bcb16bd6b99b",
   "metadata": {},
   "outputs": [],
   "source": [
    "elevation = []\n",
    "#looping through the placeNames list\n",
    "for place in coords:\n",
    "    url = 'https://maps.googleapis.com/maps/api/elevation/json'\n",
    "    keys = {'locations': place, 'key': key}\n",
    "    r = requests.get(url,params=keys)\n",
    "    result_dic = r.json()\n",
    "    if 'results' in result_dic and len(result_dic['results']) > 0:\n",
    "        elev = result_dic['results'][0]['elevation']\n",
    "        elevation.append(elev)\n",
    "    else:\n",
    "        print(\"No results found. Check your query or API key.\")\n",
    "    continue\n",
    "    time.sleep(0.5)"
   ]
  },
  {
   "cell_type": "code",
   "execution_count": 418,
   "id": "385371fb-5523-4a46-b0b9-27de6603d9d3",
   "metadata": {},
   "outputs": [],
   "source": [
    "county_geo['elevation'] = elevation"
   ]
  },
  {
   "cell_type": "code",
   "execution_count": 421,
   "id": "cc4e4cb0-a947-457b-b94c-0dc154f97926",
   "metadata": {},
   "outputs": [],
   "source": [
    "county_geo = county_geo.merge(dt,right_on = 'Place',left_on = 'place')"
   ]
  },
  {
   "cell_type": "code",
   "execution_count": 423,
   "id": "3d91f1f8-57e4-448d-be7a-d4097038c147",
   "metadata": {},
   "outputs": [
    {
     "data": {
      "text/html": [
       "<div>\n",
       "<style scoped>\n",
       "    .dataframe tbody tr th:only-of-type {\n",
       "        vertical-align: middle;\n",
       "    }\n",
       "\n",
       "    .dataframe tbody tr th {\n",
       "        vertical-align: top;\n",
       "    }\n",
       "\n",
       "    .dataframe thead th {\n",
       "        text-align: right;\n",
       "    }\n",
       "</style>\n",
       "<table border=\"1\" class=\"dataframe\">\n",
       "  <thead>\n",
       "    <tr style=\"text-align: right;\">\n",
       "      <th></th>\n",
       "      <th>place</th>\n",
       "      <th>geometry.type</th>\n",
       "      <th>geometry.coordinates</th>\n",
       "      <th>lat</th>\n",
       "      <th>long</th>\n",
       "      <th>elevation</th>\n",
       "      <th>Place</th>\n",
       "      <th>Date</th>\n",
       "      <th>Class</th>\n",
       "      <th>Description</th>\n",
       "      <th>Year</th>\n",
       "    </tr>\n",
       "  </thead>\n",
       "  <tbody>\n",
       "    <tr>\n",
       "      <th>0</th>\n",
       "      <td>Allen Parish, Louisiana</td>\n",
       "      <td>Point</td>\n",
       "      <td>30.5887484, -92.8577105</td>\n",
       "      <td>30.588748</td>\n",
       "      <td>-92.857710</td>\n",
       "      <td>12.051091</td>\n",
       "      <td>Allen Parish, Louisiana</td>\n",
       "      <td>October 1980</td>\n",
       "      <td>Class B</td>\n",
       "      <td>- While hunting with his dog, a hunter observ...</td>\n",
       "      <td>1980</td>\n",
       "    </tr>\n",
       "    <tr>\n",
       "      <th>1</th>\n",
       "      <td>Allen Parish, Louisiana</td>\n",
       "      <td>Point</td>\n",
       "      <td>30.5887484, -92.8577105</td>\n",
       "      <td>30.588748</td>\n",
       "      <td>-92.857710</td>\n",
       "      <td>12.051091</td>\n",
       "      <td>Allen Parish, Louisiana</td>\n",
       "      <td>October 1980</td>\n",
       "      <td>Class B</td>\n",
       "      <td>- While hunting with his dog, a hunter observ...</td>\n",
       "      <td>1980</td>\n",
       "    </tr>\n",
       "    <tr>\n",
       "      <th>2</th>\n",
       "      <td>Ascension Parish, Louisiana</td>\n",
       "      <td>Point</td>\n",
       "      <td>30.2017295, -90.9438468</td>\n",
       "      <td>30.201729</td>\n",
       "      <td>-90.943847</td>\n",
       "      <td>2.743345</td>\n",
       "      <td>Ascension Parish, Louisiana</td>\n",
       "      <td>October 2000</td>\n",
       "      <td>Class A</td>\n",
       "      <td>- Early evening sighting by motorist near Sor...</td>\n",
       "      <td>2000</td>\n",
       "    </tr>\n",
       "    <tr>\n",
       "      <th>3</th>\n",
       "      <td>Ascension Parish, Louisiana</td>\n",
       "      <td>Point</td>\n",
       "      <td>30.2017295, -90.9438468</td>\n",
       "      <td>30.201729</td>\n",
       "      <td>-90.943847</td>\n",
       "      <td>2.743345</td>\n",
       "      <td>Ascension Parish, Louisiana</td>\n",
       "      <td>October 2000</td>\n",
       "      <td>Class A</td>\n",
       "      <td>- Early evening sighting by motorist near Sor...</td>\n",
       "      <td>2000</td>\n",
       "    </tr>\n",
       "    <tr>\n",
       "      <th>4</th>\n",
       "      <td>Avoyelles Parish, Louisiana</td>\n",
       "      <td>Point</td>\n",
       "      <td>30.9711824, -92.0665197</td>\n",
       "      <td>30.971182</td>\n",
       "      <td>-92.066520</td>\n",
       "      <td>15.280701</td>\n",
       "      <td>Avoyelles Parish, Louisiana</td>\n",
       "      <td>Fall 1925</td>\n",
       "      <td>Class B</td>\n",
       "      <td>- Woman recounts a tale her Grandfather told ...</td>\n",
       "      <td>1925</td>\n",
       "    </tr>\n",
       "  </tbody>\n",
       "</table>\n",
       "</div>"
      ],
      "text/plain": [
       "                         place geometry.type     geometry.coordinates  \\\n",
       "0      Allen Parish, Louisiana         Point  30.5887484, -92.8577105   \n",
       "1      Allen Parish, Louisiana         Point  30.5887484, -92.8577105   \n",
       "2  Ascension Parish, Louisiana         Point  30.2017295, -90.9438468   \n",
       "3  Ascension Parish, Louisiana         Point  30.2017295, -90.9438468   \n",
       "4  Avoyelles Parish, Louisiana         Point  30.9711824, -92.0665197   \n",
       "\n",
       "         lat       long  elevation                        Place          Date  \\\n",
       "0  30.588748 -92.857710  12.051091      Allen Parish, Louisiana  October 1980   \n",
       "1  30.588748 -92.857710  12.051091      Allen Parish, Louisiana  October 1980   \n",
       "2  30.201729 -90.943847   2.743345  Ascension Parish, Louisiana  October 2000   \n",
       "3  30.201729 -90.943847   2.743345  Ascension Parish, Louisiana  October 2000   \n",
       "4  30.971182 -92.066520  15.280701  Avoyelles Parish, Louisiana     Fall 1925   \n",
       "\n",
       "     Class                                        Description  Year  \n",
       "0  Class B   - While hunting with his dog, a hunter observ...  1980  \n",
       "1  Class B   - While hunting with his dog, a hunter observ...  1980  \n",
       "2  Class A   - Early evening sighting by motorist near Sor...  2000  \n",
       "3  Class A   - Early evening sighting by motorist near Sor...  2000  \n",
       "4  Class B   - Woman recounts a tale her Grandfather told ...  1925  "
      ]
     },
     "execution_count": 423,
     "metadata": {},
     "output_type": "execute_result"
    }
   ],
   "source": [
    "county_geo.head()"
   ]
  },
  {
   "cell_type": "code",
   "execution_count": 425,
   "id": "5603643e-ef3a-4617-8fc0-3fda53c52096",
   "metadata": {},
   "outputs": [],
   "source": [
    "class_plot = county_geo[['Place','Class','lat','long']]"
   ]
  },
  {
   "cell_type": "code",
   "execution_count": 427,
   "id": "4712efd1-c6a8-4c9d-9d9e-73edcc0754c3",
   "metadata": {},
   "outputs": [],
   "source": [
    "class_plot.to_clipboard()"
   ]
  },
  {
   "cell_type": "code",
   "execution_count": null,
   "id": "191b2eb7-abc4-463a-9e88-e2d90b676f44",
   "metadata": {},
   "outputs": [],
   "source": []
  }
 ],
 "metadata": {
  "kernelspec": {
   "display_name": "Python 3 (ipykernel)",
   "language": "python",
   "name": "python3"
  },
  "language_info": {
   "codemirror_mode": {
    "name": "ipython",
    "version": 3
   },
   "file_extension": ".py",
   "mimetype": "text/x-python",
   "name": "python",
   "nbconvert_exporter": "python",
   "pygments_lexer": "ipython3",
   "version": "3.12.7"
  }
 },
 "nbformat": 4,
 "nbformat_minor": 5
}
